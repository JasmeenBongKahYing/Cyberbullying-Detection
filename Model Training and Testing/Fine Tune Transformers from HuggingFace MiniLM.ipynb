{
 "cells": [
  {
   "cell_type": "markdown",
   "id": "a0aff953",
   "metadata": {
    "id": "a0aff953"
   },
   "source": [
    "# Fine Tune Transformers from HuggingFace MiniLM"
   ]
  },
  {
   "cell_type": "markdown",
   "id": "2ed8dcc9",
   "metadata": {},
   "source": [
    "**Note: This notebook is run in Paperspace platform**"
   ]
  },
  {
   "cell_type": "code",
   "execution_count": 1,
   "id": "OItEYDmL1hi2",
   "metadata": {
    "execution": {
     "iopub.execute_input": "2023-08-13T16:16:22.757217Z",
     "iopub.status.busy": "2023-08-13T16:16:22.756746Z",
     "iopub.status.idle": "2023-08-13T16:16:31.995172Z",
     "shell.execute_reply": "2023-08-13T16:16:31.994438Z",
     "shell.execute_reply.started": "2023-08-13T16:16:22.757198Z"
    },
    "id": "OItEYDmL1hi2"
   },
   "outputs": [
    {
     "name": "stdout",
     "output_type": "stream",
     "text": [
      "Requirement already satisfied: transformers in /usr/local/lib/python3.9/dist-packages (4.21.3)\n",
      "Requirement already satisfied: huggingface-hub<1.0,>=0.1.0 in /usr/local/lib/python3.9/dist-packages (from transformers) (0.12.0)\n",
      "Requirement already satisfied: packaging>=20.0 in /usr/local/lib/python3.9/dist-packages (from transformers) (23.0)\n",
      "Requirement already satisfied: filelock in /usr/local/lib/python3.9/dist-packages (from transformers) (3.9.0)\n",
      "Requirement already satisfied: regex!=2019.12.17 in /usr/local/lib/python3.9/dist-packages (from transformers) (2022.10.31)\n",
      "Requirement already satisfied: pyyaml>=5.1 in /usr/local/lib/python3.9/dist-packages (from transformers) (5.4.1)\n",
      "Requirement already satisfied: numpy>=1.17 in /usr/local/lib/python3.9/dist-packages (from transformers) (1.23.4)\n",
      "Requirement already satisfied: requests in /usr/local/lib/python3.9/dist-packages (from transformers) (2.28.2)\n",
      "Requirement already satisfied: tokenizers!=0.11.3,<0.13,>=0.11.1 in /usr/local/lib/python3.9/dist-packages (from transformers) (0.12.1)\n",
      "Requirement already satisfied: tqdm>=4.27 in /usr/local/lib/python3.9/dist-packages (from transformers) (4.64.1)\n",
      "Requirement already satisfied: typing-extensions>=3.7.4.3 in /usr/local/lib/python3.9/dist-packages (from huggingface-hub<1.0,>=0.1.0->transformers) (4.4.0)\n",
      "Requirement already satisfied: certifi>=2017.4.17 in /usr/lib/python3/dist-packages (from requests->transformers) (2019.11.28)\n",
      "Requirement already satisfied: charset-normalizer<4,>=2 in /usr/local/lib/python3.9/dist-packages (from requests->transformers) (2.1.1)\n",
      "Requirement already satisfied: idna<4,>=2.5 in /usr/lib/python3/dist-packages (from requests->transformers) (2.8)\n",
      "Requirement already satisfied: urllib3<1.27,>=1.21.1 in /usr/local/lib/python3.9/dist-packages (from requests->transformers) (1.26.14)\n",
      "\u001b[33mWARNING: Running pip as the 'root' user can result in broken permissions and conflicting behaviour with the system package manager. It is recommended to use a virtual environment instead: https://pip.pypa.io/warnings/venv\u001b[0m\u001b[33m\n",
      "\u001b[0mNote: you may need to restart the kernel to use updated packages.\n",
      "Requirement already satisfied: torch in /usr/local/lib/python3.9/dist-packages (1.12.1+cu116)\n",
      "Requirement already satisfied: typing-extensions in /usr/local/lib/python3.9/dist-packages (from torch) (4.4.0)\n",
      "\u001b[33mWARNING: Running pip as the 'root' user can result in broken permissions and conflicting behaviour with the system package manager. It is recommended to use a virtual environment instead: https://pip.pypa.io/warnings/venv\u001b[0m\u001b[33m\n",
      "\u001b[0mNote: you may need to restart the kernel to use updated packages.\n",
      "Requirement already satisfied: imblearn in /usr/local/lib/python3.9/dist-packages (0.0)\n",
      "Requirement already satisfied: imbalanced-learn in /usr/local/lib/python3.9/dist-packages (from imblearn) (0.11.0)\n",
      "Requirement already satisfied: scikit-learn>=1.0.2 in /usr/local/lib/python3.9/dist-packages (from imbalanced-learn->imblearn) (1.1.2)\n",
      "Requirement already satisfied: numpy>=1.17.3 in /usr/local/lib/python3.9/dist-packages (from imbalanced-learn->imblearn) (1.23.4)\n",
      "Requirement already satisfied: threadpoolctl>=2.0.0 in /usr/local/lib/python3.9/dist-packages (from imbalanced-learn->imblearn) (3.1.0)\n",
      "Requirement already satisfied: scipy>=1.5.0 in /usr/local/lib/python3.9/dist-packages (from imbalanced-learn->imblearn) (1.9.2)\n",
      "Requirement already satisfied: joblib>=1.1.1 in /usr/local/lib/python3.9/dist-packages (from imbalanced-learn->imblearn) (1.2.0)\n",
      "\u001b[33mWARNING: Running pip as the 'root' user can result in broken permissions and conflicting behaviour with the system package manager. It is recommended to use a virtual environment instead: https://pip.pypa.io/warnings/venv\u001b[0m\u001b[33m\n",
      "\u001b[0mNote: you may need to restart the kernel to use updated packages.\n",
      "Requirement already satisfied: wandb in /usr/local/lib/python3.9/dist-packages (0.15.8)\n",
      "Requirement already satisfied: pathtools in /usr/local/lib/python3.9/dist-packages (from wandb) (0.1.2)\n",
      "Requirement already satisfied: protobuf!=4.21.0,<5,>=3.15.0 in /usr/local/lib/python3.9/dist-packages (from wandb) (3.19.6)\n",
      "Requirement already satisfied: setproctitle in /usr/local/lib/python3.9/dist-packages (from wandb) (1.3.2)\n",
      "Requirement already satisfied: sentry-sdk>=1.0.0 in /usr/local/lib/python3.9/dist-packages (from wandb) (1.14.0)\n",
      "Requirement already satisfied: setuptools in /usr/local/lib/python3.9/dist-packages (from wandb) (66.1.1)\n",
      "Requirement already satisfied: PyYAML in /usr/local/lib/python3.9/dist-packages (from wandb) (5.4.1)\n",
      "Requirement already satisfied: Click!=8.0.0,>=7.1 in /usr/local/lib/python3.9/dist-packages (from wandb) (8.1.3)\n",
      "Requirement already satisfied: docker-pycreds>=0.4.0 in /usr/local/lib/python3.9/dist-packages (from wandb) (0.4.0)\n",
      "Requirement already satisfied: appdirs>=1.4.3 in /usr/local/lib/python3.9/dist-packages (from wandb) (1.4.4)\n",
      "Requirement already satisfied: psutil>=5.0.0 in /usr/local/lib/python3.9/dist-packages (from wandb) (5.9.4)\n",
      "Requirement already satisfied: GitPython!=3.1.29,>=1.0.0 in /usr/local/lib/python3.9/dist-packages (from wandb) (3.1.30)\n",
      "Requirement already satisfied: requests<3,>=2.0.0 in /usr/local/lib/python3.9/dist-packages (from wandb) (2.28.2)\n",
      "Requirement already satisfied: typing-extensions in /usr/local/lib/python3.9/dist-packages (from wandb) (4.4.0)\n",
      "Requirement already satisfied: six>=1.4.0 in /usr/lib/python3/dist-packages (from docker-pycreds>=0.4.0->wandb) (1.14.0)\n",
      "Requirement already satisfied: gitdb<5,>=4.0.1 in /usr/local/lib/python3.9/dist-packages (from GitPython!=3.1.29,>=1.0.0->wandb) (4.0.10)\n",
      "Requirement already satisfied: certifi>=2017.4.17 in /usr/lib/python3/dist-packages (from requests<3,>=2.0.0->wandb) (2019.11.28)\n",
      "Requirement already satisfied: urllib3<1.27,>=1.21.1 in /usr/local/lib/python3.9/dist-packages (from requests<3,>=2.0.0->wandb) (1.26.14)\n",
      "Requirement already satisfied: idna<4,>=2.5 in /usr/lib/python3/dist-packages (from requests<3,>=2.0.0->wandb) (2.8)\n",
      "Requirement already satisfied: charset-normalizer<4,>=2 in /usr/local/lib/python3.9/dist-packages (from requests<3,>=2.0.0->wandb) (2.1.1)\n",
      "Requirement already satisfied: smmap<6,>=3.0.1 in /usr/local/lib/python3.9/dist-packages (from gitdb<5,>=4.0.1->GitPython!=3.1.29,>=1.0.0->wandb) (5.0.0)\n",
      "\u001b[33mWARNING: Running pip as the 'root' user can result in broken permissions and conflicting behaviour with the system package manager. It is recommended to use a virtual environment instead: https://pip.pypa.io/warnings/venv\u001b[0m\u001b[33m\n",
      "\u001b[0mNote: you may need to restart the kernel to use updated packages.\n"
     ]
    }
   ],
   "source": [
    "%pip install transformers\n",
    "%pip install torch\n",
    "%pip install imblearn\n",
    "%pip install wandb --upgrade\n"
   ]
  },
  {
   "cell_type": "code",
   "execution_count": 2,
   "id": "02505ed3",
   "metadata": {
    "execution": {
     "iopub.execute_input": "2023-08-13T16:16:31.996621Z",
     "iopub.status.busy": "2023-08-13T16:16:31.996432Z",
     "iopub.status.idle": "2023-08-13T16:16:34.954773Z",
     "shell.execute_reply": "2023-08-13T16:16:34.953986Z",
     "shell.execute_reply.started": "2023-08-13T16:16:31.996603Z"
    },
    "id": "02505ed3"
   },
   "outputs": [
    {
     "name": "stderr",
     "output_type": "stream",
     "text": [
      "/tmp/ipykernel_6229/491656687.py:14: TqdmDeprecationWarning: This function will be removed in tqdm==5.0.0\n",
      "Please use `tqdm.notebook.*` instead of `tqdm._tqdm_notebook.*`\n",
      "  from tqdm._tqdm_notebook import tqdm_notebook\n"
     ]
    }
   ],
   "source": [
    "import numpy as np\n",
    "import pandas as pd\n",
    "\n",
    "from sklearn.model_selection import train_test_split, StratifiedKFold, StratifiedShuffleSplit\n",
    "from sklearn.metrics import accuracy_score, recall_score, precision_score, f1_score, roc_auc_score, classification_report\n",
    "\n",
    "import torch\n",
    "from transformers import AutoTokenizer, AutoModelForSequenceClassification\n",
    "from transformers import TrainingArguments, Trainer\n",
    "from transformers import BertTokenizer, BertForSequenceClassification\n",
    "from transformers import EarlyStoppingCallback, set_seed\n",
    "\n",
    "# Progress bar\n",
    "from tqdm._tqdm_notebook import tqdm_notebook\n",
    "from tqdm import tqdm\n",
    "tqdm_notebook.pandas()"
   ]
  },
  {
   "cell_type": "markdown",
   "id": "5a8c1621",
   "metadata": {
    "id": "5a8c1621"
   },
   "source": [
    "## Import Clean Text Data"
   ]
  },
  {
   "cell_type": "code",
   "execution_count": 3,
   "id": "c58048aa",
   "metadata": {
    "execution": {
     "iopub.execute_input": "2023-08-13T16:16:34.956415Z",
     "iopub.status.busy": "2023-08-13T16:16:34.955885Z",
     "iopub.status.idle": "2023-08-13T16:16:35.837990Z",
     "shell.execute_reply": "2023-08-13T16:16:35.837365Z",
     "shell.execute_reply.started": "2023-08-13T16:16:34.956397Z"
    },
    "id": "c58048aa"
   },
   "outputs": [
    {
     "data": {
      "application/vnd.jupyter.widget-view+json": {
       "model_id": "263e954aa8284ee8a18c56827ac57ad8",
       "version_major": 2,
       "version_minor": 0
      },
      "text/plain": [
       "  0%|          | 0/120932 [00:00<?, ?it/s]"
      ]
     },
     "metadata": {},
     "output_type": "display_data"
    }
   ],
   "source": [
    "###############################################################\n",
    "# Note: Change the name of data set used for feature creation\n",
    "###############################################################\n",
    "data_set='bully_data_clean_with_stopword'\n",
    "    \n",
    "    \n",
    "###################\n",
    "# Import Data Set #\n",
    "###################\n",
    "bully_data_cleaned = pd.read_csv('bully_data_clean_with_stopword.csv', encoding='utf8')                                            \n",
    "bully_data_cleaned = bully_data_cleaned[~bully_data_cleaned['text_check'].isna()]\n",
    "bully_data_cleaned = bully_data_cleaned[bully_data_cleaned['text_check'] != \"\"]\n",
    "#bully_data_cleaned = bully_data_cleaned[bully_data_cleaned['role']!='None']\n",
    "bully_data_cleaned = bully_data_cleaned[['label','text_check']]\n",
    "bully_data_cleaned['label'] = bully_data_cleaned['label'].progress_apply(lambda x: 1 if x ==\"Cyberbullying\" else 0)\n",
    "bully_data_cleaned.rename(columns = {'text_check':'text'}, inplace = True)\n",
    "bully_data_cleaned = bully_data_cleaned.reset_index(drop=True)"
   ]
  },
  {
   "cell_type": "code",
   "execution_count": 4,
   "id": "f1ad3546",
   "metadata": {
    "execution": {
     "iopub.execute_input": "2023-08-13T16:16:35.839453Z",
     "iopub.status.busy": "2023-08-13T16:16:35.839288Z",
     "iopub.status.idle": "2023-08-13T16:16:35.857074Z",
     "shell.execute_reply": "2023-08-13T16:16:35.856517Z",
     "shell.execute_reply.started": "2023-08-13T16:16:35.839437Z"
    },
    "id": "f1ad3546",
    "scrolled": true
   },
   "outputs": [
    {
     "name": "stdout",
     "output_type": "stream",
     "text": [
      "<class 'pandas.core.frame.DataFrame'>\n",
      "RangeIndex: 120932 entries, 0 to 120931\n",
      "Data columns (total 2 columns):\n",
      " #   Column  Non-Null Count   Dtype \n",
      "---  ------  --------------   ----- \n",
      " 0   label   120932 non-null  int64 \n",
      " 1   text    120932 non-null  object\n",
      "dtypes: int64(1), object(1)\n",
      "memory usage: 1.8+ MB\n"
     ]
    }
   ],
   "source": [
    "bully_data_cleaned.info()"
   ]
  },
  {
   "cell_type": "code",
   "execution_count": 72,
   "id": "y2TxGLSm81wJ",
   "metadata": {
    "execution": {
     "iopub.execute_input": "2023-08-13T04:55:21.574684Z",
     "iopub.status.busy": "2023-08-13T04:55:21.574389Z",
     "iopub.status.idle": "2023-08-13T04:55:21.580650Z",
     "shell.execute_reply": "2023-08-13T04:55:21.580175Z",
     "shell.execute_reply.started": "2023-08-13T04:55:21.574665Z"
    },
    "id": "y2TxGLSm81wJ"
   },
   "outputs": [
    {
     "data": {
      "text/plain": [
       "0    115556\n",
       "1      5376\n",
       "Name: label, dtype: int64"
      ]
     },
     "execution_count": 72,
     "metadata": {},
     "output_type": "execute_result"
    }
   ],
   "source": [
    "bully_data_cleaned['label'].value_counts()"
   ]
  },
  {
   "cell_type": "markdown",
   "id": "61d6da90",
   "metadata": {
    "id": "61d6da90"
   },
   "source": [
    "## Define pretrained tokenizer and model"
   ]
  },
  {
   "cell_type": "code",
   "execution_count": 5,
   "id": "ccf66b42-fc41-4db8-ab05-9c4affc1dce0",
   "metadata": {
    "execution": {
     "iopub.execute_input": "2023-08-13T16:16:35.857828Z",
     "iopub.status.busy": "2023-08-13T16:16:35.857658Z",
     "iopub.status.idle": "2023-08-13T16:16:37.886638Z",
     "shell.execute_reply": "2023-08-13T16:16:37.885951Z",
     "shell.execute_reply.started": "2023-08-13T16:16:35.857812Z"
    }
   },
   "outputs": [
    {
     "data": {
      "application/vnd.jupyter.widget-view+json": {
       "model_id": "c8d70abfddf64d19b5d111db41f441bd",
       "version_major": 2,
       "version_minor": 0
      },
      "text/plain": [
       "Downloading tokenizer_config.json:   0%|          | 0.00/350 [00:00<?, ?B/s]"
      ]
     },
     "metadata": {},
     "output_type": "display_data"
    },
    {
     "data": {
      "application/vnd.jupyter.widget-view+json": {
       "model_id": "75d03c0ea6e64b8d80b2e1dd5834b738",
       "version_major": 2,
       "version_minor": 0
      },
      "text/plain": [
       "Downloading vocab.txt:   0%|          | 0.00/226k [00:00<?, ?B/s]"
      ]
     },
     "metadata": {},
     "output_type": "display_data"
    },
    {
     "data": {
      "application/vnd.jupyter.widget-view+json": {
       "model_id": "7f5b60973fae4d8889e61654a6ecc9a7",
       "version_major": 2,
       "version_minor": 0
      },
      "text/plain": [
       "Downloading tokenizer.json:   0%|          | 0.00/455k [00:00<?, ?B/s]"
      ]
     },
     "metadata": {},
     "output_type": "display_data"
    },
    {
     "data": {
      "application/vnd.jupyter.widget-view+json": {
       "model_id": "37cd074b3cca4e39a183ca47694706c3",
       "version_major": 2,
       "version_minor": 0
      },
      "text/plain": [
       "Downloading special_tokens_map.json:   0%|          | 0.00/112 [00:00<?, ?B/s]"
      ]
     },
     "metadata": {},
     "output_type": "display_data"
    },
    {
     "data": {
      "application/vnd.jupyter.widget-view+json": {
       "model_id": "4083983f21ff44adb58605c9fc22076c",
       "version_major": 2,
       "version_minor": 0
      },
      "text/plain": [
       "Downloading config.json:   0%|          | 0.00/612 [00:00<?, ?B/s]"
      ]
     },
     "metadata": {},
     "output_type": "display_data"
    },
    {
     "data": {
      "application/vnd.jupyter.widget-view+json": {
       "model_id": "fea6ad42905f4eac9ee95bf0aff37b2f",
       "version_major": 2,
       "version_minor": 0
      },
      "text/plain": [
       "Downloading pytorch_model.bin:   0%|          | 0.00/86.7M [00:00<?, ?B/s]"
      ]
     },
     "metadata": {},
     "output_type": "display_data"
    },
    {
     "name": "stderr",
     "output_type": "stream",
     "text": [
      "Some weights of BertForSequenceClassification were not initialized from the model checkpoint at sentence-transformers/all-MiniLM-L6-v2 and are newly initialized: ['classifier.weight', 'classifier.bias']\n",
      "You should probably TRAIN this model on a down-stream task to be able to use it for predictions and inference.\n"
     ]
    }
   ],
   "source": [
    "from transformers import AutoTokenizer, AutoModelForSequenceClassification\n",
    "\n",
    "\n",
    "model_name = \"sentence-transformers/all-MiniLM-L6-v2\"\n",
    "tokenizer = AutoTokenizer.from_pretrained(model_name)\n",
    "set_seed(1127)\n",
    "model = AutoModelForSequenceClassification.from_pretrained(model_name, num_labels=2)\n",
    "\n"
   ]
  },
  {
   "cell_type": "markdown",
   "id": "fe8c063e",
   "metadata": {
    "id": "fe8c063e"
   },
   "source": [
    "## Preprocess data and Fine Tune Transformers"
   ]
  },
  {
   "cell_type": "code",
   "execution_count": 6,
   "id": "b5e716fb",
   "metadata": {
    "execution": {
     "iopub.execute_input": "2023-08-13T16:16:37.888008Z",
     "iopub.status.busy": "2023-08-13T16:16:37.887714Z",
     "iopub.status.idle": "2023-08-13T16:16:52.064902Z",
     "shell.execute_reply": "2023-08-13T16:16:52.064378Z",
     "shell.execute_reply.started": "2023-08-13T16:16:37.887990Z"
    },
    "id": "b5e716fb"
   },
   "outputs": [],
   "source": [
    "# Data: Text Input and Label \n",
    "X = list(bully_data_cleaned[\"text\"])\n",
    "y = list(bully_data_cleaned[\"label\"])\n",
    "\n",
    "\n",
    "# Create torch dataset \n",
    "class Dataset(torch.utils.data.Dataset):\n",
    "    def __init__(self, encodings, labels=None):\n",
    "        self.encodings = encodings\n",
    "        self.labels = labels\n",
    "\n",
    "    def __getitem__(self, idx):\n",
    "        item = {key: torch.tensor(val[idx]) for key, val in self.encodings.items()}\n",
    "        if self.labels:\n",
    "            item[\"labels\"] = torch.tensor(self.labels[idx])\n",
    "        return item\n",
    "\n",
    "    def __len__(self):\n",
    "        return len(self.encodings[\"input_ids\"])\n",
    "\n",
    "\n",
    "# Define Trainer parameters \n",
    "def compute_metrics(p):\n",
    "    pred, labels = p\n",
    "    pred = np.argmax(pred, axis=1)\n",
    "\n",
    "    accuracy = accuracy_score(y_true=labels, y_pred=pred)\n",
    "    recall_cb = recall_score(y_true=labels, y_pred=pred, average='binary', pos_label=1)\n",
    "    precision_cb = precision_score(y_true=labels, y_pred=pred, average='binary', pos_label=1)\n",
    "    f1_cb = f1_score(y_true=labels, y_pred=pred, average='binary', pos_label=1)\n",
    "    \n",
    "    recall_ncb = recall_score(y_true=labels, y_pred=pred, average='binary', pos_label=0)\n",
    "    precision_ncb = precision_score(y_true=labels, y_pred=pred, average='binary', pos_label=0)\n",
    "    f1_ncb = f1_score(y_true=labels, y_pred=pred, average='binary', pos_label=0)\n",
    "    \n",
    "    recall_overall = recall_score(y_true=labels, y_pred=pred, average='macro')\n",
    "    precision_overall = precision_score(y_true=labels, y_pred=pred, average='macro')\n",
    "    f1_overall = f1_score(y_true=labels, y_pred=pred, average='macro')\n",
    "\n",
    "\n",
    "    return {\"accuracy\": accuracy, \n",
    "            \"precision_cb\": precision_cb, \"recall_cb\": recall_cb, \"f1_cb\": f1_cb,\n",
    "            \"precision_ncb\": precision_ncb, \"recall_ncb\": recall_ncb, \"f1_ncb\": f1_ncb,\n",
    "            \"precision_overall\": precision_overall, \"recall_overall\": recall_overall, \"f1_overall\": f1_overall}\n",
    "\n",
    "\n",
    "# Plot Confusion Matrix \n",
    "import numpy as np\n",
    "import matplotlib.pyplot as plt\n",
    "import seaborn as sns\n",
    "\n",
    "def make_confusion_matrix(cf,\n",
    "                          group_names=None,\n",
    "                          categories='auto',\n",
    "                          count=True,\n",
    "                          percent=True,\n",
    "                          cbar=True,\n",
    "                          xyticks=True,\n",
    "                          xyplotlabels=True,\n",
    "                          sum_stats=True,\n",
    "                          figsize=None,\n",
    "                          cmap='Blues',\n",
    "                          title=None):\n",
    "    '''\n",
    "    This function will make a pretty plot of an sklearn Confusion Matrix cm using a Seaborn heatmap visualization.\n",
    "\n",
    "    Arguments\n",
    "    ---------\n",
    "    cf:            confusion matrix to be passed in\n",
    "\n",
    "    group_names:   List of strings that represent the labels row by row to be shown in each square.\n",
    "\n",
    "    categories:    List of strings containing the categories to be displayed on the x,y axis. Default is 'auto'\n",
    "\n",
    "    count:         If True, show the raw number in the confusion matrix. Default is True.\n",
    "\n",
    "    normalize:     If True, show the proportions for each category. Default is True.\n",
    "\n",
    "    cbar:          If True, show the color bar. The cbar values are based off the values in the confusion matrix.\n",
    "                   Default is True.\n",
    "\n",
    "    xyticks:       If True, show x and y ticks. Default is True.\n",
    "\n",
    "    xyplotlabels:  If True, show 'True Label' and 'Predicted Label' on the figure. Default is True.\n",
    "\n",
    "    sum_stats:     If True, display summary statistics below the figure. Default is True.\n",
    "\n",
    "    figsize:       Tuple representing the figure size. Default will be the matplotlib rcParams value.\n",
    "\n",
    "    cmap:          Colormap of the values displayed from matplotlib.pyplot.cm. Default is 'Blues'\n",
    "                   See http://matplotlib.org/examples/color/colormaps_reference.html\n",
    "                   \n",
    "    title:         Title for the heatmap. Default is None.\n",
    "\n",
    "    '''\n",
    "\n",
    "\n",
    "    # CONFUSION MATRIX IN PERCENTAGE\n",
    "    cf_pct = cf.astype('float')/cf.sum(axis=1)[:, np.newaxis]\n",
    "    # CODE TO GENERATE TEXT INSIDE EACH SQUARE\n",
    "    blanks = ['' for i in range(cf.size)]\n",
    "\n",
    "    if group_names and len(group_names)==cf.size:\n",
    "        group_labels = [\"{}\\n\".format(value) for value in group_names]\n",
    "    else:\n",
    "        group_labels = blanks\n",
    "\n",
    "    if count:\n",
    "        group_counts = [\"{0:0.0f}\\n\".format(value) for value in cf.flatten()]\n",
    "    else:\n",
    "        group_counts = blanks\n",
    "\n",
    "    if percent:\n",
    "        group_percentages = [\"{0:.2%}\".format(value) for value in cf_pct.flatten()]\n",
    "    else:\n",
    "        group_percentages = blanks\n",
    "\n",
    "    box_labels = [f\"{v1}{v2}{v3}\".strip() for v1, v2, v3 in zip(group_labels,group_counts,group_percentages)]\n",
    "    box_labels = np.asarray(box_labels).reshape(cf.shape[0],cf.shape[1])\n",
    "\n",
    "\n",
    "    # CODE TO GENERATE SUMMARY STATISTICS & TEXT FOR SUMMARY STATS\n",
    "    if sum_stats:\n",
    "        #Accuracy is sum of diagonal divided by total observations\n",
    "        accuracy  = np.trace(cf) / float(np.sum(cf))\n",
    "\n",
    "        #if it is a binary confusion matrix, show some more stats\n",
    "        if len(cf)==2:\n",
    "            #Metrics for Binary Confusion Matrices\n",
    "            precision = cf[1,1] / sum(cf[:,1])\n",
    "            recall    = cf[1,1] / sum(cf[1,:])\n",
    "            f1_score  = 2*precision*recall / (precision + recall)\n",
    "            stats_text = \"\\n\\nAccuracy={:0.3f}\\nPrecision={:0.3f}\\nRecall={:0.3f}\\nF1 Score={:0.3f}\".format(\n",
    "                accuracy,precision,recall,f1_score)\n",
    "        else:\n",
    "            stats_text = \"\\n\\nAccuracy={:0.3f}\".format(accuracy)\n",
    "    else:\n",
    "        stats_text = \"\"\n",
    "\n",
    "\n",
    "    # SET FIGURE PARAMETERS ACCORDING TO OTHER ARGUMENTS\n",
    "    if figsize==None:\n",
    "        #Get default figure size if not set\n",
    "        figsize = plt.rcParams.get('figure.figsize')\n",
    "\n",
    "    if xyticks==False:\n",
    "        #Do not show categories if xyticks is False\n",
    "        categories=False\n",
    "\n",
    "\n",
    "    # MAKE THE HEATMAP VISUALIZATION\n",
    "    plt.figure(figsize=figsize)\n",
    "    sns.heatmap(cf_pct,annot=box_labels,fmt=\"\",cmap=cmap,cbar=cbar,xticklabels=categories,yticklabels=categories)\n",
    "\n",
    "    if xyplotlabels:\n",
    "        plt.ylabel('True label')\n",
    "        plt.xlabel('Predicted label' + stats_text)\n",
    "    else:\n",
    "        plt.xlabel(stats_text)\n",
    "    \n",
    "    if title:\n",
    "        plt.title(title)\n",
    "\n",
    "\n",
    "# Run cross-validation \n",
    "def run_cross_validation(model_name='MiniLM',\n",
    "                         X=X,\n",
    "                         y=y, \n",
    "                         splits=5,\n",
    "                         epoch=4,\n",
    "                         checkpoint=False):\n",
    "    \n",
    "    kfold = StratifiedShuffleSplit(n_splits=splits, test_size=0.1, random_state=1127)\n",
    "    n_fold = 1\n",
    "\n",
    "    print(\"Developing Model with Cross validation for: \" + model_name)\n",
    "    for train, test in tqdm(kfold.split(X, y)):\n",
    "\n",
    "        print(\"Running for Fold: \",n_fold)\n",
    "        train_index = list(train)\n",
    "        test_index = list(test)\n",
    "\n",
    "        X_train = [X[i] for i in train_index]\n",
    "        y_train = [y[i] for i in train_index]\n",
    "        X_val = [X[i] for i in test_index]\n",
    "        y_val = [y[i] for i in test_index]\n",
    "\n",
    "        # Tokenize\n",
    "        X_train_tokenized = tokenizer(X_train, padding=True, truncation=True, max_length=512)\n",
    "        X_val_tokenized = tokenizer(X_val, padding=True, truncation=True, max_length=512)\n",
    "\n",
    "        # Create torch dataset\n",
    "        train_dataset = Dataset(X_train_tokenized, y_train)\n",
    "        val_dataset = Dataset(X_val_tokenized, y_val)\n",
    "\n",
    "        # Define Trainer\n",
    "        args = TrainingArguments(\n",
    "            output_dir=\"content/drive/MyDrive_binary/output_\" + model_name + \"/fold\"+str(n_fold),\n",
    "            evaluation_strategy=\"epoch\",\n",
    "            save_strategy=\"epoch\",\n",
    "            num_train_epochs=epoch,\n",
    "            seed=1127,\n",
    "            load_best_model_at_end=True,\n",
    "        )\n",
    "\n",
    "        trainer = Trainer(\n",
    "            model=model,\n",
    "            args=args,\n",
    "            train_dataset=train_dataset,\n",
    "            eval_dataset=val_dataset,\n",
    "            compute_metrics=compute_metrics,\n",
    "            callbacks=[EarlyStoppingCallback(early_stopping_patience=3)],\n",
    "        )\n",
    "\n",
    "        if n_fold <= 4:\n",
    "            checkpoint_temp = True\n",
    "        else:\n",
    "            checkpoint_temp = False\n",
    "\n",
    "        trainer.train(resume_from_checkpoint=checkpoint)  # Add gradient_clip_val\n",
    "        print(\"Complete for fold\", n_fold)\n",
    "        n_fold = n_fold + 1\n",
    "\n",
    "\n",
    "\n",
    "# Run Hold Out Test \n",
    "\n",
    "# Train and Test Set\n",
    "X_train, X_test, y_train, y_test = train_test_split(X, y, test_size=0.1, stratify=y, random_state=1127)\n",
    "\n",
    "# Train and Validate Set\n",
    "# X_train, X_val, y_train, y_val = train_test_split(X_train, y_train, test_size=0.1, stratify=y_train, random_state=1127)\n",
    "X_train_tokenized = tokenizer(X_train, padding=True, truncation=True, max_length=512)\n",
    "X_val_tokenized = tokenizer(X_test, padding=True, truncation=True, max_length=512)\n",
    "\n",
    "# Create torch dataset\n",
    "train_dataset = Dataset(X_train_tokenized, y_train)\n",
    "val_dataset = Dataset(X_val_tokenized, y_test)\n",
    "\n",
    "def run_hold_out_split(model_name='MiniLM',\n",
    "                       epoch=8,\n",
    "                       train_dataset=train_dataset,\n",
    "                       eval_dataset=val_dataset,\n",
    "                       checkpoint=False):\n",
    "  \n",
    "    print(\"Developing Model with Hold Out Splits for: \" + model_name)\n",
    "    # Fine Tune Transformer\n",
    "    # Define Trainer\n",
    "    args = TrainingArguments(\n",
    "      output_dir=\"content/drive/MyDrive_binary/output_\" + model_name + \"/holdout\",\n",
    "      evaluation_strategy=\"epoch\",\n",
    "      save_strategy=\"epoch\",\n",
    "      #eval_steps=500,\n",
    "      #per_device_train_batch_size=1,\n",
    "      #per_device_eval_batch_size=1,\n",
    "      num_train_epochs=epoch, #1 was okay\n",
    "      seed=1127,\n",
    "      load_best_model_at_end=True,\n",
    "    )\n",
    "\n",
    "    trainer = Trainer(\n",
    "    # model_init=model_init,\n",
    "    args=args,\n",
    "    model=model,\n",
    "    train_dataset=train_dataset,\n",
    "    eval_dataset=val_dataset,\n",
    "    compute_metrics=compute_metrics,\n",
    "    callbacks=[EarlyStoppingCallback(early_stopping_patience=5)],\n",
    "    )\n",
    "\n",
    "    trainer.train(resume_from_checkpoint=checkpoint)\n",
    "    print(\"Complete for hold-out validate set\")\n"
   ]
  },
  {
   "cell_type": "code",
   "execution_count": 7,
   "id": "EKrMcyWmEBlO",
   "metadata": {
    "execution": {
     "iopub.execute_input": "2023-08-13T16:16:52.068617Z",
     "iopub.status.busy": "2023-08-13T16:16:52.068091Z",
     "iopub.status.idle": "2023-08-13T16:16:52.078052Z",
     "shell.execute_reply": "2023-08-13T16:16:52.077536Z",
     "shell.execute_reply.started": "2023-08-13T16:16:52.068595Z"
    },
    "id": "EKrMcyWmEBlO"
   },
   "outputs": [],
   "source": [
    "# Predict (Hold Out Test) \n",
    "\n",
    "from sklearn.metrics import confusion_matrix\n",
    "def compute_metrics_holdout(model_name='MiniLM',\n",
    "                            model_path='content/drive/MyDrive_binary/output_MiniLM/holdout/checkpoint-3820', \n",
    "                            average_method='binary',\n",
    "                            X_test=X_test):\n",
    "  \n",
    "    X_test_tokenized = tokenizer(X_test, padding=True, truncation=True, max_length=512)\n",
    "\n",
    "    # Create torch dataset\n",
    "    test_dataset = Dataset(X_test_tokenized)\n",
    "\n",
    "    # Load trained model\n",
    "    model_pred = AutoModelForSequenceClassification.from_pretrained(model_path, num_labels=2)\n",
    "\n",
    "    # Define test trainer\n",
    "    test_trainer = Trainer(model_pred)\n",
    "\n",
    "    # Make prediction\n",
    "    raw_pred, _, _ = test_trainer.predict(test_dataset)\n",
    "\n",
    "    # Preprocess raw predictions\n",
    "    y_pred = np.argmax(raw_pred, axis=1)\n",
    "\n",
    "    # Compute metrics\n",
    "    precision_cb = precision_score(y_test, y_pred, average=average_method, pos_label=1)\n",
    "    recall_cb = recall_score(y_test, y_pred, average=average_method, pos_label=1)\n",
    "    f1_cb = f1_score(y_test, y_pred, average=average_method, pos_label=1)\n",
    "\n",
    "    precision_ncb = precision_score(y_test, y_pred, average=average_method, pos_label=0)\n",
    "    recall_ncb = recall_score(y_test, y_pred, average=average_method, pos_label=0)\n",
    "    f1_ncb = f1_score(y_test, y_pred, average=average_method, pos_label=0)\n",
    "\n",
    "    precision_overall = precision_score(y_test, y_pred, average='macro')\n",
    "    recall_overall = recall_score(y_test, y_pred, average='macro')\n",
    "    f1_overall = f1_score(y_test, y_pred, average='macro')\n",
    "\n",
    "    # Print Results\n",
    "    print(\"Classification Report:\")\n",
    "    print(classification_report(y_test,y_pred))\n",
    "    print()\n",
    "    print(\"Label 1: Cyberbullying\")\n",
    "    print(\"Precision: \", precision_cb)\n",
    "    print(\"Recall: \", recall_cb)\n",
    "    print(\"F-measure: \", f1_cb)\n",
    "    print()\n",
    "    print(\"Label 0: Non-Cyberbullying\")\n",
    "    print(\"Precision: \", precision_ncb)\n",
    "    print(\"Recall: \", recall_ncb)\n",
    "    print(\"F-measure: \", f1_ncb)\n",
    "    print()\n",
    "    print(\"Macro Metrics\")\n",
    "    print(\"Precision: \", precision_overall)\n",
    "    print(\"Recall: \", recall_overall)\n",
    "    print(\"F-measure: \", f1_overall)\n",
    "    print()\n",
    "\n",
    "    # Confusion Matrix\n",
    "    conf_mat = confusion_matrix(y_test,y_pred)\n",
    "    categories = ['Non-Cyberbullying', 'Cyberbullying']\n",
    "    labels = ['True Negative','',\n",
    "            '','True Positive']\n",
    "\n",
    "    make_confusion_matrix(conf_mat, \n",
    "                        group_names=labels,\n",
    "                        categories=categories, \n",
    "                        figsize=(8,5), \n",
    "                        cbar=True, \n",
    "                        title='Fine Tuned ' + model_name + ' for Cyberbullying Detection', \n",
    "                        cmap='YlGnBu', \n",
    "                        sum_stats=False)\n",
    "\n"
   ]
  },
  {
   "cell_type": "markdown",
   "id": "q5A2sV2dKlPb",
   "metadata": {
    "id": "q5A2sV2dKlPb",
    "tags": []
   },
   "source": [
    "## Cross Validation (K = 5)"
   ]
  },
  {
   "cell_type": "code",
   "execution_count": 76,
   "id": "p5QGotWv8_-V",
   "metadata": {
    "execution": {
     "iopub.execute_input": "2023-08-13T04:55:58.929362Z",
     "iopub.status.busy": "2023-08-13T04:55:58.928845Z",
     "iopub.status.idle": "2023-08-13T10:24:10.985695Z",
     "shell.execute_reply": "2023-08-13T10:24:10.984825Z",
     "shell.execute_reply.started": "2023-08-13T04:55:58.929344Z"
    },
    "id": "p5QGotWv8_-V"
   },
   "outputs": [
    {
     "name": "stdout",
     "output_type": "stream",
     "text": [
      "Developing Model with Cross validation for: MiniLM\n"
     ]
    },
    {
     "name": "stderr",
     "output_type": "stream",
     "text": [
      "0it [00:00, ?it/s]"
     ]
    },
    {
     "name": "stdout",
     "output_type": "stream",
     "text": [
      "Running for Fold:  1\n"
     ]
    },
    {
     "name": "stderr",
     "output_type": "stream",
     "text": [
      "PyTorch: setting up devices\n",
      "The default value for the training argument `--report_to` will change in v5 (from all installed integrations to none). In v5, you will need to use `--report_to all` to get the same behavior as now. You should start updating your code and make this info disappear :-).\n",
      "/usr/local/lib/python3.9/dist-packages/transformers/optimization.py:306: FutureWarning: This implementation of AdamW is deprecated and will be removed in a future version. Use the PyTorch implementation torch.optim.AdamW instead, or set `no_deprecation_warning=True` to disable this warning\n",
      "  warnings.warn(\n",
      "***** Running training *****\n",
      "  Num examples = 108838\n",
      "  Num Epochs = 4\n",
      "  Instantaneous batch size per device = 8\n",
      "  Total train batch size (w. parallel, distributed & accumulation) = 16\n",
      "  Gradient Accumulation steps = 1\n",
      "  Total optimization steps = 27212\n",
      "Automatic Weights & Biases logging enabled, to disable set os.environ[\"WANDB_DISABLED\"] = \"true\"\n",
      "/usr/local/lib/python3.9/dist-packages/torch/nn/parallel/_functions.py:68: UserWarning: Was asked to gather along dimension 0, but all input tensors were scalars; will instead unsqueeze and return a vector.\n",
      "  warnings.warn('Was asked to gather along dimension 0, but all '\n"
     ]
    },
    {
     "data": {
      "text/html": [
       "\n",
       "    <div>\n",
       "      \n",
       "      <progress value='27212' max='27212' style='width:300px; height:20px; vertical-align: middle;'></progress>\n",
       "      [27212/27212 1:06:31, Epoch 4/4]\n",
       "    </div>\n",
       "    <table border=\"1\" class=\"dataframe\">\n",
       "  <thead>\n",
       " <tr style=\"text-align: left;\">\n",
       "      <th>Epoch</th>\n",
       "      <th>Training Loss</th>\n",
       "      <th>Validation Loss</th>\n",
       "      <th>Accuracy</th>\n",
       "      <th>Precision Cb</th>\n",
       "      <th>Recall Cb</th>\n",
       "      <th>F1 Cb</th>\n",
       "      <th>Precision Ncb</th>\n",
       "      <th>Recall Ncb</th>\n",
       "      <th>F1 Ncb</th>\n",
       "      <th>Precision Overall</th>\n",
       "      <th>Recall Overall</th>\n",
       "      <th>F1 Overall</th>\n",
       "    </tr>\n",
       "  </thead>\n",
       "  <tbody>\n",
       "    <tr>\n",
       "      <td>1</td>\n",
       "      <td>0.095200</td>\n",
       "      <td>0.094568</td>\n",
       "      <td>0.965437</td>\n",
       "      <td>0.611111</td>\n",
       "      <td>0.613383</td>\n",
       "      <td>0.612245</td>\n",
       "      <td>0.981998</td>\n",
       "      <td>0.981828</td>\n",
       "      <td>0.981913</td>\n",
       "      <td>0.796554</td>\n",
       "      <td>0.797605</td>\n",
       "      <td>0.797079</td>\n",
       "    </tr>\n",
       "    <tr>\n",
       "      <td>2</td>\n",
       "      <td>0.088600</td>\n",
       "      <td>0.098155</td>\n",
       "      <td>0.965437</td>\n",
       "      <td>0.607527</td>\n",
       "      <td>0.630112</td>\n",
       "      <td>0.618613</td>\n",
       "      <td>0.982750</td>\n",
       "      <td>0.981049</td>\n",
       "      <td>0.981898</td>\n",
       "      <td>0.795138</td>\n",
       "      <td>0.805580</td>\n",
       "      <td>0.800256</td>\n",
       "    </tr>\n",
       "    <tr>\n",
       "      <td>3</td>\n",
       "      <td>0.068100</td>\n",
       "      <td>0.115298</td>\n",
       "      <td>0.967091</td>\n",
       "      <td>0.647059</td>\n",
       "      <td>0.572491</td>\n",
       "      <td>0.607495</td>\n",
       "      <td>0.980203</td>\n",
       "      <td>0.985462</td>\n",
       "      <td>0.982826</td>\n",
       "      <td>0.813631</td>\n",
       "      <td>0.778976</td>\n",
       "      <td>0.795160</td>\n",
       "    </tr>\n",
       "    <tr>\n",
       "      <td>4</td>\n",
       "      <td>0.052800</td>\n",
       "      <td>0.136595</td>\n",
       "      <td>0.965685</td>\n",
       "      <td>0.627329</td>\n",
       "      <td>0.563197</td>\n",
       "      <td>0.593536</td>\n",
       "      <td>0.979761</td>\n",
       "      <td>0.984424</td>\n",
       "      <td>0.982087</td>\n",
       "      <td>0.803545</td>\n",
       "      <td>0.773810</td>\n",
       "      <td>0.787811</td>\n",
       "    </tr>\n",
       "  </tbody>\n",
       "</table><p>"
      ],
      "text/plain": [
       "<IPython.core.display.HTML object>"
      ]
     },
     "metadata": {},
     "output_type": "display_data"
    },
    {
     "name": "stderr",
     "output_type": "stream",
     "text": [
      "***** Running Evaluation *****\n",
      "  Num examples = 12094\n",
      "  Batch size = 16\n",
      "Saving model checkpoint to content/drive/MyDrive_binary/output_MiniLM/fold1/checkpoint-6803\n",
      "Configuration saved in content/drive/MyDrive_binary/output_MiniLM/fold1/checkpoint-6803/config.json\n",
      "Model weights saved in content/drive/MyDrive_binary/output_MiniLM/fold1/checkpoint-6803/pytorch_model.bin\n",
      "/usr/local/lib/python3.9/dist-packages/torch/nn/parallel/_functions.py:68: UserWarning: Was asked to gather along dimension 0, but all input tensors were scalars; will instead unsqueeze and return a vector.\n",
      "  warnings.warn('Was asked to gather along dimension 0, but all '\n",
      "***** Running Evaluation *****\n",
      "  Num examples = 12094\n",
      "  Batch size = 16\n",
      "Saving model checkpoint to content/drive/MyDrive_binary/output_MiniLM/fold1/checkpoint-13606\n",
      "Configuration saved in content/drive/MyDrive_binary/output_MiniLM/fold1/checkpoint-13606/config.json\n",
      "Model weights saved in content/drive/MyDrive_binary/output_MiniLM/fold1/checkpoint-13606/pytorch_model.bin\n",
      "/usr/local/lib/python3.9/dist-packages/torch/nn/parallel/_functions.py:68: UserWarning: Was asked to gather along dimension 0, but all input tensors were scalars; will instead unsqueeze and return a vector.\n",
      "  warnings.warn('Was asked to gather along dimension 0, but all '\n",
      "***** Running Evaluation *****\n",
      "  Num examples = 12094\n",
      "  Batch size = 16\n",
      "Saving model checkpoint to content/drive/MyDrive_binary/output_MiniLM/fold1/checkpoint-20409\n",
      "Configuration saved in content/drive/MyDrive_binary/output_MiniLM/fold1/checkpoint-20409/config.json\n",
      "Model weights saved in content/drive/MyDrive_binary/output_MiniLM/fold1/checkpoint-20409/pytorch_model.bin\n",
      "/usr/local/lib/python3.9/dist-packages/torch/nn/parallel/_functions.py:68: UserWarning: Was asked to gather along dimension 0, but all input tensors were scalars; will instead unsqueeze and return a vector.\n",
      "  warnings.warn('Was asked to gather along dimension 0, but all '\n",
      "***** Running Evaluation *****\n",
      "  Num examples = 12094\n",
      "  Batch size = 16\n",
      "Saving model checkpoint to content/drive/MyDrive_binary/output_MiniLM/fold1/checkpoint-27212\n",
      "Configuration saved in content/drive/MyDrive_binary/output_MiniLM/fold1/checkpoint-27212/config.json\n",
      "Model weights saved in content/drive/MyDrive_binary/output_MiniLM/fold1/checkpoint-27212/pytorch_model.bin\n",
      "\n",
      "\n",
      "Training completed. Do not forget to share your model on huggingface.co/models =)\n",
      "\n",
      "\n",
      "Loading best model from content/drive/MyDrive_binary/output_MiniLM/fold1/checkpoint-6803 (score: 0.09456759691238403).\n",
      "1it [1:06:41, 4001.47s/it]"
     ]
    },
    {
     "name": "stdout",
     "output_type": "stream",
     "text": [
      "Complete for fold 1\n",
      "Running for Fold:  2\n"
     ]
    },
    {
     "name": "stderr",
     "output_type": "stream",
     "text": [
      "PyTorch: setting up devices\n",
      "The default value for the training argument `--report_to` will change in v5 (from all installed integrations to none). In v5, you will need to use `--report_to all` to get the same behavior as now. You should start updating your code and make this info disappear :-).\n",
      "/usr/local/lib/python3.9/dist-packages/transformers/optimization.py:306: FutureWarning: This implementation of AdamW is deprecated and will be removed in a future version. Use the PyTorch implementation torch.optim.AdamW instead, or set `no_deprecation_warning=True` to disable this warning\n",
      "  warnings.warn(\n",
      "***** Running training *****\n",
      "  Num examples = 108838\n",
      "  Num Epochs = 4\n",
      "  Instantaneous batch size per device = 8\n",
      "  Total train batch size (w. parallel, distributed & accumulation) = 16\n",
      "  Gradient Accumulation steps = 1\n",
      "  Total optimization steps = 27212\n",
      "Automatic Weights & Biases logging enabled, to disable set os.environ[\"WANDB_DISABLED\"] = \"true\"\n",
      "/usr/local/lib/python3.9/dist-packages/torch/nn/parallel/_functions.py:68: UserWarning: Was asked to gather along dimension 0, but all input tensors were scalars; will instead unsqueeze and return a vector.\n",
      "  warnings.warn('Was asked to gather along dimension 0, but all '\n"
     ]
    },
    {
     "data": {
      "text/html": [
       "\n",
       "    <div>\n",
       "      \n",
       "      <progress value='27212' max='27212' style='width:300px; height:20px; vertical-align: middle;'></progress>\n",
       "      [27212/27212 1:06:29, Epoch 4/4]\n",
       "    </div>\n",
       "    <table border=\"1\" class=\"dataframe\">\n",
       "  <thead>\n",
       " <tr style=\"text-align: left;\">\n",
       "      <th>Epoch</th>\n",
       "      <th>Training Loss</th>\n",
       "      <th>Validation Loss</th>\n",
       "      <th>Accuracy</th>\n",
       "      <th>Precision Cb</th>\n",
       "      <th>Recall Cb</th>\n",
       "      <th>F1 Cb</th>\n",
       "      <th>Precision Ncb</th>\n",
       "      <th>Recall Ncb</th>\n",
       "      <th>F1 Ncb</th>\n",
       "      <th>Precision Overall</th>\n",
       "      <th>Recall Overall</th>\n",
       "      <th>F1 Overall</th>\n",
       "    </tr>\n",
       "  </thead>\n",
       "  <tbody>\n",
       "    <tr>\n",
       "      <td>1</td>\n",
       "      <td>0.098800</td>\n",
       "      <td>0.084813</td>\n",
       "      <td>0.973871</td>\n",
       "      <td>0.748879</td>\n",
       "      <td>0.620818</td>\n",
       "      <td>0.678862</td>\n",
       "      <td>0.982486</td>\n",
       "      <td>0.990308</td>\n",
       "      <td>0.986382</td>\n",
       "      <td>0.865683</td>\n",
       "      <td>0.805563</td>\n",
       "      <td>0.832622</td>\n",
       "    </tr>\n",
       "    <tr>\n",
       "      <td>2</td>\n",
       "      <td>0.070000</td>\n",
       "      <td>0.095506</td>\n",
       "      <td>0.971639</td>\n",
       "      <td>0.703549</td>\n",
       "      <td>0.626394</td>\n",
       "      <td>0.662734</td>\n",
       "      <td>0.982695</td>\n",
       "      <td>0.987712</td>\n",
       "      <td>0.985197</td>\n",
       "      <td>0.843122</td>\n",
       "      <td>0.807053</td>\n",
       "      <td>0.823965</td>\n",
       "    </tr>\n",
       "    <tr>\n",
       "      <td>3</td>\n",
       "      <td>0.065900</td>\n",
       "      <td>0.111611</td>\n",
       "      <td>0.973127</td>\n",
       "      <td>0.738255</td>\n",
       "      <td>0.613383</td>\n",
       "      <td>0.670051</td>\n",
       "      <td>0.982141</td>\n",
       "      <td>0.989875</td>\n",
       "      <td>0.985993</td>\n",
       "      <td>0.860198</td>\n",
       "      <td>0.801629</td>\n",
       "      <td>0.828022</td>\n",
       "    </tr>\n",
       "    <tr>\n",
       "      <td>4</td>\n",
       "      <td>0.040100</td>\n",
       "      <td>0.123968</td>\n",
       "      <td>0.972383</td>\n",
       "      <td>0.717021</td>\n",
       "      <td>0.626394</td>\n",
       "      <td>0.668651</td>\n",
       "      <td>0.982708</td>\n",
       "      <td>0.988491</td>\n",
       "      <td>0.985591</td>\n",
       "      <td>0.849865</td>\n",
       "      <td>0.807442</td>\n",
       "      <td>0.827121</td>\n",
       "    </tr>\n",
       "  </tbody>\n",
       "</table><p>"
      ],
      "text/plain": [
       "<IPython.core.display.HTML object>"
      ]
     },
     "metadata": {},
     "output_type": "display_data"
    },
    {
     "name": "stderr",
     "output_type": "stream",
     "text": [
      "***** Running Evaluation *****\n",
      "  Num examples = 12094\n",
      "  Batch size = 16\n",
      "Saving model checkpoint to content/drive/MyDrive_binary/output_MiniLM/fold2/checkpoint-6803\n",
      "Configuration saved in content/drive/MyDrive_binary/output_MiniLM/fold2/checkpoint-6803/config.json\n",
      "Model weights saved in content/drive/MyDrive_binary/output_MiniLM/fold2/checkpoint-6803/pytorch_model.bin\n",
      "/usr/local/lib/python3.9/dist-packages/torch/nn/parallel/_functions.py:68: UserWarning: Was asked to gather along dimension 0, but all input tensors were scalars; will instead unsqueeze and return a vector.\n",
      "  warnings.warn('Was asked to gather along dimension 0, but all '\n",
      "***** Running Evaluation *****\n",
      "  Num examples = 12094\n",
      "  Batch size = 16\n",
      "Saving model checkpoint to content/drive/MyDrive_binary/output_MiniLM/fold2/checkpoint-13606\n",
      "Configuration saved in content/drive/MyDrive_binary/output_MiniLM/fold2/checkpoint-13606/config.json\n",
      "Model weights saved in content/drive/MyDrive_binary/output_MiniLM/fold2/checkpoint-13606/pytorch_model.bin\n",
      "/usr/local/lib/python3.9/dist-packages/torch/nn/parallel/_functions.py:68: UserWarning: Was asked to gather along dimension 0, but all input tensors were scalars; will instead unsqueeze and return a vector.\n",
      "  warnings.warn('Was asked to gather along dimension 0, but all '\n",
      "***** Running Evaluation *****\n",
      "  Num examples = 12094\n",
      "  Batch size = 16\n",
      "Saving model checkpoint to content/drive/MyDrive_binary/output_MiniLM/fold2/checkpoint-20409\n",
      "Configuration saved in content/drive/MyDrive_binary/output_MiniLM/fold2/checkpoint-20409/config.json\n",
      "Model weights saved in content/drive/MyDrive_binary/output_MiniLM/fold2/checkpoint-20409/pytorch_model.bin\n",
      "/usr/local/lib/python3.9/dist-packages/torch/nn/parallel/_functions.py:68: UserWarning: Was asked to gather along dimension 0, but all input tensors were scalars; will instead unsqueeze and return a vector.\n",
      "  warnings.warn('Was asked to gather along dimension 0, but all '\n",
      "***** Running Evaluation *****\n",
      "  Num examples = 12094\n",
      "  Batch size = 16\n",
      "Saving model checkpoint to content/drive/MyDrive_binary/output_MiniLM/fold2/checkpoint-27212\n",
      "Configuration saved in content/drive/MyDrive_binary/output_MiniLM/fold2/checkpoint-27212/config.json\n",
      "Model weights saved in content/drive/MyDrive_binary/output_MiniLM/fold2/checkpoint-27212/pytorch_model.bin\n",
      "\n",
      "\n",
      "Training completed. Do not forget to share your model on huggingface.co/models =)\n",
      "\n",
      "\n",
      "Loading best model from content/drive/MyDrive_binary/output_MiniLM/fold2/checkpoint-6803 (score: 0.08481282740831375).\n",
      "2it [2:13:28, 4004.64s/it]"
     ]
    },
    {
     "name": "stdout",
     "output_type": "stream",
     "text": [
      "Complete for fold 2\n",
      "Running for Fold:  3\n"
     ]
    },
    {
     "name": "stderr",
     "output_type": "stream",
     "text": [
      "PyTorch: setting up devices\n",
      "The default value for the training argument `--report_to` will change in v5 (from all installed integrations to none). In v5, you will need to use `--report_to all` to get the same behavior as now. You should start updating your code and make this info disappear :-).\n",
      "/usr/local/lib/python3.9/dist-packages/transformers/optimization.py:306: FutureWarning: This implementation of AdamW is deprecated and will be removed in a future version. Use the PyTorch implementation torch.optim.AdamW instead, or set `no_deprecation_warning=True` to disable this warning\n",
      "  warnings.warn(\n",
      "***** Running training *****\n",
      "  Num examples = 108838\n",
      "  Num Epochs = 4\n",
      "  Instantaneous batch size per device = 8\n",
      "  Total train batch size (w. parallel, distributed & accumulation) = 16\n",
      "  Gradient Accumulation steps = 1\n",
      "  Total optimization steps = 27212\n",
      "Automatic Weights & Biases logging enabled, to disable set os.environ[\"WANDB_DISABLED\"] = \"true\"\n",
      "/usr/local/lib/python3.9/dist-packages/torch/nn/parallel/_functions.py:68: UserWarning: Was asked to gather along dimension 0, but all input tensors were scalars; will instead unsqueeze and return a vector.\n",
      "  warnings.warn('Was asked to gather along dimension 0, but all '\n"
     ]
    },
    {
     "data": {
      "text/html": [
       "\n",
       "    <div>\n",
       "      \n",
       "      <progress value='27212' max='27212' style='width:300px; height:20px; vertical-align: middle;'></progress>\n",
       "      [27212/27212 58:51, Epoch 4/4]\n",
       "    </div>\n",
       "    <table border=\"1\" class=\"dataframe\">\n",
       "  <thead>\n",
       " <tr style=\"text-align: left;\">\n",
       "      <th>Epoch</th>\n",
       "      <th>Training Loss</th>\n",
       "      <th>Validation Loss</th>\n",
       "      <th>Accuracy</th>\n",
       "      <th>Precision Cb</th>\n",
       "      <th>Recall Cb</th>\n",
       "      <th>F1 Cb</th>\n",
       "      <th>Precision Ncb</th>\n",
       "      <th>Recall Ncb</th>\n",
       "      <th>F1 Ncb</th>\n",
       "      <th>Precision Overall</th>\n",
       "      <th>Recall Overall</th>\n",
       "      <th>F1 Overall</th>\n",
       "    </tr>\n",
       "  </thead>\n",
       "  <tbody>\n",
       "    <tr>\n",
       "      <td>1</td>\n",
       "      <td>0.079400</td>\n",
       "      <td>0.086898</td>\n",
       "      <td>0.973375</td>\n",
       "      <td>0.867347</td>\n",
       "      <td>0.473978</td>\n",
       "      <td>0.612981</td>\n",
       "      <td>0.976017</td>\n",
       "      <td>0.996625</td>\n",
       "      <td>0.986213</td>\n",
       "      <td>0.921682</td>\n",
       "      <td>0.735301</td>\n",
       "      <td>0.799597</td>\n",
       "    </tr>\n",
       "    <tr>\n",
       "      <td>2</td>\n",
       "      <td>0.066900</td>\n",
       "      <td>0.094763</td>\n",
       "      <td>0.973458</td>\n",
       "      <td>0.730361</td>\n",
       "      <td>0.639405</td>\n",
       "      <td>0.681863</td>\n",
       "      <td>0.983309</td>\n",
       "      <td>0.989010</td>\n",
       "      <td>0.986151</td>\n",
       "      <td>0.856835</td>\n",
       "      <td>0.814208</td>\n",
       "      <td>0.834007</td>\n",
       "    </tr>\n",
       "    <tr>\n",
       "      <td>3</td>\n",
       "      <td>0.042100</td>\n",
       "      <td>0.098754</td>\n",
       "      <td>0.975773</td>\n",
       "      <td>0.764579</td>\n",
       "      <td>0.657993</td>\n",
       "      <td>0.707293</td>\n",
       "      <td>0.984180</td>\n",
       "      <td>0.990568</td>\n",
       "      <td>0.987364</td>\n",
       "      <td>0.874380</td>\n",
       "      <td>0.824280</td>\n",
       "      <td>0.847328</td>\n",
       "    </tr>\n",
       "    <tr>\n",
       "      <td>4</td>\n",
       "      <td>0.033400</td>\n",
       "      <td>0.118398</td>\n",
       "      <td>0.975690</td>\n",
       "      <td>0.769912</td>\n",
       "      <td>0.646840</td>\n",
       "      <td>0.703030</td>\n",
       "      <td>0.983680</td>\n",
       "      <td>0.991000</td>\n",
       "      <td>0.987326</td>\n",
       "      <td>0.876796</td>\n",
       "      <td>0.818920</td>\n",
       "      <td>0.845178</td>\n",
       "    </tr>\n",
       "  </tbody>\n",
       "</table><p>"
      ],
      "text/plain": [
       "<IPython.core.display.HTML object>"
      ]
     },
     "metadata": {},
     "output_type": "display_data"
    },
    {
     "name": "stderr",
     "output_type": "stream",
     "text": [
      "***** Running Evaluation *****\n",
      "  Num examples = 12094\n",
      "  Batch size = 16\n",
      "Saving model checkpoint to content/drive/MyDrive_binary/output_MiniLM/fold3/checkpoint-6803\n",
      "Configuration saved in content/drive/MyDrive_binary/output_MiniLM/fold3/checkpoint-6803/config.json\n",
      "Model weights saved in content/drive/MyDrive_binary/output_MiniLM/fold3/checkpoint-6803/pytorch_model.bin\n",
      "/usr/local/lib/python3.9/dist-packages/torch/nn/parallel/_functions.py:68: UserWarning: Was asked to gather along dimension 0, but all input tensors were scalars; will instead unsqueeze and return a vector.\n",
      "  warnings.warn('Was asked to gather along dimension 0, but all '\n",
      "***** Running Evaluation *****\n",
      "  Num examples = 12094\n",
      "  Batch size = 16\n",
      "Saving model checkpoint to content/drive/MyDrive_binary/output_MiniLM/fold3/checkpoint-13606\n",
      "Configuration saved in content/drive/MyDrive_binary/output_MiniLM/fold3/checkpoint-13606/config.json\n",
      "Model weights saved in content/drive/MyDrive_binary/output_MiniLM/fold3/checkpoint-13606/pytorch_model.bin\n",
      "/usr/local/lib/python3.9/dist-packages/torch/nn/parallel/_functions.py:68: UserWarning: Was asked to gather along dimension 0, but all input tensors were scalars; will instead unsqueeze and return a vector.\n",
      "  warnings.warn('Was asked to gather along dimension 0, but all '\n",
      "***** Running Evaluation *****\n",
      "  Num examples = 12094\n",
      "  Batch size = 16\n",
      "Saving model checkpoint to content/drive/MyDrive_binary/output_MiniLM/fold3/checkpoint-20409\n",
      "Configuration saved in content/drive/MyDrive_binary/output_MiniLM/fold3/checkpoint-20409/config.json\n",
      "Model weights saved in content/drive/MyDrive_binary/output_MiniLM/fold3/checkpoint-20409/pytorch_model.bin\n",
      "/usr/local/lib/python3.9/dist-packages/torch/nn/parallel/_functions.py:68: UserWarning: Was asked to gather along dimension 0, but all input tensors were scalars; will instead unsqueeze and return a vector.\n",
      "  warnings.warn('Was asked to gather along dimension 0, but all '\n",
      "***** Running Evaluation *****\n",
      "  Num examples = 12094\n",
      "  Batch size = 16\n",
      "Saving model checkpoint to content/drive/MyDrive_binary/output_MiniLM/fold3/checkpoint-27212\n",
      "Configuration saved in content/drive/MyDrive_binary/output_MiniLM/fold3/checkpoint-27212/config.json\n",
      "Model weights saved in content/drive/MyDrive_binary/output_MiniLM/fold3/checkpoint-27212/pytorch_model.bin\n",
      "\n",
      "\n",
      "Training completed. Do not forget to share your model on huggingface.co/models =)\n",
      "\n",
      "\n",
      "Loading best model from content/drive/MyDrive_binary/output_MiniLM/fold3/checkpoint-6803 (score: 0.08689761906862259).\n",
      "3it [3:12:34, 3795.36s/it]"
     ]
    },
    {
     "name": "stdout",
     "output_type": "stream",
     "text": [
      "Complete for fold 3\n",
      "Running for Fold:  4\n"
     ]
    },
    {
     "name": "stderr",
     "output_type": "stream",
     "text": [
      "PyTorch: setting up devices\n",
      "The default value for the training argument `--report_to` will change in v5 (from all installed integrations to none). In v5, you will need to use `--report_to all` to get the same behavior as now. You should start updating your code and make this info disappear :-).\n",
      "/usr/local/lib/python3.9/dist-packages/transformers/optimization.py:306: FutureWarning: This implementation of AdamW is deprecated and will be removed in a future version. Use the PyTorch implementation torch.optim.AdamW instead, or set `no_deprecation_warning=True` to disable this warning\n",
      "  warnings.warn(\n",
      "***** Running training *****\n",
      "  Num examples = 108838\n",
      "  Num Epochs = 4\n",
      "  Instantaneous batch size per device = 8\n",
      "  Total train batch size (w. parallel, distributed & accumulation) = 16\n",
      "  Gradient Accumulation steps = 1\n",
      "  Total optimization steps = 27212\n",
      "Automatic Weights & Biases logging enabled, to disable set os.environ[\"WANDB_DISABLED\"] = \"true\"\n",
      "/usr/local/lib/python3.9/dist-packages/torch/nn/parallel/_functions.py:68: UserWarning: Was asked to gather along dimension 0, but all input tensors were scalars; will instead unsqueeze and return a vector.\n",
      "  warnings.warn('Was asked to gather along dimension 0, but all '\n"
     ]
    },
    {
     "data": {
      "text/html": [
       "\n",
       "    <div>\n",
       "      \n",
       "      <progress value='27212' max='27212' style='width:300px; height:20px; vertical-align: middle;'></progress>\n",
       "      [27212/27212 1:07:27, Epoch 4/4]\n",
       "    </div>\n",
       "    <table border=\"1\" class=\"dataframe\">\n",
       "  <thead>\n",
       " <tr style=\"text-align: left;\">\n",
       "      <th>Epoch</th>\n",
       "      <th>Training Loss</th>\n",
       "      <th>Validation Loss</th>\n",
       "      <th>Accuracy</th>\n",
       "      <th>Precision Cb</th>\n",
       "      <th>Recall Cb</th>\n",
       "      <th>F1 Cb</th>\n",
       "      <th>Precision Ncb</th>\n",
       "      <th>Recall Ncb</th>\n",
       "      <th>F1 Ncb</th>\n",
       "      <th>Precision Overall</th>\n",
       "      <th>Recall Overall</th>\n",
       "      <th>F1 Overall</th>\n",
       "    </tr>\n",
       "  </thead>\n",
       "  <tbody>\n",
       "    <tr>\n",
       "      <td>1</td>\n",
       "      <td>0.069800</td>\n",
       "      <td>0.060343</td>\n",
       "      <td>0.981809</td>\n",
       "      <td>0.816733</td>\n",
       "      <td>0.762082</td>\n",
       "      <td>0.788462</td>\n",
       "      <td>0.988958</td>\n",
       "      <td>0.992039</td>\n",
       "      <td>0.990496</td>\n",
       "      <td>0.902845</td>\n",
       "      <td>0.877060</td>\n",
       "      <td>0.889479</td>\n",
       "    </tr>\n",
       "    <tr>\n",
       "      <td>2</td>\n",
       "      <td>0.048800</td>\n",
       "      <td>0.079053</td>\n",
       "      <td>0.980238</td>\n",
       "      <td>0.884319</td>\n",
       "      <td>0.639405</td>\n",
       "      <td>0.742179</td>\n",
       "      <td>0.983426</td>\n",
       "      <td>0.996106</td>\n",
       "      <td>0.989725</td>\n",
       "      <td>0.933872</td>\n",
       "      <td>0.817756</td>\n",
       "      <td>0.865952</td>\n",
       "    </tr>\n",
       "    <tr>\n",
       "      <td>3</td>\n",
       "      <td>0.031800</td>\n",
       "      <td>0.082326</td>\n",
       "      <td>0.981065</td>\n",
       "      <td>0.832258</td>\n",
       "      <td>0.719331</td>\n",
       "      <td>0.771685</td>\n",
       "      <td>0.987015</td>\n",
       "      <td>0.993250</td>\n",
       "      <td>0.990123</td>\n",
       "      <td>0.909637</td>\n",
       "      <td>0.856291</td>\n",
       "      <td>0.880904</td>\n",
       "    </tr>\n",
       "    <tr>\n",
       "      <td>4</td>\n",
       "      <td>0.023400</td>\n",
       "      <td>0.091350</td>\n",
       "      <td>0.982057</td>\n",
       "      <td>0.842217</td>\n",
       "      <td>0.734201</td>\n",
       "      <td>0.784508</td>\n",
       "      <td>0.987699</td>\n",
       "      <td>0.993596</td>\n",
       "      <td>0.990639</td>\n",
       "      <td>0.914958</td>\n",
       "      <td>0.863899</td>\n",
       "      <td>0.887574</td>\n",
       "    </tr>\n",
       "  </tbody>\n",
       "</table><p>"
      ],
      "text/plain": [
       "<IPython.core.display.HTML object>"
      ]
     },
     "metadata": {},
     "output_type": "display_data"
    },
    {
     "name": "stderr",
     "output_type": "stream",
     "text": [
      "***** Running Evaluation *****\n",
      "  Num examples = 12094\n",
      "  Batch size = 16\n",
      "Saving model checkpoint to content/drive/MyDrive_binary/output_MiniLM/fold4/checkpoint-6803\n",
      "Configuration saved in content/drive/MyDrive_binary/output_MiniLM/fold4/checkpoint-6803/config.json\n",
      "Model weights saved in content/drive/MyDrive_binary/output_MiniLM/fold4/checkpoint-6803/pytorch_model.bin\n",
      "/usr/local/lib/python3.9/dist-packages/torch/nn/parallel/_functions.py:68: UserWarning: Was asked to gather along dimension 0, but all input tensors were scalars; will instead unsqueeze and return a vector.\n",
      "  warnings.warn('Was asked to gather along dimension 0, but all '\n",
      "***** Running Evaluation *****\n",
      "  Num examples = 12094\n",
      "  Batch size = 16\n",
      "Saving model checkpoint to content/drive/MyDrive_binary/output_MiniLM/fold4/checkpoint-13606\n",
      "Configuration saved in content/drive/MyDrive_binary/output_MiniLM/fold4/checkpoint-13606/config.json\n",
      "Model weights saved in content/drive/MyDrive_binary/output_MiniLM/fold4/checkpoint-13606/pytorch_model.bin\n",
      "/usr/local/lib/python3.9/dist-packages/torch/nn/parallel/_functions.py:68: UserWarning: Was asked to gather along dimension 0, but all input tensors were scalars; will instead unsqueeze and return a vector.\n",
      "  warnings.warn('Was asked to gather along dimension 0, but all '\n",
      "***** Running Evaluation *****\n",
      "  Num examples = 12094\n",
      "  Batch size = 16\n",
      "Saving model checkpoint to content/drive/MyDrive_binary/output_MiniLM/fold4/checkpoint-20409\n",
      "Configuration saved in content/drive/MyDrive_binary/output_MiniLM/fold4/checkpoint-20409/config.json\n",
      "Model weights saved in content/drive/MyDrive_binary/output_MiniLM/fold4/checkpoint-20409/pytorch_model.bin\n",
      "/usr/local/lib/python3.9/dist-packages/torch/nn/parallel/_functions.py:68: UserWarning: Was asked to gather along dimension 0, but all input tensors were scalars; will instead unsqueeze and return a vector.\n",
      "  warnings.warn('Was asked to gather along dimension 0, but all '\n",
      "***** Running Evaluation *****\n",
      "  Num examples = 12094\n",
      "  Batch size = 16\n",
      "Saving model checkpoint to content/drive/MyDrive_binary/output_MiniLM/fold4/checkpoint-27212\n",
      "Configuration saved in content/drive/MyDrive_binary/output_MiniLM/fold4/checkpoint-27212/config.json\n",
      "Model weights saved in content/drive/MyDrive_binary/output_MiniLM/fold4/checkpoint-27212/pytorch_model.bin\n",
      "\n",
      "\n",
      "Training completed. Do not forget to share your model on huggingface.co/models =)\n",
      "\n",
      "\n",
      "Loading best model from content/drive/MyDrive_binary/output_MiniLM/fold4/checkpoint-6803 (score: 0.06034262478351593).\n",
      "4it [4:20:17, 3900.97s/it]"
     ]
    },
    {
     "name": "stdout",
     "output_type": "stream",
     "text": [
      "Complete for fold 4\n",
      "Running for Fold:  5\n"
     ]
    },
    {
     "name": "stderr",
     "output_type": "stream",
     "text": [
      "PyTorch: setting up devices\n",
      "The default value for the training argument `--report_to` will change in v5 (from all installed integrations to none). In v5, you will need to use `--report_to all` to get the same behavior as now. You should start updating your code and make this info disappear :-).\n",
      "/usr/local/lib/python3.9/dist-packages/transformers/optimization.py:306: FutureWarning: This implementation of AdamW is deprecated and will be removed in a future version. Use the PyTorch implementation torch.optim.AdamW instead, or set `no_deprecation_warning=True` to disable this warning\n",
      "  warnings.warn(\n",
      "***** Running training *****\n",
      "  Num examples = 108838\n",
      "  Num Epochs = 4\n",
      "  Instantaneous batch size per device = 8\n",
      "  Total train batch size (w. parallel, distributed & accumulation) = 16\n",
      "  Gradient Accumulation steps = 1\n",
      "  Total optimization steps = 27212\n",
      "Automatic Weights & Biases logging enabled, to disable set os.environ[\"WANDB_DISABLED\"] = \"true\"\n",
      "/usr/local/lib/python3.9/dist-packages/torch/nn/parallel/_functions.py:68: UserWarning: Was asked to gather along dimension 0, but all input tensors were scalars; will instead unsqueeze and return a vector.\n",
      "  warnings.warn('Was asked to gather along dimension 0, but all '\n"
     ]
    },
    {
     "data": {
      "text/html": [
       "\n",
       "    <div>\n",
       "      \n",
       "      <progress value='27212' max='27212' style='width:300px; height:20px; vertical-align: middle;'></progress>\n",
       "      [27212/27212 1:07:36, Epoch 4/4]\n",
       "    </div>\n",
       "    <table border=\"1\" class=\"dataframe\">\n",
       "  <thead>\n",
       " <tr style=\"text-align: left;\">\n",
       "      <th>Epoch</th>\n",
       "      <th>Training Loss</th>\n",
       "      <th>Validation Loss</th>\n",
       "      <th>Accuracy</th>\n",
       "      <th>Precision Cb</th>\n",
       "      <th>Recall Cb</th>\n",
       "      <th>F1 Cb</th>\n",
       "      <th>Precision Ncb</th>\n",
       "      <th>Recall Ncb</th>\n",
       "      <th>F1 Ncb</th>\n",
       "      <th>Precision Overall</th>\n",
       "      <th>Recall Overall</th>\n",
       "      <th>F1 Overall</th>\n",
       "    </tr>\n",
       "  </thead>\n",
       "  <tbody>\n",
       "    <tr>\n",
       "      <td>1</td>\n",
       "      <td>0.055500</td>\n",
       "      <td>0.047071</td>\n",
       "      <td>0.985117</td>\n",
       "      <td>0.862348</td>\n",
       "      <td>0.791822</td>\n",
       "      <td>0.825581</td>\n",
       "      <td>0.990345</td>\n",
       "      <td>0.994116</td>\n",
       "      <td>0.992227</td>\n",
       "      <td>0.926347</td>\n",
       "      <td>0.892969</td>\n",
       "      <td>0.908904</td>\n",
       "    </tr>\n",
       "    <tr>\n",
       "      <td>2</td>\n",
       "      <td>0.045600</td>\n",
       "      <td>0.059772</td>\n",
       "      <td>0.984372</td>\n",
       "      <td>0.864301</td>\n",
       "      <td>0.769517</td>\n",
       "      <td>0.814159</td>\n",
       "      <td>0.989324</td>\n",
       "      <td>0.994375</td>\n",
       "      <td>0.991843</td>\n",
       "      <td>0.926812</td>\n",
       "      <td>0.881946</td>\n",
       "      <td>0.903001</td>\n",
       "    </tr>\n",
       "    <tr>\n",
       "      <td>3</td>\n",
       "      <td>0.038800</td>\n",
       "      <td>0.064670</td>\n",
       "      <td>0.984951</td>\n",
       "      <td>0.838403</td>\n",
       "      <td>0.819703</td>\n",
       "      <td>0.828947</td>\n",
       "      <td>0.991615</td>\n",
       "      <td>0.992645</td>\n",
       "      <td>0.992129</td>\n",
       "      <td>0.915009</td>\n",
       "      <td>0.906174</td>\n",
       "      <td>0.910538</td>\n",
       "    </tr>\n",
       "    <tr>\n",
       "      <td>4</td>\n",
       "      <td>0.024000</td>\n",
       "      <td>0.069853</td>\n",
       "      <td>0.985861</td>\n",
       "      <td>0.881497</td>\n",
       "      <td>0.788104</td>\n",
       "      <td>0.832188</td>\n",
       "      <td>0.990183</td>\n",
       "      <td>0.995067</td>\n",
       "      <td>0.992619</td>\n",
       "      <td>0.935840</td>\n",
       "      <td>0.891586</td>\n",
       "      <td>0.912404</td>\n",
       "    </tr>\n",
       "  </tbody>\n",
       "</table><p>"
      ],
      "text/plain": [
       "<IPython.core.display.HTML object>"
      ]
     },
     "metadata": {},
     "output_type": "display_data"
    },
    {
     "name": "stderr",
     "output_type": "stream",
     "text": [
      "***** Running Evaluation *****\n",
      "  Num examples = 12094\n",
      "  Batch size = 16\n",
      "Saving model checkpoint to content/drive/MyDrive_binary/output_MiniLM/fold5/checkpoint-6803\n",
      "Configuration saved in content/drive/MyDrive_binary/output_MiniLM/fold5/checkpoint-6803/config.json\n",
      "Model weights saved in content/drive/MyDrive_binary/output_MiniLM/fold5/checkpoint-6803/pytorch_model.bin\n",
      "/usr/local/lib/python3.9/dist-packages/torch/nn/parallel/_functions.py:68: UserWarning: Was asked to gather along dimension 0, but all input tensors were scalars; will instead unsqueeze and return a vector.\n",
      "  warnings.warn('Was asked to gather along dimension 0, but all '\n",
      "***** Running Evaluation *****\n",
      "  Num examples = 12094\n",
      "  Batch size = 16\n",
      "Saving model checkpoint to content/drive/MyDrive_binary/output_MiniLM/fold5/checkpoint-13606\n",
      "Configuration saved in content/drive/MyDrive_binary/output_MiniLM/fold5/checkpoint-13606/config.json\n",
      "Model weights saved in content/drive/MyDrive_binary/output_MiniLM/fold5/checkpoint-13606/pytorch_model.bin\n",
      "/usr/local/lib/python3.9/dist-packages/torch/nn/parallel/_functions.py:68: UserWarning: Was asked to gather along dimension 0, but all input tensors were scalars; will instead unsqueeze and return a vector.\n",
      "  warnings.warn('Was asked to gather along dimension 0, but all '\n",
      "***** Running Evaluation *****\n",
      "  Num examples = 12094\n",
      "  Batch size = 16\n",
      "Saving model checkpoint to content/drive/MyDrive_binary/output_MiniLM/fold5/checkpoint-20409\n",
      "Configuration saved in content/drive/MyDrive_binary/output_MiniLM/fold5/checkpoint-20409/config.json\n",
      "Model weights saved in content/drive/MyDrive_binary/output_MiniLM/fold5/checkpoint-20409/pytorch_model.bin\n",
      "/usr/local/lib/python3.9/dist-packages/torch/nn/parallel/_functions.py:68: UserWarning: Was asked to gather along dimension 0, but all input tensors were scalars; will instead unsqueeze and return a vector.\n",
      "  warnings.warn('Was asked to gather along dimension 0, but all '\n",
      "***** Running Evaluation *****\n",
      "  Num examples = 12094\n",
      "  Batch size = 16\n",
      "Saving model checkpoint to content/drive/MyDrive_binary/output_MiniLM/fold5/checkpoint-27212\n",
      "Configuration saved in content/drive/MyDrive_binary/output_MiniLM/fold5/checkpoint-27212/config.json\n",
      "Model weights saved in content/drive/MyDrive_binary/output_MiniLM/fold5/checkpoint-27212/pytorch_model.bin\n",
      "\n",
      "\n",
      "Training completed. Do not forget to share your model on huggingface.co/models =)\n",
      "\n",
      "\n",
      "Loading best model from content/drive/MyDrive_binary/output_MiniLM/fold5/checkpoint-6803 (score: 0.04707089811563492).\n",
      "5it [5:28:09, 3937.95s/it]\n"
     ]
    },
    {
     "name": "stdout",
     "output_type": "stream",
     "text": [
      "Complete for fold 5\n"
     ]
    }
   ],
   "source": [
    "run_cross_validation(model_name='MiniLM',\n",
    "                         X=X,\n",
    "                         y=y, \n",
    "                         splits=5,\n",
    "                         epoch=4,\n",
    "                         checkpoint=False)"
   ]
  },
  {
   "cell_type": "markdown",
   "id": "a3cabdda-c5a2-44ef-b8ef-61de87bc9003",
   "metadata": {
    "id": "q5A2sV2dKlPb",
    "jp-MarkdownHeadingCollapsed": true,
    "tags": []
   },
   "source": [
    "### [Continue] Cross Validation (K = 5)"
   ]
  },
  {
   "cell_type": "code",
   "execution_count": 77,
   "id": "20a158e0-251b-47f3-80bb-f5a47f2496a0",
   "metadata": {
    "execution": {
     "iopub.execute_input": "2023-08-13T10:24:10.988624Z",
     "iopub.status.busy": "2023-08-13T10:24:10.988188Z",
     "iopub.status.idle": "2023-08-13T10:25:26.177668Z",
     "shell.execute_reply": "2023-08-13T10:25:26.177084Z",
     "shell.execute_reply.started": "2023-08-13T10:24:10.988604Z"
    },
    "id": "p5QGotWv8_-V"
   },
   "outputs": [
    {
     "name": "stdout",
     "output_type": "stream",
     "text": [
      "Developing Model with Cross validation for: MiniLM\n"
     ]
    },
    {
     "name": "stderr",
     "output_type": "stream",
     "text": [
      "0it [00:00, ?it/s]"
     ]
    },
    {
     "name": "stdout",
     "output_type": "stream",
     "text": [
      "Running for Fold:  1\n"
     ]
    },
    {
     "name": "stderr",
     "output_type": "stream",
     "text": [
      "PyTorch: setting up devices\n",
      "The default value for the training argument `--report_to` will change in v5 (from all installed integrations to none). In v5, you will need to use `--report_to all` to get the same behavior as now. You should start updating your code and make this info disappear :-).\n",
      "Loading model from content/drive/MyDrive_binary/output_MiniLM/fold1/checkpoint-27212.\n",
      "/usr/local/lib/python3.9/dist-packages/transformers/optimization.py:306: FutureWarning: This implementation of AdamW is deprecated and will be removed in a future version. Use the PyTorch implementation torch.optim.AdamW instead, or set `no_deprecation_warning=True` to disable this warning\n",
      "  warnings.warn(\n",
      "***** Running training *****\n",
      "  Num examples = 108838\n",
      "  Num Epochs = 4\n",
      "  Instantaneous batch size per device = 8\n",
      "  Total train batch size (w. parallel, distributed & accumulation) = 16\n",
      "  Gradient Accumulation steps = 1\n",
      "  Total optimization steps = 27212\n",
      "  Continuing training from checkpoint, will skip to saved global_step\n",
      "  Continuing training from epoch 4\n",
      "  Continuing training from global step 27212\n",
      "  Will skip the first 4 epochs then the first 0 batches in the first epoch. If this takes a lot of time, you can add the `--ignore_data_skip` flag to your launch command, but you will resume the training on data already seen by your model.\n"
     ]
    },
    {
     "data": {
      "application/vnd.jupyter.widget-view+json": {
       "model_id": "226fb3bd94cd423dadf2e0f1ae710c37",
       "version_major": 2,
       "version_minor": 0
      },
      "text/plain": [
       "0it [00:00, ?it/s]"
      ]
     },
     "metadata": {},
     "output_type": "display_data"
    },
    {
     "name": "stderr",
     "output_type": "stream",
     "text": [
      "Automatic Weights & Biases logging enabled, to disable set os.environ[\"WANDB_DISABLED\"] = \"true\"\n",
      "\n",
      "\n",
      "Training completed. Do not forget to share your model on huggingface.co/models =)\n",
      "\n",
      "\n",
      "Loading best model from content/drive/MyDrive_binary/output_MiniLM/fold1/checkpoint-6803 (score: 0.09456759691238403).\n"
     ]
    },
    {
     "data": {
      "text/html": [
       "\n",
       "    <div>\n",
       "      \n",
       "      <progress value='27212' max='27212' style='width:300px; height:20px; vertical-align: middle;'></progress>\n",
       "      [27212/27212 : < :, Epoch 4/4]\n",
       "    </div>\n",
       "    <table border=\"1\" class=\"dataframe\">\n",
       "  <thead>\n",
       " <tr style=\"text-align: left;\">\n",
       "      <th>Epoch</th>\n",
       "      <th>Training Loss</th>\n",
       "      <th>Validation Loss</th>\n",
       "    </tr>\n",
       "  </thead>\n",
       "  <tbody>\n",
       "  </tbody>\n",
       "</table><p>"
      ],
      "text/plain": [
       "<IPython.core.display.HTML object>"
      ]
     },
     "metadata": {},
     "output_type": "display_data"
    },
    {
     "name": "stderr",
     "output_type": "stream",
     "text": [
      "1it [00:14, 14.66s/it]"
     ]
    },
    {
     "name": "stdout",
     "output_type": "stream",
     "text": [
      "Complete for fold 1\n",
      "Running for Fold:  2\n"
     ]
    },
    {
     "name": "stderr",
     "output_type": "stream",
     "text": [
      "PyTorch: setting up devices\n",
      "The default value for the training argument `--report_to` will change in v5 (from all installed integrations to none). In v5, you will need to use `--report_to all` to get the same behavior as now. You should start updating your code and make this info disappear :-).\n",
      "Loading model from content/drive/MyDrive_binary/output_MiniLM/fold2/checkpoint-27212.\n",
      "/usr/local/lib/python3.9/dist-packages/transformers/optimization.py:306: FutureWarning: This implementation of AdamW is deprecated and will be removed in a future version. Use the PyTorch implementation torch.optim.AdamW instead, or set `no_deprecation_warning=True` to disable this warning\n",
      "  warnings.warn(\n",
      "***** Running training *****\n",
      "  Num examples = 108838\n",
      "  Num Epochs = 4\n",
      "  Instantaneous batch size per device = 8\n",
      "  Total train batch size (w. parallel, distributed & accumulation) = 16\n",
      "  Gradient Accumulation steps = 1\n",
      "  Total optimization steps = 27212\n",
      "  Continuing training from checkpoint, will skip to saved global_step\n",
      "  Continuing training from epoch 4\n",
      "  Continuing training from global step 27212\n",
      "  Will skip the first 4 epochs then the first 0 batches in the first epoch. If this takes a lot of time, you can add the `--ignore_data_skip` flag to your launch command, but you will resume the training on data already seen by your model.\n"
     ]
    },
    {
     "data": {
      "application/vnd.jupyter.widget-view+json": {
       "model_id": "eaf3eea55d2a4ac3951c21c4a8ddbd00",
       "version_major": 2,
       "version_minor": 0
      },
      "text/plain": [
       "0it [00:00, ?it/s]"
      ]
     },
     "metadata": {},
     "output_type": "display_data"
    },
    {
     "name": "stderr",
     "output_type": "stream",
     "text": [
      "Automatic Weights & Biases logging enabled, to disable set os.environ[\"WANDB_DISABLED\"] = \"true\"\n",
      "\n",
      "\n",
      "Training completed. Do not forget to share your model on huggingface.co/models =)\n",
      "\n",
      "\n",
      "Loading best model from content/drive/MyDrive_binary/output_MiniLM/fold2/checkpoint-6803 (score: 0.08481282740831375).\n"
     ]
    },
    {
     "data": {
      "text/html": [
       "\n",
       "    <div>\n",
       "      \n",
       "      <progress value='27212' max='27212' style='width:300px; height:20px; vertical-align: middle;'></progress>\n",
       "      [27212/27212 : < :, Epoch 4/4]\n",
       "    </div>\n",
       "    <table border=\"1\" class=\"dataframe\">\n",
       "  <thead>\n",
       " <tr style=\"text-align: left;\">\n",
       "      <th>Epoch</th>\n",
       "      <th>Training Loss</th>\n",
       "      <th>Validation Loss</th>\n",
       "    </tr>\n",
       "  </thead>\n",
       "  <tbody>\n",
       "  </tbody>\n",
       "</table><p>"
      ],
      "text/plain": [
       "<IPython.core.display.HTML object>"
      ]
     },
     "metadata": {},
     "output_type": "display_data"
    },
    {
     "name": "stderr",
     "output_type": "stream",
     "text": [
      "2it [00:30, 15.57s/it]"
     ]
    },
    {
     "name": "stdout",
     "output_type": "stream",
     "text": [
      "Complete for fold 2\n",
      "Running for Fold:  3\n"
     ]
    },
    {
     "name": "stderr",
     "output_type": "stream",
     "text": [
      "PyTorch: setting up devices\n",
      "The default value for the training argument `--report_to` will change in v5 (from all installed integrations to none). In v5, you will need to use `--report_to all` to get the same behavior as now. You should start updating your code and make this info disappear :-).\n",
      "Loading model from content/drive/MyDrive_binary/output_MiniLM/fold3/checkpoint-27212.\n",
      "/usr/local/lib/python3.9/dist-packages/transformers/optimization.py:306: FutureWarning: This implementation of AdamW is deprecated and will be removed in a future version. Use the PyTorch implementation torch.optim.AdamW instead, or set `no_deprecation_warning=True` to disable this warning\n",
      "  warnings.warn(\n",
      "***** Running training *****\n",
      "  Num examples = 108838\n",
      "  Num Epochs = 4\n",
      "  Instantaneous batch size per device = 8\n",
      "  Total train batch size (w. parallel, distributed & accumulation) = 16\n",
      "  Gradient Accumulation steps = 1\n",
      "  Total optimization steps = 27212\n",
      "  Continuing training from checkpoint, will skip to saved global_step\n",
      "  Continuing training from epoch 4\n",
      "  Continuing training from global step 27212\n",
      "  Will skip the first 4 epochs then the first 0 batches in the first epoch. If this takes a lot of time, you can add the `--ignore_data_skip` flag to your launch command, but you will resume the training on data already seen by your model.\n"
     ]
    },
    {
     "data": {
      "application/vnd.jupyter.widget-view+json": {
       "model_id": "5cb3b67a2d8f46cdbdd4430e1af1f2a0",
       "version_major": 2,
       "version_minor": 0
      },
      "text/plain": [
       "0it [00:00, ?it/s]"
      ]
     },
     "metadata": {},
     "output_type": "display_data"
    },
    {
     "name": "stderr",
     "output_type": "stream",
     "text": [
      "Automatic Weights & Biases logging enabled, to disable set os.environ[\"WANDB_DISABLED\"] = \"true\"\n",
      "\n",
      "\n",
      "Training completed. Do not forget to share your model on huggingface.co/models =)\n",
      "\n",
      "\n",
      "Loading best model from content/drive/MyDrive_binary/output_MiniLM/fold3/checkpoint-6803 (score: 0.08689761906862259).\n"
     ]
    },
    {
     "data": {
      "text/html": [
       "\n",
       "    <div>\n",
       "      \n",
       "      <progress value='27212' max='27212' style='width:300px; height:20px; vertical-align: middle;'></progress>\n",
       "      [27212/27212 : < :, Epoch 4/4]\n",
       "    </div>\n",
       "    <table border=\"1\" class=\"dataframe\">\n",
       "  <thead>\n",
       " <tr style=\"text-align: left;\">\n",
       "      <th>Epoch</th>\n",
       "      <th>Training Loss</th>\n",
       "      <th>Validation Loss</th>\n",
       "    </tr>\n",
       "  </thead>\n",
       "  <tbody>\n",
       "  </tbody>\n",
       "</table><p>"
      ],
      "text/plain": [
       "<IPython.core.display.HTML object>"
      ]
     },
     "metadata": {},
     "output_type": "display_data"
    },
    {
     "name": "stderr",
     "output_type": "stream",
     "text": [
      "3it [00:42, 13.73s/it]"
     ]
    },
    {
     "name": "stdout",
     "output_type": "stream",
     "text": [
      "Complete for fold 3\n",
      "Running for Fold:  4\n"
     ]
    },
    {
     "name": "stderr",
     "output_type": "stream",
     "text": [
      "PyTorch: setting up devices\n",
      "The default value for the training argument `--report_to` will change in v5 (from all installed integrations to none). In v5, you will need to use `--report_to all` to get the same behavior as now. You should start updating your code and make this info disappear :-).\n",
      "Loading model from content/drive/MyDrive_binary/output_MiniLM/fold4/checkpoint-27212.\n",
      "/usr/local/lib/python3.9/dist-packages/transformers/optimization.py:306: FutureWarning: This implementation of AdamW is deprecated and will be removed in a future version. Use the PyTorch implementation torch.optim.AdamW instead, or set `no_deprecation_warning=True` to disable this warning\n",
      "  warnings.warn(\n",
      "***** Running training *****\n",
      "  Num examples = 108838\n",
      "  Num Epochs = 4\n",
      "  Instantaneous batch size per device = 8\n",
      "  Total train batch size (w. parallel, distributed & accumulation) = 16\n",
      "  Gradient Accumulation steps = 1\n",
      "  Total optimization steps = 27212\n",
      "  Continuing training from checkpoint, will skip to saved global_step\n",
      "  Continuing training from epoch 4\n",
      "  Continuing training from global step 27212\n",
      "  Will skip the first 4 epochs then the first 0 batches in the first epoch. If this takes a lot of time, you can add the `--ignore_data_skip` flag to your launch command, but you will resume the training on data already seen by your model.\n"
     ]
    },
    {
     "data": {
      "application/vnd.jupyter.widget-view+json": {
       "model_id": "9a0150304fa34c06b190163d43c183d6",
       "version_major": 2,
       "version_minor": 0
      },
      "text/plain": [
       "0it [00:00, ?it/s]"
      ]
     },
     "metadata": {},
     "output_type": "display_data"
    },
    {
     "name": "stderr",
     "output_type": "stream",
     "text": [
      "Automatic Weights & Biases logging enabled, to disable set os.environ[\"WANDB_DISABLED\"] = \"true\"\n",
      "\n",
      "\n",
      "Training completed. Do not forget to share your model on huggingface.co/models =)\n",
      "\n",
      "\n",
      "Loading best model from content/drive/MyDrive_binary/output_MiniLM/fold4/checkpoint-6803 (score: 0.06034262478351593).\n"
     ]
    },
    {
     "data": {
      "text/html": [
       "\n",
       "    <div>\n",
       "      \n",
       "      <progress value='27212' max='27212' style='width:300px; height:20px; vertical-align: middle;'></progress>\n",
       "      [27212/27212 : < :, Epoch 4/4]\n",
       "    </div>\n",
       "    <table border=\"1\" class=\"dataframe\">\n",
       "  <thead>\n",
       " <tr style=\"text-align: left;\">\n",
       "      <th>Epoch</th>\n",
       "      <th>Training Loss</th>\n",
       "      <th>Validation Loss</th>\n",
       "    </tr>\n",
       "  </thead>\n",
       "  <tbody>\n",
       "  </tbody>\n",
       "</table><p>"
      ],
      "text/plain": [
       "<IPython.core.display.HTML object>"
      ]
     },
     "metadata": {},
     "output_type": "display_data"
    },
    {
     "name": "stderr",
     "output_type": "stream",
     "text": [
      "4it [00:57, 14.26s/it]"
     ]
    },
    {
     "name": "stdout",
     "output_type": "stream",
     "text": [
      "Complete for fold 4\n",
      "Running for Fold:  5\n"
     ]
    },
    {
     "name": "stderr",
     "output_type": "stream",
     "text": [
      "PyTorch: setting up devices\n",
      "The default value for the training argument `--report_to` will change in v5 (from all installed integrations to none). In v5, you will need to use `--report_to all` to get the same behavior as now. You should start updating your code and make this info disappear :-).\n",
      "Loading model from content/drive/MyDrive_binary/output_MiniLM/fold5/checkpoint-27212.\n",
      "/usr/local/lib/python3.9/dist-packages/transformers/optimization.py:306: FutureWarning: This implementation of AdamW is deprecated and will be removed in a future version. Use the PyTorch implementation torch.optim.AdamW instead, or set `no_deprecation_warning=True` to disable this warning\n",
      "  warnings.warn(\n",
      "***** Running training *****\n",
      "  Num examples = 108838\n",
      "  Num Epochs = 4\n",
      "  Instantaneous batch size per device = 8\n",
      "  Total train batch size (w. parallel, distributed & accumulation) = 16\n",
      "  Gradient Accumulation steps = 1\n",
      "  Total optimization steps = 27212\n",
      "  Continuing training from checkpoint, will skip to saved global_step\n",
      "  Continuing training from epoch 4\n",
      "  Continuing training from global step 27212\n",
      "  Will skip the first 4 epochs then the first 0 batches in the first epoch. If this takes a lot of time, you can add the `--ignore_data_skip` flag to your launch command, but you will resume the training on data already seen by your model.\n"
     ]
    },
    {
     "data": {
      "application/vnd.jupyter.widget-view+json": {
       "model_id": "bb419b2207e741e4a4da5862a97d373c",
       "version_major": 2,
       "version_minor": 0
      },
      "text/plain": [
       "0it [00:00, ?it/s]"
      ]
     },
     "metadata": {},
     "output_type": "display_data"
    },
    {
     "name": "stderr",
     "output_type": "stream",
     "text": [
      "Automatic Weights & Biases logging enabled, to disable set os.environ[\"WANDB_DISABLED\"] = \"true\"\n",
      "\n",
      "\n",
      "Training completed. Do not forget to share your model on huggingface.co/models =)\n",
      "\n",
      "\n",
      "Loading best model from content/drive/MyDrive_binary/output_MiniLM/fold5/checkpoint-6803 (score: 0.04707089811563492).\n"
     ]
    },
    {
     "data": {
      "text/html": [
       "\n",
       "    <div>\n",
       "      \n",
       "      <progress value='27212' max='27212' style='width:300px; height:20px; vertical-align: middle;'></progress>\n",
       "      [27212/27212 : < :, Epoch 4/4]\n",
       "    </div>\n",
       "    <table border=\"1\" class=\"dataframe\">\n",
       "  <thead>\n",
       " <tr style=\"text-align: left;\">\n",
       "      <th>Epoch</th>\n",
       "      <th>Training Loss</th>\n",
       "      <th>Validation Loss</th>\n",
       "    </tr>\n",
       "  </thead>\n",
       "  <tbody>\n",
       "  </tbody>\n",
       "</table><p>"
      ],
      "text/plain": [
       "<IPython.core.display.HTML object>"
      ]
     },
     "metadata": {},
     "output_type": "display_data"
    },
    {
     "name": "stderr",
     "output_type": "stream",
     "text": [
      "5it [01:12, 14.57s/it]\n"
     ]
    },
    {
     "name": "stdout",
     "output_type": "stream",
     "text": [
      "Complete for fold 5\n"
     ]
    }
   ],
   "source": [
    "run_cross_validation(model_name='MiniLM',\n",
    "                         X=X,\n",
    "                         y=y, \n",
    "                         splits=5,\n",
    "                         epoch=4,\n",
    "                         checkpoint=True)"
   ]
  },
  {
   "cell_type": "markdown",
   "id": "W4F4117sKwZQ",
   "metadata": {
    "id": "W4F4117sKwZQ"
   },
   "source": [
    "## Hold Out Split"
   ]
  },
  {
   "cell_type": "code",
   "execution_count": 8,
   "id": "6f37e94d-0b71-406e-b0d3-e2e6c6ead9c7",
   "metadata": {
    "execution": {
     "iopub.execute_input": "2023-08-13T16:16:52.080675Z",
     "iopub.status.busy": "2023-08-13T16:16:52.080312Z",
     "iopub.status.idle": "2023-08-13T16:52:18.903096Z",
     "shell.execute_reply": "2023-08-13T16:52:18.902571Z",
     "shell.execute_reply.started": "2023-08-13T16:16:52.080655Z"
    }
   },
   "outputs": [
    {
     "name": "stdout",
     "output_type": "stream",
     "text": [
      "Developing Model with Hold Out Splits for: MiniLM\n",
      "huggingface/tokenizers: The current process just got forked, after parallelism has already been used. Disabling parallelism to avoid deadlocks...\n",
      "To disable this warning, you can either:\n",
      "\t- Avoid using `tokenizers` before the fork if possible\n",
      "\t- Explicitly set the environment variable TOKENIZERS_PARALLELISM=(true | false)\n",
      "huggingface/tokenizers: The current process just got forked, after parallelism has already been used. Disabling parallelism to avoid deadlocks...\n",
      "To disable this warning, you can either:\n",
      "\t- Avoid using `tokenizers` before the fork if possible\n",
      "\t- Explicitly set the environment variable TOKENIZERS_PARALLELISM=(true | false)\n"
     ]
    },
    {
     "name": "stderr",
     "output_type": "stream",
     "text": [
      "/usr/local/lib/python3.9/dist-packages/transformers/optimization.py:306: FutureWarning: This implementation of AdamW is deprecated and will be removed in a future version. Use the PyTorch implementation torch.optim.AdamW instead, or set `no_deprecation_warning=True` to disable this warning\n",
      "  warnings.warn(\n",
      "***** Running training *****\n",
      "  Num examples = 108838\n",
      "  Num Epochs = 4\n",
      "  Instantaneous batch size per device = 8\n",
      "  Total train batch size (w. parallel, distributed & accumulation) = 16\n",
      "  Gradient Accumulation steps = 1\n",
      "  Total optimization steps = 27212\n",
      "Automatic Weights & Biases logging enabled, to disable set os.environ[\"WANDB_DISABLED\"] = \"true\"\n"
     ]
    },
    {
     "name": "stdout",
     "output_type": "stream",
     "text": [
      "huggingface/tokenizers: The current process just got forked, after parallelism has already been used. Disabling parallelism to avoid deadlocks...\n",
      "To disable this warning, you can either:\n",
      "\t- Avoid using `tokenizers` before the fork if possible\n",
      "\t- Explicitly set the environment variable TOKENIZERS_PARALLELISM=(true | false)\n",
      "huggingface/tokenizers: The current process just got forked, after parallelism has already been used. Disabling parallelism to avoid deadlocks...\n",
      "To disable this warning, you can either:\n",
      "\t- Avoid using `tokenizers` before the fork if possible\n",
      "\t- Explicitly set the environment variable TOKENIZERS_PARALLELISM=(true | false)\n"
     ]
    },
    {
     "name": "stderr",
     "output_type": "stream",
     "text": [
      "\u001b[34m\u001b[1mwandb\u001b[0m: Logging into wandb.ai. (Learn how to deploy a W&B server locally: https://wandb.me/wandb-server)\n",
      "\u001b[34m\u001b[1mwandb\u001b[0m: You can find your API key in your browser here: https://wandb.ai/authorize\n",
      "\u001b[34m\u001b[1mwandb\u001b[0m: Paste an API key from your profile and hit enter, or press ctrl+c to quit:"
     ]
    },
    {
     "name": "stdout",
     "output_type": "stream",
     "text": [
      "  ········································\n"
     ]
    },
    {
     "name": "stderr",
     "output_type": "stream",
     "text": [
      "\u001b[34m\u001b[1mwandb\u001b[0m: Appending key for api.wandb.ai to your netrc file: /root/.netrc\n"
     ]
    },
    {
     "name": "stdout",
     "output_type": "stream",
     "text": [
      "huggingface/tokenizers: The current process just got forked, after parallelism has already been used. Disabling parallelism to avoid deadlocks...\n",
      "To disable this warning, you can either:\n",
      "\t- Avoid using `tokenizers` before the fork if possible\n",
      "\t- Explicitly set the environment variable TOKENIZERS_PARALLELISM=(true | false)\n",
      "huggingface/tokenizers: The current process just got forked, after parallelism has already been used. Disabling parallelism to avoid deadlocks...\n",
      "To disable this warning, you can either:\n",
      "\t- Avoid using `tokenizers` before the fork if possible\n",
      "\t- Explicitly set the environment variable TOKENIZERS_PARALLELISM=(true | false)\n"
     ]
    },
    {
     "data": {
      "text/html": [
       "Tracking run with wandb version 0.15.8"
      ],
      "text/plain": [
       "<IPython.core.display.HTML object>"
      ]
     },
     "metadata": {},
     "output_type": "display_data"
    },
    {
     "data": {
      "text/html": [
       "Run data is saved locally in <code>/notebooks/Model Traning and Testing/wandb/run-20230813_161711-kvb9thaj</code>"
      ],
      "text/plain": [
       "<IPython.core.display.HTML object>"
      ]
     },
     "metadata": {},
     "output_type": "display_data"
    },
    {
     "data": {
      "text/html": [
       "Syncing run <strong><a href='https://wandb.ai/jasmeen/huggingface/runs/kvb9thaj' target=\"_blank\">content/drive/MyDrive_binary/output_MiniLM/holdout</a></strong> to <a href='https://wandb.ai/jasmeen/huggingface' target=\"_blank\">Weights & Biases</a> (<a href='https://wandb.me/run' target=\"_blank\">docs</a>)<br/>"
      ],
      "text/plain": [
       "<IPython.core.display.HTML object>"
      ]
     },
     "metadata": {},
     "output_type": "display_data"
    },
    {
     "data": {
      "text/html": [
       " View project at <a href='https://wandb.ai/jasmeen/huggingface' target=\"_blank\">https://wandb.ai/jasmeen/huggingface</a>"
      ],
      "text/plain": [
       "<IPython.core.display.HTML object>"
      ]
     },
     "metadata": {},
     "output_type": "display_data"
    },
    {
     "data": {
      "text/html": [
       " View run at <a href='https://wandb.ai/jasmeen/huggingface/runs/kvb9thaj' target=\"_blank\">https://wandb.ai/jasmeen/huggingface/runs/kvb9thaj</a>"
      ],
      "text/plain": [
       "<IPython.core.display.HTML object>"
      ]
     },
     "metadata": {},
     "output_type": "display_data"
    },
    {
     "name": "stderr",
     "output_type": "stream",
     "text": [
      "/usr/local/lib/python3.9/dist-packages/torch/nn/parallel/_functions.py:68: UserWarning: Was asked to gather along dimension 0, but all input tensors were scalars; will instead unsqueeze and return a vector.\n",
      "  warnings.warn('Was asked to gather along dimension 0, but all '\n"
     ]
    },
    {
     "data": {
      "text/html": [
       "\n",
       "    <div>\n",
       "      \n",
       "      <progress value='27212' max='27212' style='width:300px; height:20px; vertical-align: middle;'></progress>\n",
       "      [27212/27212 35:03, Epoch 4/4]\n",
       "    </div>\n",
       "    <table border=\"1\" class=\"dataframe\">\n",
       "  <thead>\n",
       " <tr style=\"text-align: left;\">\n",
       "      <th>Epoch</th>\n",
       "      <th>Training Loss</th>\n",
       "      <th>Validation Loss</th>\n",
       "      <th>Accuracy</th>\n",
       "      <th>Precision Cb</th>\n",
       "      <th>Recall Cb</th>\n",
       "      <th>F1 Cb</th>\n",
       "      <th>Precision Ncb</th>\n",
       "      <th>Recall Ncb</th>\n",
       "      <th>F1 Ncb</th>\n",
       "      <th>Precision Overall</th>\n",
       "      <th>Recall Overall</th>\n",
       "      <th>F1 Overall</th>\n",
       "    </tr>\n",
       "  </thead>\n",
       "  <tbody>\n",
       "    <tr>\n",
       "      <td>1</td>\n",
       "      <td>0.095200</td>\n",
       "      <td>0.094568</td>\n",
       "      <td>0.965437</td>\n",
       "      <td>0.611111</td>\n",
       "      <td>0.613383</td>\n",
       "      <td>0.612245</td>\n",
       "      <td>0.981998</td>\n",
       "      <td>0.981828</td>\n",
       "      <td>0.981913</td>\n",
       "      <td>0.796554</td>\n",
       "      <td>0.797605</td>\n",
       "      <td>0.797079</td>\n",
       "    </tr>\n",
       "    <tr>\n",
       "      <td>2</td>\n",
       "      <td>0.088600</td>\n",
       "      <td>0.098155</td>\n",
       "      <td>0.965437</td>\n",
       "      <td>0.607527</td>\n",
       "      <td>0.630112</td>\n",
       "      <td>0.618613</td>\n",
       "      <td>0.982750</td>\n",
       "      <td>0.981049</td>\n",
       "      <td>0.981898</td>\n",
       "      <td>0.795138</td>\n",
       "      <td>0.805580</td>\n",
       "      <td>0.800256</td>\n",
       "    </tr>\n",
       "    <tr>\n",
       "      <td>3</td>\n",
       "      <td>0.068100</td>\n",
       "      <td>0.115298</td>\n",
       "      <td>0.967091</td>\n",
       "      <td>0.647059</td>\n",
       "      <td>0.572491</td>\n",
       "      <td>0.607495</td>\n",
       "      <td>0.980203</td>\n",
       "      <td>0.985462</td>\n",
       "      <td>0.982826</td>\n",
       "      <td>0.813631</td>\n",
       "      <td>0.778976</td>\n",
       "      <td>0.795160</td>\n",
       "    </tr>\n",
       "    <tr>\n",
       "      <td>4</td>\n",
       "      <td>0.052800</td>\n",
       "      <td>0.136595</td>\n",
       "      <td>0.965685</td>\n",
       "      <td>0.627329</td>\n",
       "      <td>0.563197</td>\n",
       "      <td>0.593536</td>\n",
       "      <td>0.979761</td>\n",
       "      <td>0.984424</td>\n",
       "      <td>0.982087</td>\n",
       "      <td>0.803545</td>\n",
       "      <td>0.773810</td>\n",
       "      <td>0.787811</td>\n",
       "    </tr>\n",
       "  </tbody>\n",
       "</table><p>"
      ],
      "text/plain": [
       "<IPython.core.display.HTML object>"
      ]
     },
     "metadata": {},
     "output_type": "display_data"
    },
    {
     "name": "stderr",
     "output_type": "stream",
     "text": [
      "***** Running Evaluation *****\n",
      "  Num examples = 12094\n",
      "  Batch size = 16\n",
      "Saving model checkpoint to content/drive/MyDrive_binary/output_MiniLM/holdout/checkpoint-6803\n",
      "Configuration saved in content/drive/MyDrive_binary/output_MiniLM/holdout/checkpoint-6803/config.json\n",
      "Model weights saved in content/drive/MyDrive_binary/output_MiniLM/holdout/checkpoint-6803/pytorch_model.bin\n",
      "/usr/local/lib/python3.9/dist-packages/torch/nn/parallel/_functions.py:68: UserWarning: Was asked to gather along dimension 0, but all input tensors were scalars; will instead unsqueeze and return a vector.\n",
      "  warnings.warn('Was asked to gather along dimension 0, but all '\n",
      "***** Running Evaluation *****\n",
      "  Num examples = 12094\n",
      "  Batch size = 16\n",
      "Saving model checkpoint to content/drive/MyDrive_binary/output_MiniLM/holdout/checkpoint-13606\n",
      "Configuration saved in content/drive/MyDrive_binary/output_MiniLM/holdout/checkpoint-13606/config.json\n",
      "Model weights saved in content/drive/MyDrive_binary/output_MiniLM/holdout/checkpoint-13606/pytorch_model.bin\n",
      "/usr/local/lib/python3.9/dist-packages/torch/nn/parallel/_functions.py:68: UserWarning: Was asked to gather along dimension 0, but all input tensors were scalars; will instead unsqueeze and return a vector.\n",
      "  warnings.warn('Was asked to gather along dimension 0, but all '\n",
      "***** Running Evaluation *****\n",
      "  Num examples = 12094\n",
      "  Batch size = 16\n",
      "Saving model checkpoint to content/drive/MyDrive_binary/output_MiniLM/holdout/checkpoint-20409\n",
      "Configuration saved in content/drive/MyDrive_binary/output_MiniLM/holdout/checkpoint-20409/config.json\n",
      "Model weights saved in content/drive/MyDrive_binary/output_MiniLM/holdout/checkpoint-20409/pytorch_model.bin\n",
      "/usr/local/lib/python3.9/dist-packages/torch/nn/parallel/_functions.py:68: UserWarning: Was asked to gather along dimension 0, but all input tensors were scalars; will instead unsqueeze and return a vector.\n",
      "  warnings.warn('Was asked to gather along dimension 0, but all '\n",
      "***** Running Evaluation *****\n",
      "  Num examples = 12094\n",
      "  Batch size = 16\n",
      "Saving model checkpoint to content/drive/MyDrive_binary/output_MiniLM/holdout/checkpoint-27212\n",
      "Configuration saved in content/drive/MyDrive_binary/output_MiniLM/holdout/checkpoint-27212/config.json\n",
      "Model weights saved in content/drive/MyDrive_binary/output_MiniLM/holdout/checkpoint-27212/pytorch_model.bin\n",
      "\n",
      "\n",
      "Training completed. Do not forget to share your model on huggingface.co/models =)\n",
      "\n",
      "\n",
      "Loading best model from content/drive/MyDrive_binary/output_MiniLM/holdout/checkpoint-6803 (score: 0.09456759691238403).\n"
     ]
    },
    {
     "name": "stdout",
     "output_type": "stream",
     "text": [
      "Complete for hold-out validate set\n"
     ]
    }
   ],
   "source": [
    "#holdout\n",
    "run_hold_out_split(model_name='MiniLM',\n",
    "                       epoch=4,\n",
    "                       train_dataset=train_dataset,\n",
    "                       eval_dataset=val_dataset,\n",
    "                       checkpoint=False)"
   ]
  },
  {
   "cell_type": "code",
   "execution_count": 9,
   "id": "cbb07800-22ad-4740-8778-ff3922c37e18",
   "metadata": {
    "execution": {
     "iopub.execute_input": "2023-08-13T16:54:54.238411Z",
     "iopub.status.busy": "2023-08-13T16:54:54.238095Z",
     "iopub.status.idle": "2023-08-13T16:54:54.637752Z",
     "shell.execute_reply": "2023-08-13T16:54:54.637157Z",
     "shell.execute_reply.started": "2023-08-13T16:54:54.238391Z"
    }
   },
   "outputs": [
    {
     "name": "stderr",
     "output_type": "stream",
     "text": [
      "PyTorch: setting up devices\n",
      "The default value for the training argument `--report_to` will change in v5 (from all installed integrations to none). In v5, you will need to use `--report_to all` to get the same behavior as now. You should start updating your code and make this info disappear :-).\n",
      "Loading model from content/drive/MyDrive_binary/output_MiniLM/holdout/checkpoint-27212.\n"
     ]
    },
    {
     "name": "stdout",
     "output_type": "stream",
     "text": [
      "Developing Model with Hold Out Splits for: MiniLM\n"
     ]
    },
    {
     "name": "stderr",
     "output_type": "stream",
     "text": [
      "/usr/local/lib/python3.9/dist-packages/transformers/optimization.py:306: FutureWarning: This implementation of AdamW is deprecated and will be removed in a future version. Use the PyTorch implementation torch.optim.AdamW instead, or set `no_deprecation_warning=True` to disable this warning\n",
      "  warnings.warn(\n",
      "***** Running training *****\n",
      "  Num examples = 108838\n",
      "  Num Epochs = 4\n",
      "  Instantaneous batch size per device = 8\n",
      "  Total train batch size (w. parallel, distributed & accumulation) = 16\n",
      "  Gradient Accumulation steps = 1\n",
      "  Total optimization steps = 27212\n",
      "  Continuing training from checkpoint, will skip to saved global_step\n",
      "  Continuing training from epoch 4\n",
      "  Continuing training from global step 27212\n",
      "  Will skip the first 4 epochs then the first 0 batches in the first epoch. If this takes a lot of time, you can add the `--ignore_data_skip` flag to your launch command, but you will resume the training on data already seen by your model.\n"
     ]
    },
    {
     "data": {
      "application/vnd.jupyter.widget-view+json": {
       "model_id": "c862b83d318540eeba9cbcdf80c3b6b6",
       "version_major": 2,
       "version_minor": 0
      },
      "text/plain": [
       "0it [00:00, ?it/s]"
      ]
     },
     "metadata": {},
     "output_type": "display_data"
    },
    {
     "name": "stderr",
     "output_type": "stream",
     "text": [
      "Automatic Weights & Biases logging enabled, to disable set os.environ[\"WANDB_DISABLED\"] = \"true\"\n",
      "\n",
      "\n",
      "Training completed. Do not forget to share your model on huggingface.co/models =)\n",
      "\n",
      "\n",
      "Loading best model from content/drive/MyDrive_binary/output_MiniLM/holdout/checkpoint-6803 (score: 0.09456759691238403).\n"
     ]
    },
    {
     "data": {
      "text/html": [
       "\n",
       "    <div>\n",
       "      \n",
       "      <progress value='27212' max='27212' style='width:300px; height:20px; vertical-align: middle;'></progress>\n",
       "      [27212/27212 : < :, Epoch 4/4]\n",
       "    </div>\n",
       "    <table border=\"1\" class=\"dataframe\">\n",
       "  <thead>\n",
       " <tr style=\"text-align: left;\">\n",
       "      <th>Epoch</th>\n",
       "      <th>Training Loss</th>\n",
       "      <th>Validation Loss</th>\n",
       "    </tr>\n",
       "  </thead>\n",
       "  <tbody>\n",
       "  </tbody>\n",
       "</table><p>"
      ],
      "text/plain": [
       "<IPython.core.display.HTML object>"
      ]
     },
     "metadata": {},
     "output_type": "display_data"
    },
    {
     "name": "stdout",
     "output_type": "stream",
     "text": [
      "Complete for hold-out validate set\n"
     ]
    }
   ],
   "source": [
    "#holdout\n",
    "run_hold_out_split(model_name='MiniLM',\n",
    "                       epoch=4,\n",
    "                       train_dataset=train_dataset,\n",
    "                       eval_dataset=val_dataset,\n",
    "                       checkpoint=True)"
   ]
  },
  {
   "cell_type": "markdown",
   "id": "w5vyE3EkK2JQ",
   "metadata": {
    "id": "w5vyE3EkK2JQ",
    "tags": []
   },
   "source": [
    "### Test Split Confusion Matrix"
   ]
  },
  {
   "cell_type": "markdown",
   "id": "fG7eAEaFtIYk",
   "metadata": {
    "id": "fG7eAEaFtIYk"
   },
   "source": [
    "#### Epoch 1"
   ]
  },
  {
   "cell_type": "code",
   "execution_count": 10,
   "id": "ab06398b",
   "metadata": {
    "execution": {
     "iopub.execute_input": "2023-08-13T16:54:59.711447Z",
     "iopub.status.busy": "2023-08-13T16:54:59.710932Z",
     "iopub.status.idle": "2023-08-13T16:55:21.038780Z",
     "shell.execute_reply": "2023-08-13T16:55:21.038236Z",
     "shell.execute_reply.started": "2023-08-13T16:54:59.711428Z"
    },
    "id": "ab06398b"
   },
   "outputs": [
    {
     "name": "stderr",
     "output_type": "stream",
     "text": [
      "loading configuration file content/drive/MyDrive_binary/output_MiniLM/holdout/checkpoint-6803/config.json\n",
      "Model config BertConfig {\n",
      "  \"_name_or_path\": \"content/drive/MyDrive_binary/output_MiniLM/holdout/checkpoint-6803\",\n",
      "  \"architectures\": [\n",
      "    \"BertForSequenceClassification\"\n",
      "  ],\n",
      "  \"attention_probs_dropout_prob\": 0.1,\n",
      "  \"classifier_dropout\": null,\n",
      "  \"gradient_checkpointing\": false,\n",
      "  \"hidden_act\": \"gelu\",\n",
      "  \"hidden_dropout_prob\": 0.1,\n",
      "  \"hidden_size\": 384,\n",
      "  \"initializer_range\": 0.02,\n",
      "  \"intermediate_size\": 1536,\n",
      "  \"layer_norm_eps\": 1e-12,\n",
      "  \"max_position_embeddings\": 512,\n",
      "  \"model_type\": \"bert\",\n",
      "  \"num_attention_heads\": 12,\n",
      "  \"num_hidden_layers\": 6,\n",
      "  \"pad_token_id\": 0,\n",
      "  \"position_embedding_type\": \"absolute\",\n",
      "  \"problem_type\": \"single_label_classification\",\n",
      "  \"torch_dtype\": \"float32\",\n",
      "  \"transformers_version\": \"4.21.3\",\n",
      "  \"type_vocab_size\": 2,\n",
      "  \"use_cache\": true,\n",
      "  \"vocab_size\": 30522\n",
      "}\n",
      "\n",
      "loading weights file content/drive/MyDrive_binary/output_MiniLM/holdout/checkpoint-6803/pytorch_model.bin\n",
      "All model checkpoint weights were used when initializing BertForSequenceClassification.\n",
      "\n",
      "All the weights of BertForSequenceClassification were initialized from the model checkpoint at content/drive/MyDrive_binary/output_MiniLM/holdout/checkpoint-6803.\n",
      "If your task is similar to the task the model of the checkpoint was trained on, you can already use BertForSequenceClassification for predictions without further training.\n",
      "No `TrainingArguments` passed, using `output_dir=tmp_trainer`.\n",
      "PyTorch: setting up devices\n",
      "The default value for the training argument `--report_to` will change in v5 (from all installed integrations to none). In v5, you will need to use `--report_to all` to get the same behavior as now. You should start updating your code and make this info disappear :-).\n",
      "***** Running Prediction *****\n",
      "  Num examples = 12094\n",
      "  Batch size = 16\n"
     ]
    },
    {
     "data": {
      "text/html": [],
      "text/plain": [
       "<IPython.core.display.HTML object>"
      ]
     },
     "metadata": {},
     "output_type": "display_data"
    },
    {
     "name": "stdout",
     "output_type": "stream",
     "text": [
      "Classification Report:\n",
      "              precision    recall  f1-score   support\n",
      "\n",
      "           0       0.98      0.98      0.98     11556\n",
      "           1       0.61      0.61      0.61       538\n",
      "\n",
      "    accuracy                           0.97     12094\n",
      "   macro avg       0.80      0.80      0.80     12094\n",
      "weighted avg       0.97      0.97      0.97     12094\n",
      "\n",
      "\n",
      "Label 1: Cyberbullying\n",
      "Precision:  0.6111111111111112\n",
      "Recall:  0.6133828996282528\n",
      "F-measure:  0.6122448979591837\n",
      "\n",
      "Label 0: Non-Cyberbullying\n",
      "Precision:  0.9819975765968496\n",
      "Recall:  0.9818276220145379\n",
      "F-measure:  0.9819125919515361\n",
      "\n",
      "Macro Metrics\n",
      "Precision:  0.7965543438539804\n",
      "Recall:  0.7976052608213953\n",
      "F-measure:  0.7970787449553599\n",
      "\n"
     ]
    },
    {
     "data": {
      "image/png": "[encoded data removed]",
      "text/plain": [
       "<Figure size 800x500 with 2 Axes>"
      ]
     },
     "metadata": {},
     "output_type": "display_data"
    }
   ],
   "source": [
    "compute_metrics_holdout(model_name='MiniLM',\n",
    "                        model_path='content/drive/MyDrive_binary/output_MiniLM/holdout/checkpoint-6803', \n",
    "                        average_method='binary',\n",
    "                        X_test=X_test)"
   ]
  },
  {
   "cell_type": "markdown",
   "id": "Ir4eL3T8gtLf",
   "metadata": {
    "id": "Ir4eL3T8gtLf"
   },
   "source": [
    "#### Epoch 2"
   ]
  },
  {
   "cell_type": "code",
   "execution_count": 11,
   "id": "u34gKYLGgtLr",
   "metadata": {
    "execution": {
     "iopub.execute_input": "2023-08-13T16:55:21.039983Z",
     "iopub.status.busy": "2023-08-13T16:55:21.039837Z",
     "iopub.status.idle": "2023-08-13T16:55:42.269467Z",
     "shell.execute_reply": "2023-08-13T16:55:42.269044Z",
     "shell.execute_reply.started": "2023-08-13T16:55:21.039967Z"
    },
    "id": "u34gKYLGgtLr"
   },
   "outputs": [
    {
     "name": "stderr",
     "output_type": "stream",
     "text": [
      "loading configuration file content/drive/MyDrive_binary/output_MiniLM/holdout/checkpoint-13606/config.json\n",
      "Model config BertConfig {\n",
      "  \"_name_or_path\": \"content/drive/MyDrive_binary/output_MiniLM/holdout/checkpoint-13606\",\n",
      "  \"architectures\": [\n",
      "    \"BertForSequenceClassification\"\n",
      "  ],\n",
      "  \"attention_probs_dropout_prob\": 0.1,\n",
      "  \"classifier_dropout\": null,\n",
      "  \"gradient_checkpointing\": false,\n",
      "  \"hidden_act\": \"gelu\",\n",
      "  \"hidden_dropout_prob\": 0.1,\n",
      "  \"hidden_size\": 384,\n",
      "  \"initializer_range\": 0.02,\n",
      "  \"intermediate_size\": 1536,\n",
      "  \"layer_norm_eps\": 1e-12,\n",
      "  \"max_position_embeddings\": 512,\n",
      "  \"model_type\": \"bert\",\n",
      "  \"num_attention_heads\": 12,\n",
      "  \"num_hidden_layers\": 6,\n",
      "  \"pad_token_id\": 0,\n",
      "  \"position_embedding_type\": \"absolute\",\n",
      "  \"problem_type\": \"single_label_classification\",\n",
      "  \"torch_dtype\": \"float32\",\n",
      "  \"transformers_version\": \"4.21.3\",\n",
      "  \"type_vocab_size\": 2,\n",
      "  \"use_cache\": true,\n",
      "  \"vocab_size\": 30522\n",
      "}\n",
      "\n",
      "loading weights file content/drive/MyDrive_binary/output_MiniLM/holdout/checkpoint-13606/pytorch_model.bin\n",
      "All model checkpoint weights were used when initializing BertForSequenceClassification.\n",
      "\n",
      "All the weights of BertForSequenceClassification were initialized from the model checkpoint at content/drive/MyDrive_binary/output_MiniLM/holdout/checkpoint-13606.\n",
      "If your task is similar to the task the model of the checkpoint was trained on, you can already use BertForSequenceClassification for predictions without further training.\n",
      "No `TrainingArguments` passed, using `output_dir=tmp_trainer`.\n",
      "PyTorch: setting up devices\n",
      "The default value for the training argument `--report_to` will change in v5 (from all installed integrations to none). In v5, you will need to use `--report_to all` to get the same behavior as now. You should start updating your code and make this info disappear :-).\n",
      "***** Running Prediction *****\n",
      "  Num examples = 12094\n",
      "  Batch size = 16\n"
     ]
    },
    {
     "data": {
      "text/html": [],
      "text/plain": [
       "<IPython.core.display.HTML object>"
      ]
     },
     "metadata": {},
     "output_type": "display_data"
    },
    {
     "name": "stdout",
     "output_type": "stream",
     "text": [
      "Classification Report:\n",
      "              precision    recall  f1-score   support\n",
      "\n",
      "           0       0.98      0.98      0.98     11556\n",
      "           1       0.61      0.63      0.62       538\n",
      "\n",
      "    accuracy                           0.97     12094\n",
      "   macro avg       0.80      0.81      0.80     12094\n",
      "weighted avg       0.97      0.97      0.97     12094\n",
      "\n",
      "\n",
      "Label 1: Cyberbullying\n",
      "Precision:  0.6075268817204301\n",
      "Recall:  0.6301115241635687\n",
      "F-measure:  0.6186131386861313\n",
      "\n",
      "Label 0: Non-Cyberbullying\n",
      "Precision:  0.982749653259362\n",
      "Recall:  0.981048805815161\n",
      "F-measure:  0.9818984929845834\n",
      "\n",
      "Macro Metrics\n",
      "Precision:  0.7951382674898961\n",
      "Recall:  0.8055801649893648\n",
      "F-measure:  0.8002558158353574\n",
      "\n"
     ]
    },
    {
     "data": {
      "image/png": "[encoded data removed]",
      "text/plain": [
       "<Figure size 800x500 with 2 Axes>"
      ]
     },
     "metadata": {},
     "output_type": "display_data"
    }
   ],
   "source": [
    "compute_metrics_holdout(model_name='MiniLM',\n",
    "                        model_path='content/drive/MyDrive_binary/output_MiniLM/holdout/checkpoint-13606', \n",
    "                        average_method='binary',\n",
    "                        X_test=X_test)"
   ]
  },
  {
   "cell_type": "markdown",
   "id": "KdECewOiL4tf",
   "metadata": {
    "id": "KdECewOiL4tf"
   },
   "source": [
    "#### Epoch 3"
   ]
  },
  {
   "cell_type": "code",
   "execution_count": 12,
   "id": "Rj2PqaNBL4tg",
   "metadata": {
    "execution": {
     "iopub.execute_input": "2023-08-13T16:55:42.270813Z",
     "iopub.status.busy": "2023-08-13T16:55:42.270114Z",
     "iopub.status.idle": "2023-08-13T16:56:04.535372Z",
     "shell.execute_reply": "2023-08-13T16:56:04.534750Z",
     "shell.execute_reply.started": "2023-08-13T16:55:42.270792Z"
    },
    "id": "Rj2PqaNBL4tg"
   },
   "outputs": [
    {
     "name": "stderr",
     "output_type": "stream",
     "text": [
      "loading configuration file content/drive/MyDrive_binary/output_MiniLM/holdout/checkpoint-20409/config.json\n",
      "Model config BertConfig {\n",
      "  \"_name_or_path\": \"content/drive/MyDrive_binary/output_MiniLM/holdout/checkpoint-20409\",\n",
      "  \"architectures\": [\n",
      "    \"BertForSequenceClassification\"\n",
      "  ],\n",
      "  \"attention_probs_dropout_prob\": 0.1,\n",
      "  \"classifier_dropout\": null,\n",
      "  \"gradient_checkpointing\": false,\n",
      "  \"hidden_act\": \"gelu\",\n",
      "  \"hidden_dropout_prob\": 0.1,\n",
      "  \"hidden_size\": 384,\n",
      "  \"initializer_range\": 0.02,\n",
      "  \"intermediate_size\": 1536,\n",
      "  \"layer_norm_eps\": 1e-12,\n",
      "  \"max_position_embeddings\": 512,\n",
      "  \"model_type\": \"bert\",\n",
      "  \"num_attention_heads\": 12,\n",
      "  \"num_hidden_layers\": 6,\n",
      "  \"pad_token_id\": 0,\n",
      "  \"position_embedding_type\": \"absolute\",\n",
      "  \"problem_type\": \"single_label_classification\",\n",
      "  \"torch_dtype\": \"float32\",\n",
      "  \"transformers_version\": \"4.21.3\",\n",
      "  \"type_vocab_size\": 2,\n",
      "  \"use_cache\": true,\n",
      "  \"vocab_size\": 30522\n",
      "}\n",
      "\n",
      "loading weights file content/drive/MyDrive_binary/output_MiniLM/holdout/checkpoint-20409/pytorch_model.bin\n",
      "All model checkpoint weights were used when initializing BertForSequenceClassification.\n",
      "\n",
      "All the weights of BertForSequenceClassification were initialized from the model checkpoint at content/drive/MyDrive_binary/output_MiniLM/holdout/checkpoint-20409.\n",
      "If your task is similar to the task the model of the checkpoint was trained on, you can already use BertForSequenceClassification for predictions without further training.\n",
      "No `TrainingArguments` passed, using `output_dir=tmp_trainer`.\n",
      "PyTorch: setting up devices\n",
      "The default value for the training argument `--report_to` will change in v5 (from all installed integrations to none). In v5, you will need to use `--report_to all` to get the same behavior as now. You should start updating your code and make this info disappear :-).\n",
      "***** Running Prediction *****\n",
      "  Num examples = 12094\n",
      "  Batch size = 16\n"
     ]
    },
    {
     "data": {
      "text/html": [],
      "text/plain": [
       "<IPython.core.display.HTML object>"
      ]
     },
     "metadata": {},
     "output_type": "display_data"
    },
    {
     "name": "stdout",
     "output_type": "stream",
     "text": [
      "Classification Report:\n",
      "              precision    recall  f1-score   support\n",
      "\n",
      "           0       0.98      0.99      0.98     11556\n",
      "           1       0.65      0.57      0.61       538\n",
      "\n",
      "    accuracy                           0.97     12094\n",
      "   macro avg       0.81      0.78      0.80     12094\n",
      "weighted avg       0.97      0.97      0.97     12094\n",
      "\n",
      "\n",
      "Label 1: Cyberbullying\n",
      "Precision:  0.6470588235294118\n",
      "Recall:  0.5724907063197026\n",
      "F-measure:  0.6074950690335306\n",
      "\n",
      "Label 0: Non-Cyberbullying\n",
      "Precision:  0.9802031330693751\n",
      "Recall:  0.9854620976116303\n",
      "F-measure:  0.9828255803918184\n",
      "\n",
      "Macro Metrics\n",
      "Precision:  0.8136309782993935\n",
      "Recall:  0.7789764019656664\n",
      "F-measure:  0.7951603247126745\n",
      "\n"
     ]
    },
    {
     "data": {
      "image/png": "[encoded data removed]",
      "text/plain": [
       "<Figure size 800x500 with 2 Axes>"
      ]
     },
     "metadata": {},
     "output_type": "display_data"
    }
   ],
   "source": [
    "compute_metrics_holdout(model_name='MiniLM',\n",
    "                        model_path='content/drive/MyDrive_binary/output_MiniLM/holdout/checkpoint-20409', \n",
    "                        average_method='binary',\n",
    "                        X_test=X_test)"
   ]
  },
  {
   "cell_type": "markdown",
   "id": "uFLTBUzxL4MC",
   "metadata": {
    "id": "uFLTBUzxL4MC"
   },
   "source": [
    "#### Epoch 4"
   ]
  },
  {
   "cell_type": "code",
   "execution_count": 13,
   "id": "MrkHnZgHL4MC",
   "metadata": {
    "execution": {
     "iopub.execute_input": "2023-08-13T16:56:04.536846Z",
     "iopub.status.busy": "2023-08-13T16:56:04.536655Z",
     "iopub.status.idle": "2023-08-13T16:56:24.491937Z",
     "shell.execute_reply": "2023-08-13T16:56:24.491094Z",
     "shell.execute_reply.started": "2023-08-13T16:56:04.536829Z"
    },
    "id": "MrkHnZgHL4MC"
   },
   "outputs": [
    {
     "name": "stderr",
     "output_type": "stream",
     "text": [
      "loading configuration file content/drive/MyDrive_binary/output_MiniLM/holdout/checkpoint-27212/config.json\n",
      "Model config BertConfig {\n",
      "  \"_name_or_path\": \"content/drive/MyDrive_binary/output_MiniLM/holdout/checkpoint-27212\",\n",
      "  \"architectures\": [\n",
      "    \"BertForSequenceClassification\"\n",
      "  ],\n",
      "  \"attention_probs_dropout_prob\": 0.1,\n",
      "  \"classifier_dropout\": null,\n",
      "  \"gradient_checkpointing\": false,\n",
      "  \"hidden_act\": \"gelu\",\n",
      "  \"hidden_dropout_prob\": 0.1,\n",
      "  \"hidden_size\": 384,\n",
      "  \"initializer_range\": 0.02,\n",
      "  \"intermediate_size\": 1536,\n",
      "  \"layer_norm_eps\": 1e-12,\n",
      "  \"max_position_embeddings\": 512,\n",
      "  \"model_type\": \"bert\",\n",
      "  \"num_attention_heads\": 12,\n",
      "  \"num_hidden_layers\": 6,\n",
      "  \"pad_token_id\": 0,\n",
      "  \"position_embedding_type\": \"absolute\",\n",
      "  \"problem_type\": \"single_label_classification\",\n",
      "  \"torch_dtype\": \"float32\",\n",
      "  \"transformers_version\": \"4.21.3\",\n",
      "  \"type_vocab_size\": 2,\n",
      "  \"use_cache\": true,\n",
      "  \"vocab_size\": 30522\n",
      "}\n",
      "\n",
      "loading weights file content/drive/MyDrive_binary/output_MiniLM/holdout/checkpoint-27212/pytorch_model.bin\n",
      "All model checkpoint weights were used when initializing BertForSequenceClassification.\n",
      "\n",
      "All the weights of BertForSequenceClassification were initialized from the model checkpoint at content/drive/MyDrive_binary/output_MiniLM/holdout/checkpoint-27212.\n",
      "If your task is similar to the task the model of the checkpoint was trained on, you can already use BertForSequenceClassification for predictions without further training.\n",
      "No `TrainingArguments` passed, using `output_dir=tmp_trainer`.\n",
      "PyTorch: setting up devices\n",
      "The default value for the training argument `--report_to` will change in v5 (from all installed integrations to none). In v5, you will need to use `--report_to all` to get the same behavior as now. You should start updating your code and make this info disappear :-).\n",
      "***** Running Prediction *****\n",
      "  Num examples = 12094\n",
      "  Batch size = 16\n"
     ]
    },
    {
     "data": {
      "text/html": [],
      "text/plain": [
       "<IPython.core.display.HTML object>"
      ]
     },
     "metadata": {},
     "output_type": "display_data"
    },
    {
     "name": "stdout",
     "output_type": "stream",
     "text": [
      "Classification Report:\n",
      "              precision    recall  f1-score   support\n",
      "\n",
      "           0       0.98      0.98      0.98     11556\n",
      "           1       0.63      0.56      0.59       538\n",
      "\n",
      "    accuracy                           0.97     12094\n",
      "   macro avg       0.80      0.77      0.79     12094\n",
      "weighted avg       0.96      0.97      0.96     12094\n",
      "\n",
      "\n",
      "Label 1: Cyberbullying\n",
      "Precision:  0.6273291925465838\n",
      "Recall:  0.5631970260223048\n",
      "F-measure:  0.5935357492654261\n",
      "\n",
      "Label 0: Non-Cyberbullying\n",
      "Precision:  0.9797605718715011\n",
      "Recall:  0.9844236760124611\n",
      "F-measure:  0.9820865886821772\n",
      "\n",
      "Macro Metrics\n",
      "Precision:  0.8035448822090425\n",
      "Recall:  0.7738103510173829\n",
      "F-measure:  0.7878111689738017\n",
      "\n"
     ]
    },
    {
     "data": {
      "image/png": "[encoded data removed]",
      "text/plain": [
       "<Figure size 800x500 with 2 Axes>"
      ]
     },
     "metadata": {},
     "output_type": "display_data"
    }
   ],
   "source": [
    "compute_metrics_holdout(model_name='MiniLM',\n",
    "                        model_path='content/drive/MyDrive_binary/output_MiniLM/holdout/checkpoint-27212', \n",
    "                        average_method='binary',\n",
    "                        X_test=X_test)"
   ]
  }
 ],
 "metadata": {
  "accelerator": "GPU",
  "colab": {
   "collapsed_sections": [
    "t6kQkR3fK9T0",
    "fG7eAEaFtIYk",
    "Ir4eL3T8gtLf",
    "KdECewOiL4tf",
    "uFLTBUzxL4MC",
    "eFNCqLf6L3pO",
    "OYWrSlPXL3Ac",
    "jhRILtDlL2XU",
    "OC_9eI5WMF8p",
    "5CH0cmxrMFSV",
    "xgLbAOZ7MEdd",
    "wTPokVq2pcUu",
    "5vlEdGyfpcUv",
    "3SHI4jYYpcUv",
    "jptg0BcZpcUv",
    "_AlZhKF5pcUv",
    "6MAeDeTWpcUv",
    "yqeXDiEipcUw",
    "ArQmCEzspcUw",
    "oDn0CPRXpcUw",
    "mYNtqY5cpcUw"
   ],
   "name": "Fine Tune Transformers from HuggingFace RoBerta (Sample).ipynb",
   "provenance": []
  },
  "kernelspec": {
   "display_name": "Python 3 (ipykernel)",
   "language": "python",
   "name": "python3"
  },
  "language_info": {
   "codemirror_mode": {
    "name": "ipython",
    "version": 3
   },
   "file_extension": ".py",
   "mimetype": "text/x-python",
   "name": "python",
   "nbconvert_exporter": "python",
   "pygments_lexer": "ipython3",
   "version": "3.9.16"
  }
 },
 "nbformat": 4,
 "nbformat_minor": 5
}
