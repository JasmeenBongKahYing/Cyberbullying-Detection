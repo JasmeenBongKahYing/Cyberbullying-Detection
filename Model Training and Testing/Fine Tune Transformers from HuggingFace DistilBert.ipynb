{
 "cells": [
  {
   "cell_type": "markdown",
   "id": "a0aff953",
   "metadata": {
    "id": "a0aff953"
   },
   "source": [
    "# Fine Tune Transformer from HuggingFace DistilBert"
   ]
  },
  {
   "cell_type": "markdown",
   "id": "2ed8dcc9",
   "metadata": {},
   "source": [
    "**Note: This notebook is run in Paperspace platform**"
   ]
  },
  {
   "cell_type": "code",
   "execution_count": 1,
   "id": "OItEYDmL1hi2",
   "metadata": {
    "execution": {
     "iopub.execute_input": "2023-08-12T05:53:06.242869Z",
     "iopub.status.busy": "2023-08-12T05:53:06.242000Z",
     "iopub.status.idle": "2023-08-12T05:53:17.864699Z",
     "shell.execute_reply": "2023-08-12T05:53:17.863912Z",
     "shell.execute_reply.started": "2023-08-12T05:53:06.242847Z"
    },
    "id": "OItEYDmL1hi2"
   },
   "outputs": [
    {
     "name": "stdout",
     "output_type": "stream",
     "text": [
      "Requirement already satisfied: transformers in /usr/local/lib/python3.9/dist-packages (4.21.3)\n",
      "Requirement already satisfied: filelock in /usr/local/lib/python3.9/dist-packages (from transformers) (3.9.0)\n",
      "Requirement already satisfied: huggingface-hub<1.0,>=0.1.0 in /usr/local/lib/python3.9/dist-packages (from transformers) (0.12.0)\n",
      "Requirement already satisfied: requests in /usr/local/lib/python3.9/dist-packages (from transformers) (2.28.2)\n",
      "Requirement already satisfied: packaging>=20.0 in /usr/local/lib/python3.9/dist-packages (from transformers) (23.0)\n",
      "Requirement already satisfied: numpy>=1.17 in /usr/local/lib/python3.9/dist-packages (from transformers) (1.23.4)\n",
      "Requirement already satisfied: regex!=2019.12.17 in /usr/local/lib/python3.9/dist-packages (from transformers) (2022.10.31)\n",
      "Requirement already satisfied: tqdm>=4.27 in /usr/local/lib/python3.9/dist-packages (from transformers) (4.64.1)\n",
      "Requirement already satisfied: tokenizers!=0.11.3,<0.13,>=0.11.1 in /usr/local/lib/python3.9/dist-packages (from transformers) (0.12.1)\n",
      "Requirement already satisfied: pyyaml>=5.1 in /usr/local/lib/python3.9/dist-packages (from transformers) (5.4.1)\n",
      "Requirement already satisfied: typing-extensions>=3.7.4.3 in /usr/local/lib/python3.9/dist-packages (from huggingface-hub<1.0,>=0.1.0->transformers) (4.4.0)\n",
      "Requirement already satisfied: certifi>=2017.4.17 in /usr/lib/python3/dist-packages (from requests->transformers) (2019.11.28)\n",
      "Requirement already satisfied: idna<4,>=2.5 in /usr/lib/python3/dist-packages (from requests->transformers) (2.8)\n",
      "Requirement already satisfied: charset-normalizer<4,>=2 in /usr/local/lib/python3.9/dist-packages (from requests->transformers) (2.1.1)\n",
      "Requirement already satisfied: urllib3<1.27,>=1.21.1 in /usr/local/lib/python3.9/dist-packages (from requests->transformers) (1.26.14)\n",
      "\u001b[33mWARNING: Running pip as the 'root' user can result in broken permissions and conflicting behaviour with the system package manager. It is recommended to use a virtual environment instead: https://pip.pypa.io/warnings/venv\u001b[0m\u001b[33m\n",
      "\u001b[0mNote: you may need to restart the kernel to use updated packages.\n",
      "Requirement already satisfied: torch in /usr/local/lib/python3.9/dist-packages (1.12.1+cu116)\n",
      "Requirement already satisfied: typing-extensions in /usr/local/lib/python3.9/dist-packages (from torch) (4.4.0)\n",
      "\u001b[33mWARNING: Running pip as the 'root' user can result in broken permissions and conflicting behaviour with the system package manager. It is recommended to use a virtual environment instead: https://pip.pypa.io/warnings/venv\u001b[0m\u001b[33m\n",
      "\u001b[0mNote: you may need to restart the kernel to use updated packages.\n",
      "Collecting imblearn\n",
      "  Downloading imblearn-0.0-py2.py3-none-any.whl (1.9 kB)\n",
      "Collecting imbalanced-learn\n",
      "  Downloading imbalanced_learn-0.11.0-py3-none-any.whl (235 kB)\n",
      "\u001b[2K     \u001b[90m━━━━━━━━━━━━━━━━━━━━━━━━━━━━━━━━━━━━━━\u001b[0m \u001b[32m235.6/235.6 kB\u001b[0m \u001b[31m30.2 MB/s\u001b[0m eta \u001b[36m0:00:00\u001b[0m\n",
      "\u001b[?25hRequirement already satisfied: joblib>=1.1.1 in /usr/local/lib/python3.9/dist-packages (from imbalanced-learn->imblearn) (1.2.0)\n",
      "Requirement already satisfied: numpy>=1.17.3 in /usr/local/lib/python3.9/dist-packages (from imbalanced-learn->imblearn) (1.23.4)\n",
      "Requirement already satisfied: scipy>=1.5.0 in /usr/local/lib/python3.9/dist-packages (from imbalanced-learn->imblearn) (1.9.2)\n",
      "Requirement already satisfied: threadpoolctl>=2.0.0 in /usr/local/lib/python3.9/dist-packages (from imbalanced-learn->imblearn) (3.1.0)\n",
      "Requirement already satisfied: scikit-learn>=1.0.2 in /usr/local/lib/python3.9/dist-packages (from imbalanced-learn->imblearn) (1.1.2)\n",
      "Installing collected packages: imbalanced-learn, imblearn\n",
      "Successfully installed imbalanced-learn-0.11.0 imblearn-0.0\n",
      "\u001b[33mWARNING: Running pip as the 'root' user can result in broken permissions and conflicting behaviour with the system package manager. It is recommended to use a virtual environment instead: https://pip.pypa.io/warnings/venv\u001b[0m\u001b[33m\n",
      "\u001b[0mNote: you may need to restart the kernel to use updated packages.\n",
      "Requirement already satisfied: wandb in /usr/local/lib/python3.9/dist-packages (0.13.4)\n",
      "Collecting wandb\n",
      "  Downloading wandb-0.15.8-py3-none-any.whl (2.1 MB)\n",
      "\u001b[2K     \u001b[90m━━━━━━━━━━━━━━━━━━━━━━━━━━━━━━━━━━━━━━━━\u001b[0m \u001b[32m2.1/2.1 MB\u001b[0m \u001b[31m87.6 MB/s\u001b[0m eta \u001b[36m0:00:00\u001b[0m\n",
      "\u001b[?25hRequirement already satisfied: pathtools in /usr/local/lib/python3.9/dist-packages (from wandb) (0.1.2)\n",
      "Requirement already satisfied: docker-pycreds>=0.4.0 in /usr/local/lib/python3.9/dist-packages (from wandb) (0.4.0)\n",
      "Requirement already satisfied: setuptools in /usr/local/lib/python3.9/dist-packages (from wandb) (66.1.1)\n",
      "Requirement already satisfied: protobuf!=4.21.0,<5,>=3.15.0 in /usr/local/lib/python3.9/dist-packages (from wandb) (3.19.6)\n",
      "Requirement already satisfied: Click!=8.0.0,>=7.1 in /usr/local/lib/python3.9/dist-packages (from wandb) (8.1.3)\n",
      "Requirement already satisfied: requests<3,>=2.0.0 in /usr/local/lib/python3.9/dist-packages (from wandb) (2.28.2)\n",
      "Requirement already satisfied: setproctitle in /usr/local/lib/python3.9/dist-packages (from wandb) (1.3.2)\n",
      "Requirement already satisfied: PyYAML in /usr/local/lib/python3.9/dist-packages (from wandb) (5.4.1)\n",
      "Requirement already satisfied: typing-extensions in /usr/local/lib/python3.9/dist-packages (from wandb) (4.4.0)\n",
      "Requirement already satisfied: sentry-sdk>=1.0.0 in /usr/local/lib/python3.9/dist-packages (from wandb) (1.14.0)\n",
      "Collecting appdirs>=1.4.3\n",
      "  Downloading appdirs-1.4.4-py2.py3-none-any.whl (9.6 kB)\n",
      "Requirement already satisfied: psutil>=5.0.0 in /usr/local/lib/python3.9/dist-packages (from wandb) (5.9.4)\n",
      "Requirement already satisfied: GitPython!=3.1.29,>=1.0.0 in /usr/local/lib/python3.9/dist-packages (from wandb) (3.1.30)\n",
      "Requirement already satisfied: six>=1.4.0 in /usr/lib/python3/dist-packages (from docker-pycreds>=0.4.0->wandb) (1.14.0)\n",
      "Requirement already satisfied: gitdb<5,>=4.0.1 in /usr/local/lib/python3.9/dist-packages (from GitPython!=3.1.29,>=1.0.0->wandb) (4.0.10)\n",
      "Requirement already satisfied: urllib3<1.27,>=1.21.1 in /usr/local/lib/python3.9/dist-packages (from requests<3,>=2.0.0->wandb) (1.26.14)\n",
      "Requirement already satisfied: certifi>=2017.4.17 in /usr/lib/python3/dist-packages (from requests<3,>=2.0.0->wandb) (2019.11.28)\n",
      "Requirement already satisfied: charset-normalizer<4,>=2 in /usr/local/lib/python3.9/dist-packages (from requests<3,>=2.0.0->wandb) (2.1.1)\n",
      "Requirement already satisfied: idna<4,>=2.5 in /usr/lib/python3/dist-packages (from requests<3,>=2.0.0->wandb) (2.8)\n",
      "Requirement already satisfied: smmap<6,>=3.0.1 in /usr/local/lib/python3.9/dist-packages (from gitdb<5,>=4.0.1->GitPython!=3.1.29,>=1.0.0->wandb) (5.0.0)\n",
      "Installing collected packages: appdirs, wandb\n",
      "  Attempting uninstall: wandb\n",
      "    Found existing installation: wandb 0.13.4\n",
      "    Uninstalling wandb-0.13.4:\n",
      "      Successfully uninstalled wandb-0.13.4\n",
      "Successfully installed appdirs-1.4.4 wandb-0.15.8\n",
      "\u001b[33mWARNING: Running pip as the 'root' user can result in broken permissions and conflicting behaviour with the system package manager. It is recommended to use a virtual environment instead: https://pip.pypa.io/warnings/venv\u001b[0m\u001b[33m\n",
      "\u001b[0mNote: you may need to restart the kernel to use updated packages.\n"
     ]
    }
   ],
   "source": [
    "%pip install transformers\n",
    "%pip install torch\n",
    "%pip install imblearn\n",
    "%pip install wandb --upgrade\n"
   ]
  },
  {
   "cell_type": "code",
   "execution_count": 2,
   "id": "02505ed3",
   "metadata": {
    "execution": {
     "iopub.execute_input": "2023-08-12T05:53:17.866155Z",
     "iopub.status.busy": "2023-08-12T05:53:17.865963Z",
     "iopub.status.idle": "2023-08-12T05:53:20.940021Z",
     "shell.execute_reply": "2023-08-12T05:53:20.939339Z",
     "shell.execute_reply.started": "2023-08-12T05:53:17.866135Z"
    },
    "id": "02505ed3"
   },
   "outputs": [
    {
     "name": "stderr",
     "output_type": "stream",
     "text": [
      "/tmp/ipykernel_40/491656687.py:14: TqdmDeprecationWarning: This function will be removed in tqdm==5.0.0\n",
      "Please use `tqdm.notebook.*` instead of `tqdm._tqdm_notebook.*`\n",
      "  from tqdm._tqdm_notebook import tqdm_notebook\n"
     ]
    }
   ],
   "source": [
    "import numpy as np\n",
    "import pandas as pd\n",
    "\n",
    "from sklearn.model_selection import train_test_split, StratifiedKFold, StratifiedShuffleSplit\n",
    "from sklearn.metrics import accuracy_score, recall_score, precision_score, f1_score, roc_auc_score, classification_report\n",
    "\n",
    "import torch\n",
    "from transformers import AutoTokenizer, AutoModelForSequenceClassification\n",
    "from transformers import TrainingArguments, Trainer\n",
    "from transformers import BertTokenizer, BertForSequenceClassification\n",
    "from transformers import EarlyStoppingCallback, set_seed\n",
    "\n",
    "# Progress bar\n",
    "from tqdm._tqdm_notebook import tqdm_notebook\n",
    "from tqdm import tqdm\n",
    "tqdm_notebook.pandas()"
   ]
  },
  {
   "cell_type": "markdown",
   "id": "5a8c1621",
   "metadata": {
    "id": "5a8c1621"
   },
   "source": [
    "## Import Clean Data"
   ]
  },
  {
   "cell_type": "code",
   "execution_count": 3,
   "id": "c58048aa",
   "metadata": {
    "execution": {
     "iopub.execute_input": "2023-08-12T05:53:20.941292Z",
     "iopub.status.busy": "2023-08-12T05:53:20.940888Z",
     "iopub.status.idle": "2023-08-12T05:53:21.915367Z",
     "shell.execute_reply": "2023-08-12T05:53:21.914705Z",
     "shell.execute_reply.started": "2023-08-12T05:53:20.941272Z"
    },
    "id": "c58048aa"
   },
   "outputs": [
    {
     "data": {
      "application/vnd.jupyter.widget-view+json": {
       "model_id": "0c212e8b786c404ab368d73995d36cef",
       "version_major": 2,
       "version_minor": 0
      },
      "text/plain": [
       "  0%|          | 0/120932 [00:00<?, ?it/s]"
      ]
     },
     "metadata": {},
     "output_type": "display_data"
    }
   ],
   "source": [
    "###############################################################\n",
    "# Note: Change the name of data set used for feature creation\n",
    "###############################################################\n",
    "data_set='bully_data_clean_with_stopword'\n",
    "    \n",
    "    \n",
    "###################\n",
    "# Import Data Set #\n",
    "###################\n",
    "bully_data_cleaned = pd.read_csv('bully_data_clean_with_stopword.csv', encoding='utf8')                                            \n",
    "bully_data_cleaned = bully_data_cleaned[~bully_data_cleaned['text_check'].isna()]\n",
    "bully_data_cleaned = bully_data_cleaned[bully_data_cleaned['text_check'] != \"\"]\n",
    "#bully_data_cleaned = bully_data_cleaned[bully_data_cleaned['role']!='None']\n",
    "bully_data_cleaned = bully_data_cleaned[['label','text_check']]\n",
    "bully_data_cleaned['label'] = bully_data_cleaned['label'].progress_apply(lambda x: 1 if x ==\"Cyberbullying\" else 0)\n",
    "bully_data_cleaned.rename(columns = {'text_check':'text'}, inplace = True)\n",
    "bully_data_cleaned = bully_data_cleaned.reset_index(drop=True)"
   ]
  },
  {
   "cell_type": "code",
   "execution_count": 4,
   "id": "f1ad3546",
   "metadata": {
    "execution": {
     "iopub.execute_input": "2023-08-12T05:53:21.917243Z",
     "iopub.status.busy": "2023-08-12T05:53:21.916987Z",
     "iopub.status.idle": "2023-08-12T05:53:21.935336Z",
     "shell.execute_reply": "2023-08-12T05:53:21.934739Z",
     "shell.execute_reply.started": "2023-08-12T05:53:21.917225Z"
    },
    "id": "f1ad3546",
    "scrolled": true
   },
   "outputs": [
    {
     "name": "stdout",
     "output_type": "stream",
     "text": [
      "<class 'pandas.core.frame.DataFrame'>\n",
      "RangeIndex: 120932 entries, 0 to 120931\n",
      "Data columns (total 2 columns):\n",
      " #   Column  Non-Null Count   Dtype \n",
      "---  ------  --------------   ----- \n",
      " 0   label   120932 non-null  int64 \n",
      " 1   text    120932 non-null  object\n",
      "dtypes: int64(1), object(1)\n",
      "memory usage: 1.8+ MB\n"
     ]
    }
   ],
   "source": [
    "bully_data_cleaned.info()"
   ]
  },
  {
   "cell_type": "code",
   "execution_count": 5,
   "id": "y2TxGLSm81wJ",
   "metadata": {
    "execution": {
     "iopub.execute_input": "2023-08-12T05:53:21.936592Z",
     "iopub.status.busy": "2023-08-12T05:53:21.936422Z",
     "iopub.status.idle": "2023-08-12T05:53:21.942089Z",
     "shell.execute_reply": "2023-08-12T05:53:21.941386Z",
     "shell.execute_reply.started": "2023-08-12T05:53:21.936577Z"
    },
    "id": "y2TxGLSm81wJ"
   },
   "outputs": [
    {
     "data": {
      "text/plain": [
       "0    115556\n",
       "1      5376\n",
       "Name: label, dtype: int64"
      ]
     },
     "execution_count": 5,
     "metadata": {},
     "output_type": "execute_result"
    }
   ],
   "source": [
    "bully_data_cleaned['label'].value_counts()"
   ]
  },
  {
   "cell_type": "markdown",
   "id": "61d6da90",
   "metadata": {
    "id": "61d6da90"
   },
   "source": [
    "## Define pretrained tokenizer and model"
   ]
  },
  {
   "cell_type": "code",
   "execution_count": 6,
   "id": "b09bcba2",
   "metadata": {
    "execution": {
     "iopub.execute_input": "2023-08-12T05:53:21.943237Z",
     "iopub.status.busy": "2023-08-12T05:53:21.942841Z",
     "iopub.status.idle": "2023-08-12T05:53:25.369627Z",
     "shell.execute_reply": "2023-08-12T05:53:25.368932Z",
     "shell.execute_reply.started": "2023-08-12T05:53:21.943221Z"
    },
    "id": "b09bcba2"
   },
   "outputs": [
    {
     "data": {
      "application/vnd.jupyter.widget-view+json": {
       "model_id": "e827478e6d1746debaa0de198403b283",
       "version_major": 2,
       "version_minor": 0
      },
      "text/plain": [
       "Downloading tokenizer_config.json:   0%|          | 0.00/28.0 [00:00<?, ?B/s]"
      ]
     },
     "metadata": {},
     "output_type": "display_data"
    },
    {
     "data": {
      "application/vnd.jupyter.widget-view+json": {
       "model_id": "2e43373694e14c2ca38781bf8bd2e5d6",
       "version_major": 2,
       "version_minor": 0
      },
      "text/plain": [
       "Downloading config.json:   0%|          | 0.00/483 [00:00<?, ?B/s]"
      ]
     },
     "metadata": {},
     "output_type": "display_data"
    },
    {
     "data": {
      "application/vnd.jupyter.widget-view+json": {
       "model_id": "15c219121b0f4ccfbdd49c11d3f6a720",
       "version_major": 2,
       "version_minor": 0
      },
      "text/plain": [
       "Downloading vocab.txt:   0%|          | 0.00/226k [00:00<?, ?B/s]"
      ]
     },
     "metadata": {},
     "output_type": "display_data"
    },
    {
     "data": {
      "application/vnd.jupyter.widget-view+json": {
       "model_id": "6396ac6b14fd4ca590ad8696215033de",
       "version_major": 2,
       "version_minor": 0
      },
      "text/plain": [
       "Downloading tokenizer.json:   0%|          | 0.00/455k [00:00<?, ?B/s]"
      ]
     },
     "metadata": {},
     "output_type": "display_data"
    },
    {
     "data": {
      "application/vnd.jupyter.widget-view+json": {
       "model_id": "cac826f0093744e0929281c1cc4c6726",
       "version_major": 2,
       "version_minor": 0
      },
      "text/plain": [
       "Downloading pytorch_model.bin:   0%|          | 0.00/256M [00:00<?, ?B/s]"
      ]
     },
     "metadata": {},
     "output_type": "display_data"
    },
    {
     "name": "stderr",
     "output_type": "stream",
     "text": [
      "Some weights of the model checkpoint at distilbert-base-uncased were not used when initializing DistilBertForSequenceClassification: ['vocab_layer_norm.weight', 'vocab_layer_norm.bias', 'vocab_transform.weight', 'vocab_projector.bias', 'vocab_transform.bias', 'vocab_projector.weight']\n",
      "- This IS expected if you are initializing DistilBertForSequenceClassification from the checkpoint of a model trained on another task or with another architecture (e.g. initializing a BertForSequenceClassification model from a BertForPreTraining model).\n",
      "- This IS NOT expected if you are initializing DistilBertForSequenceClassification from the checkpoint of a model that you expect to be exactly identical (initializing a BertForSequenceClassification model from a BertForSequenceClassification model).\n",
      "Some weights of DistilBertForSequenceClassification were not initialized from the model checkpoint at distilbert-base-uncased and are newly initialized: ['classifier.bias', 'classifier.weight', 'pre_classifier.bias', 'pre_classifier.weight']\n",
      "You should probably TRAIN this model on a down-stream task to be able to use it for predictions and inference.\n"
     ]
    }
   ],
   "source": [
    "from transformers import AutoTokenizer, AutoModelForSequenceClassification\n",
    "\n",
    "\n",
    "model_name = \"distilbert-base-uncased\"\n",
    "tokenizer = AutoTokenizer.from_pretrained(model_name)\n",
    "set_seed(1127)\n",
    "model = AutoModelForSequenceClassification.from_pretrained(model_name, num_labels=2)\n",
    "\n"
   ]
  },
  {
   "cell_type": "markdown",
   "id": "fe8c063e",
   "metadata": {
    "id": "fe8c063e"
   },
   "source": [
    "## Preprocess data and Fine Tune Transformers"
   ]
  },
  {
   "cell_type": "code",
   "execution_count": 7,
   "id": "b5e716fb",
   "metadata": {
    "execution": {
     "iopub.execute_input": "2023-08-12T05:53:25.371237Z",
     "iopub.status.busy": "2023-08-12T05:53:25.370538Z",
     "iopub.status.idle": "2023-08-12T05:53:38.700188Z",
     "shell.execute_reply": "2023-08-12T05:53:38.699392Z",
     "shell.execute_reply.started": "2023-08-12T05:53:25.371216Z"
    },
    "id": "b5e716fb"
   },
   "outputs": [],
   "source": [
    "# Data: Text Input and Label #\n",
    "X = list(bully_data_cleaned[\"text\"])\n",
    "y = list(bully_data_cleaned[\"label\"])\n",
    "\n",
    "# Create torch dataset \n",
    "class Dataset(torch.utils.data.Dataset):\n",
    "    def __init__(self, encodings, labels=None):\n",
    "        self.encodings = encodings\n",
    "        self.labels = labels\n",
    "\n",
    "    def __getitem__(self, idx):\n",
    "        item = {key: torch.tensor(val[idx]) for key, val in self.encodings.items()}\n",
    "        if self.labels:\n",
    "            item[\"labels\"] = torch.tensor(self.labels[idx])\n",
    "        return item\n",
    "\n",
    "    def __len__(self):\n",
    "        return len(self.encodings[\"input_ids\"])\n",
    "\n",
    "\n",
    "# Define Trainer parameters \n",
    "def compute_metrics(p):\n",
    "    pred, labels = p\n",
    "    pred = np.argmax(pred, axis=1)\n",
    "\n",
    "    accuracy = accuracy_score(y_true=labels, y_pred=pred)\n",
    "    recall_cb = recall_score(y_true=labels, y_pred=pred, average='binary', pos_label=1)\n",
    "    precision_cb = precision_score(y_true=labels, y_pred=pred, average='binary', pos_label=1)\n",
    "    f1_cb = f1_score(y_true=labels, y_pred=pred, average='binary', pos_label=1)\n",
    "    \n",
    "    recall_ncb = recall_score(y_true=labels, y_pred=pred, average='binary', pos_label=0)\n",
    "    precision_ncb = precision_score(y_true=labels, y_pred=pred, average='binary', pos_label=0)\n",
    "    f1_ncb = f1_score(y_true=labels, y_pred=pred, average='binary', pos_label=0)\n",
    "    \n",
    "    recall_overall = recall_score(y_true=labels, y_pred=pred, average='macro')\n",
    "    precision_overall = precision_score(y_true=labels, y_pred=pred, average='macro')\n",
    "    f1_overall = f1_score(y_true=labels, y_pred=pred, average='macro')\n",
    "\n",
    "\n",
    "    return {\"accuracy\": accuracy, \n",
    "            \"precision_cb\": precision_cb, \"recall_cb\": recall_cb, \"f1_cb\": f1_cb,\n",
    "            \"precision_ncb\": precision_ncb, \"recall_ncb\": recall_ncb, \"f1_ncb\": f1_ncb,\n",
    "            \"precision_overall\": precision_overall, \"recall_overall\": recall_overall, \"f1_overall\": f1_overall}\n",
    "\n",
    "\n",
    "# Plot Confusion Matrix \n",
    "import numpy as np\n",
    "import matplotlib.pyplot as plt\n",
    "import seaborn as sns\n",
    "\n",
    "def make_confusion_matrix(cf,\n",
    "                          group_names=None,\n",
    "                          categories='auto',\n",
    "                          count=True,\n",
    "                          percent=True,\n",
    "                          cbar=True,\n",
    "                          xyticks=True,\n",
    "                          xyplotlabels=True,\n",
    "                          sum_stats=True,\n",
    "                          figsize=None,\n",
    "                          cmap='Blues',\n",
    "                          title=None):\n",
    "    '''\n",
    "    This function will make a pretty plot of an sklearn Confusion Matrix cm using a Seaborn heatmap visualization.\n",
    "\n",
    "    Arguments\n",
    "    ---------\n",
    "    cf:            confusion matrix to be passed in\n",
    "\n",
    "    group_names:   List of strings that represent the labels row by row to be shown in each square.\n",
    "\n",
    "    categories:    List of strings containing the categories to be displayed on the x,y axis. Default is 'auto'\n",
    "\n",
    "    count:         If True, show the raw number in the confusion matrix. Default is True.\n",
    "\n",
    "    normalize:     If True, show the proportions for each category. Default is True.\n",
    "\n",
    "    cbar:          If True, show the color bar. The cbar values are based off the values in the confusion matrix.\n",
    "                   Default is True.\n",
    "\n",
    "    xyticks:       If True, show x and y ticks. Default is True.\n",
    "\n",
    "    xyplotlabels:  If True, show 'True Label' and 'Predicted Label' on the figure. Default is True.\n",
    "\n",
    "    sum_stats:     If True, display summary statistics below the figure. Default is True.\n",
    "\n",
    "    figsize:       Tuple representing the figure size. Default will be the matplotlib rcParams value.\n",
    "\n",
    "    cmap:          Colormap of the values displayed from matplotlib.pyplot.cm. Default is 'Blues'\n",
    "                   See http://matplotlib.org/examples/color/colormaps_reference.html\n",
    "                   \n",
    "    title:         Title for the heatmap. Default is None.\n",
    "\n",
    "    '''\n",
    "\n",
    "\n",
    "    # CONFUSION MATRIX IN PERCENTAGE\n",
    "    cf_pct = cf.astype('float')/cf.sum(axis=1)[:, np.newaxis]\n",
    "    # CODE TO GENERATE TEXT INSIDE EACH SQUARE\n",
    "    blanks = ['' for i in range(cf.size)]\n",
    "\n",
    "    if group_names and len(group_names)==cf.size:\n",
    "        group_labels = [\"{}\\n\".format(value) for value in group_names]\n",
    "    else:\n",
    "        group_labels = blanks\n",
    "\n",
    "    if count:\n",
    "        group_counts = [\"{0:0.0f}\\n\".format(value) for value in cf.flatten()]\n",
    "    else:\n",
    "        group_counts = blanks\n",
    "\n",
    "    if percent:\n",
    "        group_percentages = [\"{0:.2%}\".format(value) for value in cf_pct.flatten()]\n",
    "    else:\n",
    "        group_percentages = blanks\n",
    "\n",
    "    box_labels = [f\"{v1}{v2}{v3}\".strip() for v1, v2, v3 in zip(group_labels,group_counts,group_percentages)]\n",
    "    box_labels = np.asarray(box_labels).reshape(cf.shape[0],cf.shape[1])\n",
    "\n",
    "\n",
    "    # CODE TO GENERATE SUMMARY STATISTICS & TEXT FOR SUMMARY STATS\n",
    "    if sum_stats:\n",
    "        #Accuracy is sum of diagonal divided by total observations\n",
    "        accuracy  = np.trace(cf) / float(np.sum(cf))\n",
    "\n",
    "        #if it is a binary confusion matrix, show some more stats\n",
    "        if len(cf)==2:\n",
    "            #Metrics for Binary Confusion Matrices\n",
    "            precision = cf[1,1] / sum(cf[:,1])\n",
    "            recall    = cf[1,1] / sum(cf[1,:])\n",
    "            f1_score  = 2*precision*recall / (precision + recall)\n",
    "            stats_text = \"\\n\\nAccuracy={:0.3f}\\nPrecision={:0.3f}\\nRecall={:0.3f}\\nF1 Score={:0.3f}\".format(\n",
    "                accuracy,precision,recall,f1_score)\n",
    "        else:\n",
    "            stats_text = \"\\n\\nAccuracy={:0.3f}\".format(accuracy)\n",
    "    else:\n",
    "        stats_text = \"\"\n",
    "\n",
    "\n",
    "    # SET FIGURE PARAMETERS ACCORDING TO OTHER ARGUMENTS\n",
    "    if figsize==None:\n",
    "        #Get default figure size if not set\n",
    "        figsize = plt.rcParams.get('figure.figsize')\n",
    "\n",
    "    if xyticks==False:\n",
    "        #Do not show categories if xyticks is False\n",
    "        categories=False\n",
    "\n",
    "\n",
    "    # MAKE THE HEATMAP VISUALIZATION\n",
    "    plt.figure(figsize=figsize)\n",
    "    sns.heatmap(cf_pct,annot=box_labels,fmt=\"\",cmap=cmap,cbar=cbar,xticklabels=categories,yticklabels=categories)\n",
    "\n",
    "    if xyplotlabels:\n",
    "        plt.ylabel('True label')\n",
    "        plt.xlabel('Predicted label' + stats_text)\n",
    "    else:\n",
    "        plt.xlabel(stats_text)\n",
    "    \n",
    "    if title:\n",
    "        plt.title(title)\n",
    "\n",
    "# Run cross-validation\n",
    "def run_cross_validation(model_name='DistilBert',\n",
    "                         X=X,\n",
    "                         y=y, \n",
    "                         splits=5,\n",
    "                         epoch=8,\n",
    "                         checkpoint=False):\n",
    "    \n",
    "    kfold = StratifiedShuffleSplit(n_splits=splits, test_size=0.1, random_state=1127)    \n",
    "    # kfold = StratifiedKFold(n_splits=splits, shuffle=True, random_state=1127)\n",
    "    n_fold = 1\n",
    "\n",
    "    print(\"Developing Model with Cross validation for: \" + model_name)\n",
    "    for train, test in tqdm(kfold.split(X, y)):\n",
    "\n",
    "        print(\"Running for Fold: \",n_fold)\n",
    "        train_index = list(train)\n",
    "        test_index = list(test)\n",
    "\n",
    "        X_train = [X[i] for i in train_index]\n",
    "        y_train = [y[i] for i in train_index]\n",
    "        X_val = [X[i] for i in test_index]\n",
    "        y_val = [y[i] for i in test_index]\n",
    "\n",
    "        # Tokenize\n",
    "        X_train_tokenized = tokenizer(X_train, padding=True, truncation=True, max_length=512)\n",
    "        X_val_tokenized = tokenizer(X_val, padding=True, truncation=True, max_length=512)\n",
    "\n",
    "        # Create torch dataset\n",
    "        train_dataset = Dataset(X_train_tokenized, y_train)\n",
    "        val_dataset = Dataset(X_val_tokenized, y_val)\n",
    "\n",
    "        # Fine Tune Transformer\n",
    "        # Define Trainer\n",
    "        args = TrainingArguments(\n",
    "            output_dir=\"content/drive/MyDrive_binary/output_\" + model_name + \"/fold\"+str(n_fold),\n",
    "            evaluation_strategy=\"epoch\",\n",
    "            save_strategy=\"epoch\",\n",
    "            #eval_steps=500,\n",
    "            #per_device_train_batch_size=1,\n",
    "            #per_device_eval_batch_size=1,\n",
    "            num_train_epochs=epoch, #1 was okay\n",
    "            seed=1127,\n",
    "            load_best_model_at_end=True,\n",
    "        )\n",
    "\n",
    "        trainer = Trainer(\n",
    "        #model_init=model_init,\n",
    "        model=model,\n",
    "        args=args,\n",
    "        train_dataset=train_dataset,\n",
    "        eval_dataset=val_dataset,\n",
    "        compute_metrics=compute_metrics,\n",
    "        callbacks=[EarlyStoppingCallback(early_stopping_patience=3)],\n",
    "        )\n",
    "        \n",
    "        if n_fold <=4:\n",
    "            checkpoint_temp=True\n",
    "        else:\n",
    "            checkpoint_temp=False\n",
    "\n",
    "        trainer.train(resume_from_checkpoint=checkpoint)\n",
    "        print(\"Complete for fold\", n_fold)\n",
    "        n_fold= n_fold + 1\n",
    "\n",
    "\n",
    "# Run Hold Out Test \n",
    "\n",
    "# Train and Test Set\n",
    "X_train, X_test, y_train, y_test = train_test_split(X, y, test_size=0.1, stratify=y, random_state=1127)\n",
    "\n",
    "# Train and Validate Set\n",
    "# X_train, X_val, y_train, y_val = train_test_split(X_train, y_train, test_size=0.1, stratify=y_train, random_state=1127)\n",
    "X_train_tokenized = tokenizer(X_train, padding=True, truncation=True, max_length=512)\n",
    "X_val_tokenized = tokenizer(X_test, padding=True, truncation=True, max_length=512)\n",
    "\n",
    "# Create torch dataset\n",
    "train_dataset = Dataset(X_train_tokenized, y_train)\n",
    "val_dataset = Dataset(X_val_tokenized, y_test)\n",
    "\n",
    "def run_hold_out_split(model_name='DistilBert',\n",
    "                       epoch=8,\n",
    "                       train_dataset=train_dataset,\n",
    "                       eval_dataset=val_dataset,\n",
    "                       checkpoint=False):\n",
    "  \n",
    "    print(\"Developing Model with Hold Out Splits for: \" + model_name)\n",
    "    # Fine Tune Transformer\n",
    "    # Define Trainer\n",
    "    args = TrainingArguments(\n",
    "      output_dir=\"content/drive/MyDrive_binary/output_\" + model_name + \"/holdout\",\n",
    "      evaluation_strategy=\"epoch\",\n",
    "      save_strategy=\"epoch\",\n",
    "      #eval_steps=500,\n",
    "      #per_device_train_batch_size=1,\n",
    "      #per_device_eval_batch_size=1,\n",
    "      num_train_epochs=epoch, #1 was okay\n",
    "      seed=1127,\n",
    "      load_best_model_at_end=True,\n",
    "    )\n",
    "\n",
    "    trainer = Trainer(\n",
    "    # model_init=model_init,\n",
    "    args=args,\n",
    "    model=model,\n",
    "    train_dataset=train_dataset,\n",
    "    eval_dataset=val_dataset,\n",
    "    compute_metrics=compute_metrics,\n",
    "    callbacks=[EarlyStoppingCallback(early_stopping_patience=5)],\n",
    "    )\n",
    "\n",
    "    trainer.train(resume_from_checkpoint=checkpoint)\n",
    "    print(\"Complete for hold-out validate set\")\n"
   ]
  },
  {
   "cell_type": "code",
   "execution_count": 8,
   "id": "EKrMcyWmEBlO",
   "metadata": {
    "execution": {
     "iopub.execute_input": "2023-08-12T05:53:38.701611Z",
     "iopub.status.busy": "2023-08-12T05:53:38.701164Z",
     "iopub.status.idle": "2023-08-12T05:53:38.709676Z",
     "shell.execute_reply": "2023-08-12T05:53:38.709112Z",
     "shell.execute_reply.started": "2023-08-12T05:53:38.701589Z"
    },
    "id": "EKrMcyWmEBlO"
   },
   "outputs": [],
   "source": [
    "# Predict (Hold Out Test) \n",
    "\n",
    "from sklearn.metrics import confusion_matrix\n",
    "def compute_metrics_holdout(model_name='DistilBert',\n",
    "                            model_path='content/drive/MyDrive_binary/output_DistilBert/holdout/checkpoint-3820', \n",
    "                            average_method='binary',\n",
    "                            X_test=X_test):\n",
    "  \n",
    "    X_test_tokenized = tokenizer(X_test, padding=True, truncation=True, max_length=512)\n",
    "\n",
    "    # Create torch dataset\n",
    "    test_dataset = Dataset(X_test_tokenized)\n",
    "\n",
    "    # Load trained model\n",
    "    model_pred = AutoModelForSequenceClassification.from_pretrained(model_path, num_labels=2)\n",
    "\n",
    "    # Define test trainer\n",
    "    test_trainer = Trainer(model_pred)\n",
    "\n",
    "    # Make prediction\n",
    "    raw_pred, _, _ = test_trainer.predict(test_dataset)\n",
    "\n",
    "    # Preprocess raw predictions\n",
    "    y_pred = np.argmax(raw_pred, axis=1)\n",
    "\n",
    "    # Compute metrics\n",
    "    precision_cb = precision_score(y_test, y_pred, average=average_method, pos_label=1)\n",
    "    recall_cb = recall_score(y_test, y_pred, average=average_method, pos_label=1)\n",
    "    f1_cb = f1_score(y_test, y_pred, average=average_method, pos_label=1)\n",
    "\n",
    "    precision_ncb = precision_score(y_test, y_pred, average=average_method, pos_label=0)\n",
    "    recall_ncb = recall_score(y_test, y_pred, average=average_method, pos_label=0)\n",
    "    f1_ncb = f1_score(y_test, y_pred, average=average_method, pos_label=0)\n",
    "\n",
    "    precision_overall = precision_score(y_test, y_pred, average='macro')\n",
    "    recall_overall = recall_score(y_test, y_pred, average='macro')\n",
    "    f1_overall = f1_score(y_test, y_pred, average='macro')\n",
    "\n",
    "    # Print Results\n",
    "    print(\"Classification Report:\")\n",
    "    print(classification_report(y_test,y_pred))\n",
    "    print()\n",
    "    print(\"Label 1: Cyberbullying\")\n",
    "    print(\"Precision: \", precision_cb)\n",
    "    print(\"Recall: \", recall_cb)\n",
    "    print(\"F-measure: \", f1_cb)\n",
    "    print()\n",
    "    print(\"Label 0: Non-Cyberbullying\")\n",
    "    print(\"Precision: \", precision_ncb)\n",
    "    print(\"Recall: \", recall_ncb)\n",
    "    print(\"F-measure: \", f1_ncb)\n",
    "    print()\n",
    "    print(\"Macro Metrics\")\n",
    "    print(\"Precision: \", precision_overall)\n",
    "    print(\"Recall: \", recall_overall)\n",
    "    print(\"F-measure: \", f1_overall)\n",
    "    print()\n",
    "\n",
    "    # Confusion Matrix\n",
    "    conf_mat = confusion_matrix(y_test,y_pred)\n",
    "    categories = ['Non-Cyberbullying', 'Cyberbullying']\n",
    "    labels = ['True Negative','',\n",
    "            '','True Positive']\n",
    "\n",
    "    make_confusion_matrix(conf_mat, \n",
    "                        group_names=labels,\n",
    "                        categories=categories, \n",
    "                        figsize=(8,5), \n",
    "                        cbar=True, \n",
    "                        title='Fine Tuned ' + model_name + ' for Cyberbullying Detection', \n",
    "                        cmap='YlGnBu', \n",
    "                        sum_stats=False)\n",
    "\n"
   ]
  },
  {
   "cell_type": "markdown",
   "id": "q5A2sV2dKlPb",
   "metadata": {
    "id": "q5A2sV2dKlPb",
    "tags": []
   },
   "source": [
    "## Cross Validation (K = 5)"
   ]
  },
  {
   "cell_type": "code",
   "execution_count": 9,
   "id": "p5QGotWv8_-V",
   "metadata": {
    "execution": {
     "iopub.execute_input": "2023-08-12T05:53:38.710474Z",
     "iopub.status.busy": "2023-08-12T05:53:38.710316Z",
     "iopub.status.idle": "2023-08-12T11:17:55.813084Z",
     "shell.execute_reply": "2023-08-12T11:17:55.812515Z",
     "shell.execute_reply.started": "2023-08-12T05:53:38.710451Z"
    },
    "id": "p5QGotWv8_-V"
   },
   "outputs": [
    {
     "name": "stdout",
     "output_type": "stream",
     "text": [
      "Developing Model with Cross validation for: DistilBert\n"
     ]
    },
    {
     "name": "stderr",
     "output_type": "stream",
     "text": [
      "0it [00:00, ?it/s]"
     ]
    },
    {
     "name": "stdout",
     "output_type": "stream",
     "text": [
      "Running for Fold:  1\n",
      "huggingface/tokenizers: The current process just got forked, after parallelism has already been used. Disabling parallelism to avoid deadlocks...\n",
      "To disable this warning, you can either:\n",
      "\t- Avoid using `tokenizers` before the fork if possible\n",
      "\t- Explicitly set the environment variable TOKENIZERS_PARALLELISM=(true | false)\n",
      "huggingface/tokenizers: The current process just got forked, after parallelism has already been used. Disabling parallelism to avoid deadlocks...\n",
      "To disable this warning, you can either:\n",
      "\t- Avoid using `tokenizers` before the fork if possible\n",
      "\t- Explicitly set the environment variable TOKENIZERS_PARALLELISM=(true | false)\n",
      "huggingface/tokenizers: The current process just got forked, after parallelism has already been used. Disabling parallelism to avoid deadlocks...\n",
      "To disable this warning, you can either:\n",
      "\t- Avoid using `tokenizers` before the fork if possible\n",
      "\t- Explicitly set the environment variable TOKENIZERS_PARALLELISM=(true | false)\n"
     ]
    },
    {
     "name": "stderr",
     "output_type": "stream",
     "text": [
      "/usr/local/lib/python3.9/dist-packages/transformers/optimization.py:306: FutureWarning: This implementation of AdamW is deprecated and will be removed in a future version. Use the PyTorch implementation torch.optim.AdamW instead, or set `no_deprecation_warning=True` to disable this warning\n",
      "  warnings.warn(\n",
      "***** Running training *****\n",
      "  Num examples = 108838\n",
      "  Num Epochs = 4\n",
      "  Instantaneous batch size per device = 8\n",
      "  Total train batch size (w. parallel, distributed & accumulation) = 16\n",
      "  Gradient Accumulation steps = 1\n",
      "  Total optimization steps = 27212\n",
      "Automatic Weights & Biases logging enabled, to disable set os.environ[\"WANDB_DISABLED\"] = \"true\"\n"
     ]
    },
    {
     "name": "stdout",
     "output_type": "stream",
     "text": [
      "huggingface/tokenizers: The current process just got forked, after parallelism has already been used. Disabling parallelism to avoid deadlocks...\n",
      "To disable this warning, you can either:\n",
      "\t- Avoid using `tokenizers` before the fork if possible\n",
      "\t- Explicitly set the environment variable TOKENIZERS_PARALLELISM=(true | false)\n"
     ]
    },
    {
     "name": "stderr",
     "output_type": "stream",
     "text": [
      "\u001b[34m\u001b[1mwandb\u001b[0m: Logging into wandb.ai. (Learn how to deploy a W&B server locally: https://wandb.me/wandb-server)\n",
      "\u001b[34m\u001b[1mwandb\u001b[0m: You can find your API key in your browser here: https://wandb.ai/authorize\n",
      "\u001b[34m\u001b[1mwandb\u001b[0m: Paste an API key from your profile and hit enter, or press ctrl+c to quit:"
     ]
    },
    {
     "name": "stdout",
     "output_type": "stream",
     "text": [
      "  ········································\n"
     ]
    },
    {
     "name": "stderr",
     "output_type": "stream",
     "text": [
      "\u001b[34m\u001b[1mwandb\u001b[0m: Appending key for api.wandb.ai to your netrc file: /root/.netrc\n"
     ]
    },
    {
     "name": "stdout",
     "output_type": "stream",
     "text": [
      "huggingface/tokenizers: The current process just got forked, after parallelism has already been used. Disabling parallelism to avoid deadlocks...\n",
      "To disable this warning, you can either:\n",
      "\t- Avoid using `tokenizers` before the fork if possible\n",
      "\t- Explicitly set the environment variable TOKENIZERS_PARALLELISM=(true | false)\n",
      "huggingface/tokenizers: The current process just got forked, after parallelism has already been used. Disabling parallelism to avoid deadlocks...\n",
      "To disable this warning, you can either:\n",
      "\t- Avoid using `tokenizers` before the fork if possible\n",
      "\t- Explicitly set the environment variable TOKENIZERS_PARALLELISM=(true | false)\n"
     ]
    },
    {
     "data": {
      "text/html": [
       "Tracking run with wandb version 0.15.8"
      ],
      "text/plain": [
       "<IPython.core.display.HTML object>"
      ]
     },
     "metadata": {},
     "output_type": "display_data"
    },
    {
     "data": {
      "text/html": [
       "Run data is saved locally in <code>/notebooks/Model Traning and Testing/wandb/run-20230812_055403-jnzla0fq</code>"
      ],
      "text/plain": [
       "<IPython.core.display.HTML object>"
      ]
     },
     "metadata": {},
     "output_type": "display_data"
    },
    {
     "data": {
      "text/html": [
       "Syncing run <strong><a href='https://wandb.ai/jasmeen/huggingface/runs/jnzla0fq' target=\"_blank\">content/drive/MyDrive_binary/output_DistilBert/fold1</a></strong> to <a href='https://wandb.ai/jasmeen/huggingface' target=\"_blank\">Weights & Biases</a> (<a href='https://wandb.me/run' target=\"_blank\">docs</a>)<br/>"
      ],
      "text/plain": [
       "<IPython.core.display.HTML object>"
      ]
     },
     "metadata": {},
     "output_type": "display_data"
    },
    {
     "data": {
      "text/html": [
       " View project at <a href='https://wandb.ai/jasmeen/huggingface' target=\"_blank\">https://wandb.ai/jasmeen/huggingface</a>"
      ],
      "text/plain": [
       "<IPython.core.display.HTML object>"
      ]
     },
     "metadata": {},
     "output_type": "display_data"
    },
    {
     "data": {
      "text/html": [
       " View run at <a href='https://wandb.ai/jasmeen/huggingface/runs/jnzla0fq' target=\"_blank\">https://wandb.ai/jasmeen/huggingface/runs/jnzla0fq</a>"
      ],
      "text/plain": [
       "<IPython.core.display.HTML object>"
      ]
     },
     "metadata": {},
     "output_type": "display_data"
    },
    {
     "name": "stderr",
     "output_type": "stream",
     "text": [
      "/usr/local/lib/python3.9/dist-packages/torch/nn/parallel/_functions.py:68: UserWarning: Was asked to gather along dimension 0, but all input tensors were scalars; will instead unsqueeze and return a vector.\n",
      "  warnings.warn('Was asked to gather along dimension 0, but all '\n"
     ]
    },
    {
     "data": {
      "text/html": [
       "\n",
       "    <div>\n",
       "      \n",
       "      <progress value='27212' max='27212' style='width:300px; height:20px; vertical-align: middle;'></progress>\n",
       "      [27212/27212 1:04:09, Epoch 4/4]\n",
       "    </div>\n",
       "    <table border=\"1\" class=\"dataframe\">\n",
       "  <thead>\n",
       " <tr style=\"text-align: left;\">\n",
       "      <th>Epoch</th>\n",
       "      <th>Training Loss</th>\n",
       "      <th>Validation Loss</th>\n",
       "      <th>Accuracy</th>\n",
       "      <th>Precision Cb</th>\n",
       "      <th>Recall Cb</th>\n",
       "      <th>F1 Cb</th>\n",
       "      <th>Precision Ncb</th>\n",
       "      <th>Recall Ncb</th>\n",
       "      <th>F1 Ncb</th>\n",
       "      <th>Precision Overall</th>\n",
       "      <th>Recall Overall</th>\n",
       "      <th>F1 Overall</th>\n",
       "    </tr>\n",
       "  </thead>\n",
       "  <tbody>\n",
       "    <tr>\n",
       "      <td>1</td>\n",
       "      <td>0.106300</td>\n",
       "      <td>0.095568</td>\n",
       "      <td>0.968745</td>\n",
       "      <td>0.753165</td>\n",
       "      <td>0.442379</td>\n",
       "      <td>0.557377</td>\n",
       "      <td>0.974529</td>\n",
       "      <td>0.993250</td>\n",
       "      <td>0.983800</td>\n",
       "      <td>0.863847</td>\n",
       "      <td>0.717815</td>\n",
       "      <td>0.770589</td>\n",
       "    </tr>\n",
       "    <tr>\n",
       "      <td>2</td>\n",
       "      <td>0.098600</td>\n",
       "      <td>0.109815</td>\n",
       "      <td>0.968083</td>\n",
       "      <td>0.668889</td>\n",
       "      <td>0.559480</td>\n",
       "      <td>0.609312</td>\n",
       "      <td>0.979646</td>\n",
       "      <td>0.987106</td>\n",
       "      <td>0.983362</td>\n",
       "      <td>0.824268</td>\n",
       "      <td>0.773293</td>\n",
       "      <td>0.796337</td>\n",
       "    </tr>\n",
       "    <tr>\n",
       "      <td>3</td>\n",
       "      <td>0.073700</td>\n",
       "      <td>0.111825</td>\n",
       "      <td>0.965934</td>\n",
       "      <td>0.632911</td>\n",
       "      <td>0.557621</td>\n",
       "      <td>0.592885</td>\n",
       "      <td>0.979518</td>\n",
       "      <td>0.984943</td>\n",
       "      <td>0.982223</td>\n",
       "      <td>0.806215</td>\n",
       "      <td>0.771282</td>\n",
       "      <td>0.787554</td>\n",
       "    </tr>\n",
       "    <tr>\n",
       "      <td>4</td>\n",
       "      <td>0.064200</td>\n",
       "      <td>0.118592</td>\n",
       "      <td>0.967256</td>\n",
       "      <td>0.665888</td>\n",
       "      <td>0.529740</td>\n",
       "      <td>0.590062</td>\n",
       "      <td>0.978313</td>\n",
       "      <td>0.987625</td>\n",
       "      <td>0.982947</td>\n",
       "      <td>0.822100</td>\n",
       "      <td>0.758683</td>\n",
       "      <td>0.786505</td>\n",
       "    </tr>\n",
       "  </tbody>\n",
       "</table><p>"
      ],
      "text/plain": [
       "<IPython.core.display.HTML object>"
      ]
     },
     "metadata": {},
     "output_type": "display_data"
    },
    {
     "name": "stderr",
     "output_type": "stream",
     "text": [
      "***** Running Evaluation *****\n",
      "  Num examples = 12094\n",
      "  Batch size = 16\n",
      "Saving model checkpoint to content/drive/MyDrive_binary/output_DistilBert/fold1/checkpoint-6803\n",
      "Configuration saved in content/drive/MyDrive_binary/output_DistilBert/fold1/checkpoint-6803/config.json\n",
      "Model weights saved in content/drive/MyDrive_binary/output_DistilBert/fold1/checkpoint-6803/pytorch_model.bin\n",
      "/usr/local/lib/python3.9/dist-packages/torch/nn/parallel/_functions.py:68: UserWarning: Was asked to gather along dimension 0, but all input tensors were scalars; will instead unsqueeze and return a vector.\n",
      "  warnings.warn('Was asked to gather along dimension 0, but all '\n",
      "***** Running Evaluation *****\n",
      "  Num examples = 12094\n",
      "  Batch size = 16\n",
      "Saving model checkpoint to content/drive/MyDrive_binary/output_DistilBert/fold1/checkpoint-13606\n",
      "Configuration saved in content/drive/MyDrive_binary/output_DistilBert/fold1/checkpoint-13606/config.json\n",
      "Model weights saved in content/drive/MyDrive_binary/output_DistilBert/fold1/checkpoint-13606/pytorch_model.bin\n",
      "/usr/local/lib/python3.9/dist-packages/torch/nn/parallel/_functions.py:68: UserWarning: Was asked to gather along dimension 0, but all input tensors were scalars; will instead unsqueeze and return a vector.\n",
      "  warnings.warn('Was asked to gather along dimension 0, but all '\n",
      "***** Running Evaluation *****\n",
      "  Num examples = 12094\n",
      "  Batch size = 16\n",
      "Saving model checkpoint to content/drive/MyDrive_binary/output_DistilBert/fold1/checkpoint-20409\n",
      "Configuration saved in content/drive/MyDrive_binary/output_DistilBert/fold1/checkpoint-20409/config.json\n",
      "Model weights saved in content/drive/MyDrive_binary/output_DistilBert/fold1/checkpoint-20409/pytorch_model.bin\n",
      "/usr/local/lib/python3.9/dist-packages/torch/nn/parallel/_functions.py:68: UserWarning: Was asked to gather along dimension 0, but all input tensors were scalars; will instead unsqueeze and return a vector.\n",
      "  warnings.warn('Was asked to gather along dimension 0, but all '\n",
      "***** Running Evaluation *****\n",
      "  Num examples = 12094\n",
      "  Batch size = 16\n",
      "Saving model checkpoint to content/drive/MyDrive_binary/output_DistilBert/fold1/checkpoint-27212\n",
      "Configuration saved in content/drive/MyDrive_binary/output_DistilBert/fold1/checkpoint-27212/config.json\n",
      "Model weights saved in content/drive/MyDrive_binary/output_DistilBert/fold1/checkpoint-27212/pytorch_model.bin\n",
      "\n",
      "\n",
      "Training completed. Do not forget to share your model on huggingface.co/models =)\n",
      "\n",
      "\n",
      "Loading best model from content/drive/MyDrive_binary/output_DistilBert/fold1/checkpoint-6803 (score: 0.09556780010461807).\n",
      "1it [1:04:39, 3879.14s/it]"
     ]
    },
    {
     "name": "stdout",
     "output_type": "stream",
     "text": [
      "Complete for fold 1\n",
      "Running for Fold:  2\n"
     ]
    },
    {
     "name": "stderr",
     "output_type": "stream",
     "text": [
      "PyTorch: setting up devices\n",
      "The default value for the training argument `--report_to` will change in v5 (from all installed integrations to none). In v5, you will need to use `--report_to all` to get the same behavior as now. You should start updating your code and make this info disappear :-).\n",
      "/usr/local/lib/python3.9/dist-packages/transformers/optimization.py:306: FutureWarning: This implementation of AdamW is deprecated and will be removed in a future version. Use the PyTorch implementation torch.optim.AdamW instead, or set `no_deprecation_warning=True` to disable this warning\n",
      "  warnings.warn(\n",
      "***** Running training *****\n",
      "  Num examples = 108838\n",
      "  Num Epochs = 4\n",
      "  Instantaneous batch size per device = 8\n",
      "  Total train batch size (w. parallel, distributed & accumulation) = 16\n",
      "  Gradient Accumulation steps = 1\n",
      "  Total optimization steps = 27212\n",
      "Automatic Weights & Biases logging enabled, to disable set os.environ[\"WANDB_DISABLED\"] = \"true\"\n",
      "/usr/local/lib/python3.9/dist-packages/torch/nn/parallel/_functions.py:68: UserWarning: Was asked to gather along dimension 0, but all input tensors were scalars; will instead unsqueeze and return a vector.\n",
      "  warnings.warn('Was asked to gather along dimension 0, but all '\n"
     ]
    },
    {
     "data": {
      "text/html": [
       "\n",
       "    <div>\n",
       "      \n",
       "      <progress value='27212' max='27212' style='width:300px; height:20px; vertical-align: middle;'></progress>\n",
       "      [27212/27212 1:04:53, Epoch 4/4]\n",
       "    </div>\n",
       "    <table border=\"1\" class=\"dataframe\">\n",
       "  <thead>\n",
       " <tr style=\"text-align: left;\">\n",
       "      <th>Epoch</th>\n",
       "      <th>Training Loss</th>\n",
       "      <th>Validation Loss</th>\n",
       "      <th>Accuracy</th>\n",
       "      <th>Precision Cb</th>\n",
       "      <th>Recall Cb</th>\n",
       "      <th>F1 Cb</th>\n",
       "      <th>Precision Ncb</th>\n",
       "      <th>Recall Ncb</th>\n",
       "      <th>F1 Ncb</th>\n",
       "      <th>Precision Overall</th>\n",
       "      <th>Recall Overall</th>\n",
       "      <th>F1 Overall</th>\n",
       "    </tr>\n",
       "  </thead>\n",
       "  <tbody>\n",
       "    <tr>\n",
       "      <td>1</td>\n",
       "      <td>0.117000</td>\n",
       "      <td>0.096164</td>\n",
       "      <td>0.969324</td>\n",
       "      <td>0.779264</td>\n",
       "      <td>0.433086</td>\n",
       "      <td>0.556750</td>\n",
       "      <td>0.974142</td>\n",
       "      <td>0.994289</td>\n",
       "      <td>0.984112</td>\n",
       "      <td>0.876703</td>\n",
       "      <td>0.713687</td>\n",
       "      <td>0.770431</td>\n",
       "    </tr>\n",
       "    <tr>\n",
       "      <td>2</td>\n",
       "      <td>0.081900</td>\n",
       "      <td>0.104452</td>\n",
       "      <td>0.971639</td>\n",
       "      <td>0.760000</td>\n",
       "      <td>0.529740</td>\n",
       "      <td>0.624315</td>\n",
       "      <td>0.978411</td>\n",
       "      <td>0.992212</td>\n",
       "      <td>0.985263</td>\n",
       "      <td>0.869206</td>\n",
       "      <td>0.760976</td>\n",
       "      <td>0.804789</td>\n",
       "    </tr>\n",
       "    <tr>\n",
       "      <td>3</td>\n",
       "      <td>0.080700</td>\n",
       "      <td>0.109388</td>\n",
       "      <td>0.971473</td>\n",
       "      <td>0.731415</td>\n",
       "      <td>0.566914</td>\n",
       "      <td>0.638743</td>\n",
       "      <td>0.980046</td>\n",
       "      <td>0.990308</td>\n",
       "      <td>0.985150</td>\n",
       "      <td>0.855731</td>\n",
       "      <td>0.778611</td>\n",
       "      <td>0.811947</td>\n",
       "    </tr>\n",
       "    <tr>\n",
       "      <td>4</td>\n",
       "      <td>0.058700</td>\n",
       "      <td>0.111757</td>\n",
       "      <td>0.971473</td>\n",
       "      <td>0.745547</td>\n",
       "      <td>0.544610</td>\n",
       "      <td>0.629431</td>\n",
       "      <td>0.979062</td>\n",
       "      <td>0.991346</td>\n",
       "      <td>0.985166</td>\n",
       "      <td>0.862304</td>\n",
       "      <td>0.767978</td>\n",
       "      <td>0.807298</td>\n",
       "    </tr>\n",
       "  </tbody>\n",
       "</table><p>"
      ],
      "text/plain": [
       "<IPython.core.display.HTML object>"
      ]
     },
     "metadata": {},
     "output_type": "display_data"
    },
    {
     "name": "stderr",
     "output_type": "stream",
     "text": [
      "***** Running Evaluation *****\n",
      "  Num examples = 12094\n",
      "  Batch size = 16\n",
      "Saving model checkpoint to content/drive/MyDrive_binary/output_DistilBert/fold2/checkpoint-6803\n",
      "Configuration saved in content/drive/MyDrive_binary/output_DistilBert/fold2/checkpoint-6803/config.json\n",
      "Model weights saved in content/drive/MyDrive_binary/output_DistilBert/fold2/checkpoint-6803/pytorch_model.bin\n",
      "/usr/local/lib/python3.9/dist-packages/torch/nn/parallel/_functions.py:68: UserWarning: Was asked to gather along dimension 0, but all input tensors were scalars; will instead unsqueeze and return a vector.\n",
      "  warnings.warn('Was asked to gather along dimension 0, but all '\n",
      "***** Running Evaluation *****\n",
      "  Num examples = 12094\n",
      "  Batch size = 16\n",
      "Saving model checkpoint to content/drive/MyDrive_binary/output_DistilBert/fold2/checkpoint-13606\n",
      "Configuration saved in content/drive/MyDrive_binary/output_DistilBert/fold2/checkpoint-13606/config.json\n",
      "Model weights saved in content/drive/MyDrive_binary/output_DistilBert/fold2/checkpoint-13606/pytorch_model.bin\n",
      "/usr/local/lib/python3.9/dist-packages/torch/nn/parallel/_functions.py:68: UserWarning: Was asked to gather along dimension 0, but all input tensors were scalars; will instead unsqueeze and return a vector.\n",
      "  warnings.warn('Was asked to gather along dimension 0, but all '\n",
      "***** Running Evaluation *****\n",
      "  Num examples = 12094\n",
      "  Batch size = 16\n",
      "Saving model checkpoint to content/drive/MyDrive_binary/output_DistilBert/fold2/checkpoint-20409\n",
      "Configuration saved in content/drive/MyDrive_binary/output_DistilBert/fold2/checkpoint-20409/config.json\n",
      "Model weights saved in content/drive/MyDrive_binary/output_DistilBert/fold2/checkpoint-20409/pytorch_model.bin\n",
      "/usr/local/lib/python3.9/dist-packages/torch/nn/parallel/_functions.py:68: UserWarning: Was asked to gather along dimension 0, but all input tensors were scalars; will instead unsqueeze and return a vector.\n",
      "  warnings.warn('Was asked to gather along dimension 0, but all '\n",
      "***** Running Evaluation *****\n",
      "  Num examples = 12094\n",
      "  Batch size = 16\n",
      "Saving model checkpoint to content/drive/MyDrive_binary/output_DistilBert/fold2/checkpoint-27212\n",
      "Configuration saved in content/drive/MyDrive_binary/output_DistilBert/fold2/checkpoint-27212/config.json\n",
      "Model weights saved in content/drive/MyDrive_binary/output_DistilBert/fold2/checkpoint-27212/pytorch_model.bin\n",
      "\n",
      "\n",
      "Training completed. Do not forget to share your model on huggingface.co/models =)\n",
      "\n",
      "\n",
      "Loading best model from content/drive/MyDrive_binary/output_DistilBert/fold2/checkpoint-6803 (score: 0.09616374969482422).\n",
      "2it [2:09:50, 3897.92s/it]"
     ]
    },
    {
     "name": "stdout",
     "output_type": "stream",
     "text": [
      "Complete for fold 2\n",
      "Running for Fold:  3\n"
     ]
    },
    {
     "name": "stderr",
     "output_type": "stream",
     "text": [
      "PyTorch: setting up devices\n",
      "The default value for the training argument `--report_to` will change in v5 (from all installed integrations to none). In v5, you will need to use `--report_to all` to get the same behavior as now. You should start updating your code and make this info disappear :-).\n",
      "/usr/local/lib/python3.9/dist-packages/transformers/optimization.py:306: FutureWarning: This implementation of AdamW is deprecated and will be removed in a future version. Use the PyTorch implementation torch.optim.AdamW instead, or set `no_deprecation_warning=True` to disable this warning\n",
      "  warnings.warn(\n",
      "***** Running training *****\n",
      "  Num examples = 108838\n",
      "  Num Epochs = 4\n",
      "  Instantaneous batch size per device = 8\n",
      "  Total train batch size (w. parallel, distributed & accumulation) = 16\n",
      "  Gradient Accumulation steps = 1\n",
      "  Total optimization steps = 27212\n",
      "Automatic Weights & Biases logging enabled, to disable set os.environ[\"WANDB_DISABLED\"] = \"true\"\n",
      "/usr/local/lib/python3.9/dist-packages/torch/nn/parallel/_functions.py:68: UserWarning: Was asked to gather along dimension 0, but all input tensors were scalars; will instead unsqueeze and return a vector.\n",
      "  warnings.warn('Was asked to gather along dimension 0, but all '\n"
     ]
    },
    {
     "data": {
      "text/html": [
       "\n",
       "    <div>\n",
       "      \n",
       "      <progress value='27212' max='27212' style='width:300px; height:20px; vertical-align: middle;'></progress>\n",
       "      [27212/27212 1:05:03, Epoch 4/4]\n",
       "    </div>\n",
       "    <table border=\"1\" class=\"dataframe\">\n",
       "  <thead>\n",
       " <tr style=\"text-align: left;\">\n",
       "      <th>Epoch</th>\n",
       "      <th>Training Loss</th>\n",
       "      <th>Validation Loss</th>\n",
       "      <th>Accuracy</th>\n",
       "      <th>Precision Cb</th>\n",
       "      <th>Recall Cb</th>\n",
       "      <th>F1 Cb</th>\n",
       "      <th>Precision Ncb</th>\n",
       "      <th>Recall Ncb</th>\n",
       "      <th>F1 Ncb</th>\n",
       "      <th>Precision Overall</th>\n",
       "      <th>Recall Overall</th>\n",
       "      <th>F1 Overall</th>\n",
       "    </tr>\n",
       "  </thead>\n",
       "  <tbody>\n",
       "    <tr>\n",
       "      <td>1</td>\n",
       "      <td>0.095900</td>\n",
       "      <td>0.098148</td>\n",
       "      <td>0.970068</td>\n",
       "      <td>0.787582</td>\n",
       "      <td>0.447955</td>\n",
       "      <td>0.571090</td>\n",
       "      <td>0.974805</td>\n",
       "      <td>0.994375</td>\n",
       "      <td>0.984493</td>\n",
       "      <td>0.881193</td>\n",
       "      <td>0.721165</td>\n",
       "      <td>0.777791</td>\n",
       "    </tr>\n",
       "    <tr>\n",
       "      <td>2</td>\n",
       "      <td>0.086900</td>\n",
       "      <td>0.094875</td>\n",
       "      <td>0.971391</td>\n",
       "      <td>0.708696</td>\n",
       "      <td>0.605948</td>\n",
       "      <td>0.653307</td>\n",
       "      <td>0.981778</td>\n",
       "      <td>0.988404</td>\n",
       "      <td>0.985080</td>\n",
       "      <td>0.845237</td>\n",
       "      <td>0.797176</td>\n",
       "      <td>0.819193</td>\n",
       "    </tr>\n",
       "    <tr>\n",
       "      <td>3</td>\n",
       "      <td>0.067900</td>\n",
       "      <td>0.102395</td>\n",
       "      <td>0.972631</td>\n",
       "      <td>0.782016</td>\n",
       "      <td>0.533457</td>\n",
       "      <td>0.634254</td>\n",
       "      <td>0.978596</td>\n",
       "      <td>0.993077</td>\n",
       "      <td>0.985784</td>\n",
       "      <td>0.880306</td>\n",
       "      <td>0.763267</td>\n",
       "      <td>0.810019</td>\n",
       "    </tr>\n",
       "    <tr>\n",
       "      <td>4</td>\n",
       "      <td>0.052500</td>\n",
       "      <td>0.120746</td>\n",
       "      <td>0.972135</td>\n",
       "      <td>0.733179</td>\n",
       "      <td>0.587361</td>\n",
       "      <td>0.652219</td>\n",
       "      <td>0.980965</td>\n",
       "      <td>0.990048</td>\n",
       "      <td>0.985486</td>\n",
       "      <td>0.857072</td>\n",
       "      <td>0.788705</td>\n",
       "      <td>0.818852</td>\n",
       "    </tr>\n",
       "  </tbody>\n",
       "</table><p>"
      ],
      "text/plain": [
       "<IPython.core.display.HTML object>"
      ]
     },
     "metadata": {},
     "output_type": "display_data"
    },
    {
     "name": "stderr",
     "output_type": "stream",
     "text": [
      "***** Running Evaluation *****\n",
      "  Num examples = 12094\n",
      "  Batch size = 16\n",
      "Saving model checkpoint to content/drive/MyDrive_binary/output_DistilBert/fold3/checkpoint-6803\n",
      "Configuration saved in content/drive/MyDrive_binary/output_DistilBert/fold3/checkpoint-6803/config.json\n",
      "Model weights saved in content/drive/MyDrive_binary/output_DistilBert/fold3/checkpoint-6803/pytorch_model.bin\n",
      "/usr/local/lib/python3.9/dist-packages/torch/nn/parallel/_functions.py:68: UserWarning: Was asked to gather along dimension 0, but all input tensors were scalars; will instead unsqueeze and return a vector.\n",
      "  warnings.warn('Was asked to gather along dimension 0, but all '\n",
      "***** Running Evaluation *****\n",
      "  Num examples = 12094\n",
      "  Batch size = 16\n",
      "Saving model checkpoint to content/drive/MyDrive_binary/output_DistilBert/fold3/checkpoint-13606\n",
      "Configuration saved in content/drive/MyDrive_binary/output_DistilBert/fold3/checkpoint-13606/config.json\n",
      "Model weights saved in content/drive/MyDrive_binary/output_DistilBert/fold3/checkpoint-13606/pytorch_model.bin\n",
      "/usr/local/lib/python3.9/dist-packages/torch/nn/parallel/_functions.py:68: UserWarning: Was asked to gather along dimension 0, but all input tensors were scalars; will instead unsqueeze and return a vector.\n",
      "  warnings.warn('Was asked to gather along dimension 0, but all '\n",
      "***** Running Evaluation *****\n",
      "  Num examples = 12094\n",
      "  Batch size = 16\n",
      "Saving model checkpoint to content/drive/MyDrive_binary/output_DistilBert/fold3/checkpoint-20409\n",
      "Configuration saved in content/drive/MyDrive_binary/output_DistilBert/fold3/checkpoint-20409/config.json\n",
      "Model weights saved in content/drive/MyDrive_binary/output_DistilBert/fold3/checkpoint-20409/pytorch_model.bin\n",
      "/usr/local/lib/python3.9/dist-packages/torch/nn/parallel/_functions.py:68: UserWarning: Was asked to gather along dimension 0, but all input tensors were scalars; will instead unsqueeze and return a vector.\n",
      "  warnings.warn('Was asked to gather along dimension 0, but all '\n",
      "***** Running Evaluation *****\n",
      "  Num examples = 12094\n",
      "  Batch size = 16\n",
      "Saving model checkpoint to content/drive/MyDrive_binary/output_DistilBert/fold3/checkpoint-27212\n",
      "Configuration saved in content/drive/MyDrive_binary/output_DistilBert/fold3/checkpoint-27212/config.json\n",
      "Model weights saved in content/drive/MyDrive_binary/output_DistilBert/fold3/checkpoint-27212/pytorch_model.bin\n",
      "\n",
      "\n",
      "Training completed. Do not forget to share your model on huggingface.co/models =)\n",
      "\n",
      "\n",
      "Loading best model from content/drive/MyDrive_binary/output_DistilBert/fold3/checkpoint-13606 (score: 0.09487467259168625).\n",
      "3it [3:15:04, 3905.36s/it]"
     ]
    },
    {
     "name": "stdout",
     "output_type": "stream",
     "text": [
      "Complete for fold 3\n",
      "Running for Fold:  4\n"
     ]
    },
    {
     "name": "stderr",
     "output_type": "stream",
     "text": [
      "PyTorch: setting up devices\n",
      "The default value for the training argument `--report_to` will change in v5 (from all installed integrations to none). In v5, you will need to use `--report_to all` to get the same behavior as now. You should start updating your code and make this info disappear :-).\n",
      "/usr/local/lib/python3.9/dist-packages/transformers/optimization.py:306: FutureWarning: This implementation of AdamW is deprecated and will be removed in a future version. Use the PyTorch implementation torch.optim.AdamW instead, or set `no_deprecation_warning=True` to disable this warning\n",
      "  warnings.warn(\n",
      "***** Running training *****\n",
      "  Num examples = 108838\n",
      "  Num Epochs = 4\n",
      "  Instantaneous batch size per device = 8\n",
      "  Total train batch size (w. parallel, distributed & accumulation) = 16\n",
      "  Gradient Accumulation steps = 1\n",
      "  Total optimization steps = 27212\n",
      "Automatic Weights & Biases logging enabled, to disable set os.environ[\"WANDB_DISABLED\"] = \"true\"\n",
      "/usr/local/lib/python3.9/dist-packages/torch/nn/parallel/_functions.py:68: UserWarning: Was asked to gather along dimension 0, but all input tensors were scalars; will instead unsqueeze and return a vector.\n",
      "  warnings.warn('Was asked to gather along dimension 0, but all '\n"
     ]
    },
    {
     "data": {
      "text/html": [
       "\n",
       "    <div>\n",
       "      \n",
       "      <progress value='27212' max='27212' style='width:300px; height:20px; vertical-align: middle;'></progress>\n",
       "      [27212/27212 1:04:15, Epoch 4/4]\n",
       "    </div>\n",
       "    <table border=\"1\" class=\"dataframe\">\n",
       "  <thead>\n",
       " <tr style=\"text-align: left;\">\n",
       "      <th>Epoch</th>\n",
       "      <th>Training Loss</th>\n",
       "      <th>Validation Loss</th>\n",
       "      <th>Accuracy</th>\n",
       "      <th>Precision Cb</th>\n",
       "      <th>Recall Cb</th>\n",
       "      <th>F1 Cb</th>\n",
       "      <th>Precision Ncb</th>\n",
       "      <th>Recall Ncb</th>\n",
       "      <th>F1 Ncb</th>\n",
       "      <th>Precision Overall</th>\n",
       "      <th>Recall Overall</th>\n",
       "      <th>F1 Overall</th>\n",
       "    </tr>\n",
       "  </thead>\n",
       "  <tbody>\n",
       "    <tr>\n",
       "      <td>1</td>\n",
       "      <td>0.092600</td>\n",
       "      <td>0.099601</td>\n",
       "      <td>0.974037</td>\n",
       "      <td>0.797872</td>\n",
       "      <td>0.557621</td>\n",
       "      <td>0.656455</td>\n",
       "      <td>0.979689</td>\n",
       "      <td>0.993423</td>\n",
       "      <td>0.986509</td>\n",
       "      <td>0.888781</td>\n",
       "      <td>0.775522</td>\n",
       "      <td>0.821482</td>\n",
       "    </tr>\n",
       "    <tr>\n",
       "      <td>2</td>\n",
       "      <td>0.076800</td>\n",
       "      <td>0.091982</td>\n",
       "      <td>0.975194</td>\n",
       "      <td>0.770455</td>\n",
       "      <td>0.630112</td>\n",
       "      <td>0.693252</td>\n",
       "      <td>0.982924</td>\n",
       "      <td>0.991260</td>\n",
       "      <td>0.987075</td>\n",
       "      <td>0.876689</td>\n",
       "      <td>0.810686</td>\n",
       "      <td>0.840163</td>\n",
       "    </tr>\n",
       "    <tr>\n",
       "      <td>3</td>\n",
       "      <td>0.065100</td>\n",
       "      <td>0.096637</td>\n",
       "      <td>0.974864</td>\n",
       "      <td>0.774648</td>\n",
       "      <td>0.613383</td>\n",
       "      <td>0.684647</td>\n",
       "      <td>0.982173</td>\n",
       "      <td>0.991693</td>\n",
       "      <td>0.986910</td>\n",
       "      <td>0.878411</td>\n",
       "      <td>0.802538</td>\n",
       "      <td>0.835779</td>\n",
       "    </tr>\n",
       "    <tr>\n",
       "      <td>4</td>\n",
       "      <td>0.058200</td>\n",
       "      <td>0.099207</td>\n",
       "      <td>0.975112</td>\n",
       "      <td>0.751592</td>\n",
       "      <td>0.657993</td>\n",
       "      <td>0.701685</td>\n",
       "      <td>0.984169</td>\n",
       "      <td>0.989875</td>\n",
       "      <td>0.987014</td>\n",
       "      <td>0.867881</td>\n",
       "      <td>0.823934</td>\n",
       "      <td>0.844349</td>\n",
       "    </tr>\n",
       "  </tbody>\n",
       "</table><p>"
      ],
      "text/plain": [
       "<IPython.core.display.HTML object>"
      ]
     },
     "metadata": {},
     "output_type": "display_data"
    },
    {
     "name": "stderr",
     "output_type": "stream",
     "text": [
      "***** Running Evaluation *****\n",
      "  Num examples = 12094\n",
      "  Batch size = 16\n",
      "Saving model checkpoint to content/drive/MyDrive_binary/output_DistilBert/fold4/checkpoint-6803\n",
      "Configuration saved in content/drive/MyDrive_binary/output_DistilBert/fold4/checkpoint-6803/config.json\n",
      "Model weights saved in content/drive/MyDrive_binary/output_DistilBert/fold4/checkpoint-6803/pytorch_model.bin\n",
      "/usr/local/lib/python3.9/dist-packages/torch/nn/parallel/_functions.py:68: UserWarning: Was asked to gather along dimension 0, but all input tensors were scalars; will instead unsqueeze and return a vector.\n",
      "  warnings.warn('Was asked to gather along dimension 0, but all '\n",
      "***** Running Evaluation *****\n",
      "  Num examples = 12094\n",
      "  Batch size = 16\n",
      "Saving model checkpoint to content/drive/MyDrive_binary/output_DistilBert/fold4/checkpoint-13606\n",
      "Configuration saved in content/drive/MyDrive_binary/output_DistilBert/fold4/checkpoint-13606/config.json\n",
      "Model weights saved in content/drive/MyDrive_binary/output_DistilBert/fold4/checkpoint-13606/pytorch_model.bin\n",
      "/usr/local/lib/python3.9/dist-packages/torch/nn/parallel/_functions.py:68: UserWarning: Was asked to gather along dimension 0, but all input tensors were scalars; will instead unsqueeze and return a vector.\n",
      "  warnings.warn('Was asked to gather along dimension 0, but all '\n",
      "***** Running Evaluation *****\n",
      "  Num examples = 12094\n",
      "  Batch size = 16\n",
      "Saving model checkpoint to content/drive/MyDrive_binary/output_DistilBert/fold4/checkpoint-20409\n",
      "Configuration saved in content/drive/MyDrive_binary/output_DistilBert/fold4/checkpoint-20409/config.json\n",
      "Model weights saved in content/drive/MyDrive_binary/output_DistilBert/fold4/checkpoint-20409/pytorch_model.bin\n",
      "/usr/local/lib/python3.9/dist-packages/torch/nn/parallel/_functions.py:68: UserWarning: Was asked to gather along dimension 0, but all input tensors were scalars; will instead unsqueeze and return a vector.\n",
      "  warnings.warn('Was asked to gather along dimension 0, but all '\n",
      "***** Running Evaluation *****\n",
      "  Num examples = 12094\n",
      "  Batch size = 16\n",
      "Saving model checkpoint to content/drive/MyDrive_binary/output_DistilBert/fold4/checkpoint-27212\n",
      "Configuration saved in content/drive/MyDrive_binary/output_DistilBert/fold4/checkpoint-27212/config.json\n",
      "Model weights saved in content/drive/MyDrive_binary/output_DistilBert/fold4/checkpoint-27212/pytorch_model.bin\n",
      "\n",
      "\n",
      "Training completed. Do not forget to share your model on huggingface.co/models =)\n",
      "\n",
      "\n",
      "Loading best model from content/drive/MyDrive_binary/output_DistilBert/fold4/checkpoint-13606 (score: 0.09198170900344849).\n",
      "4it [4:19:31, 3890.18s/it]"
     ]
    },
    {
     "name": "stdout",
     "output_type": "stream",
     "text": [
      "Complete for fold 4\n",
      "Running for Fold:  5\n"
     ]
    },
    {
     "name": "stderr",
     "output_type": "stream",
     "text": [
      "PyTorch: setting up devices\n",
      "The default value for the training argument `--report_to` will change in v5 (from all installed integrations to none). In v5, you will need to use `--report_to all` to get the same behavior as now. You should start updating your code and make this info disappear :-).\n",
      "/usr/local/lib/python3.9/dist-packages/transformers/optimization.py:306: FutureWarning: This implementation of AdamW is deprecated and will be removed in a future version. Use the PyTorch implementation torch.optim.AdamW instead, or set `no_deprecation_warning=True` to disable this warning\n",
      "  warnings.warn(\n",
      "***** Running training *****\n",
      "  Num examples = 108838\n",
      "  Num Epochs = 4\n",
      "  Instantaneous batch size per device = 8\n",
      "  Total train batch size (w. parallel, distributed & accumulation) = 16\n",
      "  Gradient Accumulation steps = 1\n",
      "  Total optimization steps = 27212\n",
      "Automatic Weights & Biases logging enabled, to disable set os.environ[\"WANDB_DISABLED\"] = \"true\"\n",
      "/usr/local/lib/python3.9/dist-packages/torch/nn/parallel/_functions.py:68: UserWarning: Was asked to gather along dimension 0, but all input tensors were scalars; will instead unsqueeze and return a vector.\n",
      "  warnings.warn('Was asked to gather along dimension 0, but all '\n"
     ]
    },
    {
     "data": {
      "text/html": [
       "\n",
       "    <div>\n",
       "      \n",
       "      <progress value='27212' max='27212' style='width:300px; height:20px; vertical-align: middle;'></progress>\n",
       "      [27212/27212 1:04:35, Epoch 4/4]\n",
       "    </div>\n",
       "    <table border=\"1\" class=\"dataframe\">\n",
       "  <thead>\n",
       " <tr style=\"text-align: left;\">\n",
       "      <th>Epoch</th>\n",
       "      <th>Training Loss</th>\n",
       "      <th>Validation Loss</th>\n",
       "      <th>Accuracy</th>\n",
       "      <th>Precision Cb</th>\n",
       "      <th>Recall Cb</th>\n",
       "      <th>F1 Cb</th>\n",
       "      <th>Precision Ncb</th>\n",
       "      <th>Recall Ncb</th>\n",
       "      <th>F1 Ncb</th>\n",
       "      <th>Precision Overall</th>\n",
       "      <th>Recall Overall</th>\n",
       "      <th>F1 Overall</th>\n",
       "    </tr>\n",
       "  </thead>\n",
       "  <tbody>\n",
       "    <tr>\n",
       "      <td>1</td>\n",
       "      <td>0.073100</td>\n",
       "      <td>0.076519</td>\n",
       "      <td>0.975856</td>\n",
       "      <td>0.798544</td>\n",
       "      <td>0.611524</td>\n",
       "      <td>0.692632</td>\n",
       "      <td>0.982109</td>\n",
       "      <td>0.992818</td>\n",
       "      <td>0.987434</td>\n",
       "      <td>0.890326</td>\n",
       "      <td>0.802171</td>\n",
       "      <td>0.840033</td>\n",
       "    </tr>\n",
       "    <tr>\n",
       "      <td>2</td>\n",
       "      <td>0.066400</td>\n",
       "      <td>0.084880</td>\n",
       "      <td>0.977344</td>\n",
       "      <td>0.765060</td>\n",
       "      <td>0.708178</td>\n",
       "      <td>0.735521</td>\n",
       "      <td>0.986461</td>\n",
       "      <td>0.989875</td>\n",
       "      <td>0.988165</td>\n",
       "      <td>0.875761</td>\n",
       "      <td>0.849027</td>\n",
       "      <td>0.861843</td>\n",
       "    </tr>\n",
       "    <tr>\n",
       "      <td>3</td>\n",
       "      <td>0.064900</td>\n",
       "      <td>0.081453</td>\n",
       "      <td>0.975608</td>\n",
       "      <td>0.767033</td>\n",
       "      <td>0.648699</td>\n",
       "      <td>0.702920</td>\n",
       "      <td>0.983761</td>\n",
       "      <td>0.990827</td>\n",
       "      <td>0.987282</td>\n",
       "      <td>0.875397</td>\n",
       "      <td>0.819763</td>\n",
       "      <td>0.845101</td>\n",
       "    </tr>\n",
       "    <tr>\n",
       "      <td>4</td>\n",
       "      <td>0.054900</td>\n",
       "      <td>0.090229</td>\n",
       "      <td>0.976683</td>\n",
       "      <td>0.756000</td>\n",
       "      <td>0.702602</td>\n",
       "      <td>0.728324</td>\n",
       "      <td>0.986200</td>\n",
       "      <td>0.989443</td>\n",
       "      <td>0.987819</td>\n",
       "      <td>0.871100</td>\n",
       "      <td>0.846022</td>\n",
       "      <td>0.858071</td>\n",
       "    </tr>\n",
       "  </tbody>\n",
       "</table><p>"
      ],
      "text/plain": [
       "<IPython.core.display.HTML object>"
      ]
     },
     "metadata": {},
     "output_type": "display_data"
    },
    {
     "name": "stderr",
     "output_type": "stream",
     "text": [
      "***** Running Evaluation *****\n",
      "  Num examples = 12094\n",
      "  Batch size = 16\n",
      "Saving model checkpoint to content/drive/MyDrive_binary/output_DistilBert/fold5/checkpoint-6803\n",
      "Configuration saved in content/drive/MyDrive_binary/output_DistilBert/fold5/checkpoint-6803/config.json\n",
      "Model weights saved in content/drive/MyDrive_binary/output_DistilBert/fold5/checkpoint-6803/pytorch_model.bin\n",
      "/usr/local/lib/python3.9/dist-packages/torch/nn/parallel/_functions.py:68: UserWarning: Was asked to gather along dimension 0, but all input tensors were scalars; will instead unsqueeze and return a vector.\n",
      "  warnings.warn('Was asked to gather along dimension 0, but all '\n",
      "***** Running Evaluation *****\n",
      "  Num examples = 12094\n",
      "  Batch size = 16\n",
      "Saving model checkpoint to content/drive/MyDrive_binary/output_DistilBert/fold5/checkpoint-13606\n",
      "Configuration saved in content/drive/MyDrive_binary/output_DistilBert/fold5/checkpoint-13606/config.json\n",
      "Model weights saved in content/drive/MyDrive_binary/output_DistilBert/fold5/checkpoint-13606/pytorch_model.bin\n",
      "/usr/local/lib/python3.9/dist-packages/torch/nn/parallel/_functions.py:68: UserWarning: Was asked to gather along dimension 0, but all input tensors were scalars; will instead unsqueeze and return a vector.\n",
      "  warnings.warn('Was asked to gather along dimension 0, but all '\n",
      "***** Running Evaluation *****\n",
      "  Num examples = 12094\n",
      "  Batch size = 16\n",
      "Saving model checkpoint to content/drive/MyDrive_binary/output_DistilBert/fold5/checkpoint-20409\n",
      "Configuration saved in content/drive/MyDrive_binary/output_DistilBert/fold5/checkpoint-20409/config.json\n",
      "Model weights saved in content/drive/MyDrive_binary/output_DistilBert/fold5/checkpoint-20409/pytorch_model.bin\n",
      "/usr/local/lib/python3.9/dist-packages/torch/nn/parallel/_functions.py:68: UserWarning: Was asked to gather along dimension 0, but all input tensors were scalars; will instead unsqueeze and return a vector.\n",
      "  warnings.warn('Was asked to gather along dimension 0, but all '\n",
      "***** Running Evaluation *****\n",
      "  Num examples = 12094\n",
      "  Batch size = 16\n",
      "Saving model checkpoint to content/drive/MyDrive_binary/output_DistilBert/fold5/checkpoint-27212\n",
      "Configuration saved in content/drive/MyDrive_binary/output_DistilBert/fold5/checkpoint-27212/config.json\n",
      "Model weights saved in content/drive/MyDrive_binary/output_DistilBert/fold5/checkpoint-27212/pytorch_model.bin\n",
      "\n",
      "\n",
      "Training completed. Do not forget to share your model on huggingface.co/models =)\n",
      "\n",
      "\n",
      "Loading best model from content/drive/MyDrive_binary/output_DistilBert/fold5/checkpoint-6803 (score: 0.07651860266923904).\n",
      "5it [5:24:15, 3891.03s/it]\n"
     ]
    },
    {
     "name": "stdout",
     "output_type": "stream",
     "text": [
      "Complete for fold 5\n"
     ]
    }
   ],
   "source": [
    "run_cross_validation(model_name='DistilBert',\n",
    "                         X=X,\n",
    "                         y=y, \n",
    "                         splits=5,\n",
    "                         epoch=4,\n",
    "                         checkpoint=False)"
   ]
  },
  {
   "cell_type": "markdown",
   "id": "a3cabdda-c5a2-44ef-b8ef-61de87bc9003",
   "metadata": {
    "id": "q5A2sV2dKlPb",
    "jp-MarkdownHeadingCollapsed": true,
    "tags": []
   },
   "source": [
    "### [Continue] Cross Validation (K = 5)"
   ]
  },
  {
   "cell_type": "code",
   "execution_count": 10,
   "id": "20a158e0-251b-47f3-80bb-f5a47f2496a0",
   "metadata": {
    "execution": {
     "iopub.execute_input": "2023-08-12T11:17:55.815437Z",
     "iopub.status.busy": "2023-08-12T11:17:55.815246Z",
     "iopub.status.idle": "2023-08-12T11:18:47.585014Z",
     "shell.execute_reply": "2023-08-12T11:18:47.584347Z",
     "shell.execute_reply.started": "2023-08-12T11:17:55.815414Z"
    },
    "id": "p5QGotWv8_-V"
   },
   "outputs": [
    {
     "name": "stdout",
     "output_type": "stream",
     "text": [
      "Developing Model with Cross validation for: DistilBert\n"
     ]
    },
    {
     "name": "stderr",
     "output_type": "stream",
     "text": [
      "0it [00:00, ?it/s]"
     ]
    },
    {
     "name": "stdout",
     "output_type": "stream",
     "text": [
      "Running for Fold:  1\n"
     ]
    },
    {
     "name": "stderr",
     "output_type": "stream",
     "text": [
      "PyTorch: setting up devices\n",
      "The default value for the training argument `--report_to` will change in v5 (from all installed integrations to none). In v5, you will need to use `--report_to all` to get the same behavior as now. You should start updating your code and make this info disappear :-).\n",
      "Loading model from content/drive/MyDrive_binary/output_DistilBert/fold1/checkpoint-54420.\n",
      "/usr/local/lib/python3.9/dist-packages/transformers/optimization.py:306: FutureWarning: This implementation of AdamW is deprecated and will be removed in a future version. Use the PyTorch implementation torch.optim.AdamW instead, or set `no_deprecation_warning=True` to disable this warning\n",
      "  warnings.warn(\n",
      "***** Running training *****\n",
      "  Num examples = 108838\n",
      "  Num Epochs = 4\n",
      "  Instantaneous batch size per device = 8\n",
      "  Total train batch size (w. parallel, distributed & accumulation) = 16\n",
      "  Gradient Accumulation steps = 1\n",
      "  Total optimization steps = 27212\n",
      "  Continuing training from checkpoint, will skip to saved global_step\n",
      "  Continuing training from epoch 7\n",
      "  Continuing training from global step 54420\n",
      "  Will skip the first 7 epochs then the first 6799 batches in the first epoch. If this takes a lot of time, you can add the `--ignore_data_skip` flag to your launch command, but you will resume the training on data already seen by your model.\n"
     ]
    },
    {
     "data": {
      "application/vnd.jupyter.widget-view+json": {
       "model_id": "8ef7db9b987046a7bf173bc843fb4d7e",
       "version_major": 2,
       "version_minor": 0
      },
      "text/plain": [
       "  0%|          | 0/6799 [00:00<?, ?it/s]"
      ]
     },
     "metadata": {},
     "output_type": "display_data"
    },
    {
     "name": "stderr",
     "output_type": "stream",
     "text": [
      "Automatic Weights & Biases logging enabled, to disable set os.environ[\"WANDB_DISABLED\"] = \"true\"\n",
      "\n",
      "\n",
      "Training completed. Do not forget to share your model on huggingface.co/models =)\n",
      "\n",
      "\n",
      "Loading best model from content/drive/MyDrive_binary/output_DistilBert/fold1/checkpoint-40815 (score: 0.1186089888215065).\n"
     ]
    },
    {
     "data": {
      "text/html": [
       "\n",
       "    <div>\n",
       "      \n",
       "      <progress value='54420' max='27212' style='width:300px; height:20px; vertical-align: middle;'></progress>\n",
       "      [54420/27212 : < :, Epoch 4/4]\n",
       "    </div>\n",
       "    <table border=\"1\" class=\"dataframe\">\n",
       "  <thead>\n",
       " <tr style=\"text-align: left;\">\n",
       "      <th>Epoch</th>\n",
       "      <th>Training Loss</th>\n",
       "      <th>Validation Loss</th>\n",
       "    </tr>\n",
       "  </thead>\n",
       "  <tbody>\n",
       "  </tbody>\n",
       "</table><p>"
      ],
      "text/plain": [
       "<IPython.core.display.HTML object>"
      ]
     },
     "metadata": {},
     "output_type": "display_data"
    },
    {
     "name": "stderr",
     "output_type": "stream",
     "text": [
      "1it [00:07,  7.98s/it]"
     ]
    },
    {
     "name": "stdout",
     "output_type": "stream",
     "text": [
      "Complete for fold 1\n",
      "Running for Fold:  2\n"
     ]
    },
    {
     "name": "stderr",
     "output_type": "stream",
     "text": [
      "PyTorch: setting up devices\n",
      "The default value for the training argument `--report_to` will change in v5 (from all installed integrations to none). In v5, you will need to use `--report_to all` to get the same behavior as now. You should start updating your code and make this info disappear :-).\n",
      "Loading model from content/drive/MyDrive_binary/output_DistilBert/fold2/checkpoint-40815.\n",
      "/usr/local/lib/python3.9/dist-packages/transformers/optimization.py:306: FutureWarning: This implementation of AdamW is deprecated and will be removed in a future version. Use the PyTorch implementation torch.optim.AdamW instead, or set `no_deprecation_warning=True` to disable this warning\n",
      "  warnings.warn(\n",
      "***** Running training *****\n",
      "  Num examples = 108838\n",
      "  Num Epochs = 4\n",
      "  Instantaneous batch size per device = 8\n",
      "  Total train batch size (w. parallel, distributed & accumulation) = 16\n",
      "  Gradient Accumulation steps = 1\n",
      "  Total optimization steps = 27212\n",
      "  Continuing training from checkpoint, will skip to saved global_step\n",
      "  Continuing training from epoch 5\n",
      "  Continuing training from global step 40815\n",
      "  Will skip the first 5 epochs then the first 6800 batches in the first epoch. If this takes a lot of time, you can add the `--ignore_data_skip` flag to your launch command, but you will resume the training on data already seen by your model.\n"
     ]
    },
    {
     "data": {
      "application/vnd.jupyter.widget-view+json": {
       "model_id": "9500716f69bb4092b2ed8f8ff679d343",
       "version_major": 2,
       "version_minor": 0
      },
      "text/plain": [
       "  0%|          | 0/6800 [00:00<?, ?it/s]"
      ]
     },
     "metadata": {},
     "output_type": "display_data"
    },
    {
     "name": "stderr",
     "output_type": "stream",
     "text": [
      "Automatic Weights & Biases logging enabled, to disable set os.environ[\"WANDB_DISABLED\"] = \"true\"\n",
      "\n",
      "\n",
      "Training completed. Do not forget to share your model on huggingface.co/models =)\n",
      "\n",
      "\n",
      "Loading best model from content/drive/MyDrive_binary/output_DistilBert/fold2/checkpoint-40815 (score: 0.12233597040176392).\n"
     ]
    },
    {
     "data": {
      "text/html": [
       "\n",
       "    <div>\n",
       "      \n",
       "      <progress value='40815' max='27212' style='width:300px; height:20px; vertical-align: middle;'></progress>\n",
       "      [40815/27212 : < :, Epoch 3/4]\n",
       "    </div>\n",
       "    <table border=\"1\" class=\"dataframe\">\n",
       "  <thead>\n",
       " <tr style=\"text-align: left;\">\n",
       "      <th>Epoch</th>\n",
       "      <th>Training Loss</th>\n",
       "      <th>Validation Loss</th>\n",
       "    </tr>\n",
       "  </thead>\n",
       "  <tbody>\n",
       "  </tbody>\n",
       "</table><p>"
      ],
      "text/plain": [
       "<IPython.core.display.HTML object>"
      ]
     },
     "metadata": {},
     "output_type": "display_data"
    },
    {
     "name": "stderr",
     "output_type": "stream",
     "text": [
      "2it [00:21, 11.02s/it]"
     ]
    },
    {
     "name": "stdout",
     "output_type": "stream",
     "text": [
      "Complete for fold 2\n",
      "Running for Fold:  3\n"
     ]
    },
    {
     "name": "stderr",
     "output_type": "stream",
     "text": [
      "PyTorch: setting up devices\n",
      "The default value for the training argument `--report_to` will change in v5 (from all installed integrations to none). In v5, you will need to use `--report_to all` to get the same behavior as now. You should start updating your code and make this info disappear :-).\n",
      "Loading model from content/drive/MyDrive_binary/output_DistilBert/fold3/checkpoint-27212.\n",
      "/usr/local/lib/python3.9/dist-packages/transformers/optimization.py:306: FutureWarning: This implementation of AdamW is deprecated and will be removed in a future version. Use the PyTorch implementation torch.optim.AdamW instead, or set `no_deprecation_warning=True` to disable this warning\n",
      "  warnings.warn(\n",
      "***** Running training *****\n",
      "  Num examples = 108838\n",
      "  Num Epochs = 4\n",
      "  Instantaneous batch size per device = 8\n",
      "  Total train batch size (w. parallel, distributed & accumulation) = 16\n",
      "  Gradient Accumulation steps = 1\n",
      "  Total optimization steps = 27212\n",
      "  Continuing training from checkpoint, will skip to saved global_step\n",
      "  Continuing training from epoch 4\n",
      "  Continuing training from global step 27212\n",
      "  Will skip the first 4 epochs then the first 0 batches in the first epoch. If this takes a lot of time, you can add the `--ignore_data_skip` flag to your launch command, but you will resume the training on data already seen by your model.\n"
     ]
    },
    {
     "data": {
      "application/vnd.jupyter.widget-view+json": {
       "model_id": "4e6523c054054d50880dbba718a794c2",
       "version_major": 2,
       "version_minor": 0
      },
      "text/plain": [
       "0it [00:00, ?it/s]"
      ]
     },
     "metadata": {},
     "output_type": "display_data"
    },
    {
     "name": "stderr",
     "output_type": "stream",
     "text": [
      "Automatic Weights & Biases logging enabled, to disable set os.environ[\"WANDB_DISABLED\"] = \"true\"\n",
      "\n",
      "\n",
      "Training completed. Do not forget to share your model on huggingface.co/models =)\n",
      "\n",
      "\n",
      "Loading best model from content/drive/MyDrive_binary/output_DistilBert/fold3/checkpoint-13606 (score: 0.09487467259168625).\n"
     ]
    },
    {
     "data": {
      "text/html": [
       "\n",
       "    <div>\n",
       "      \n",
       "      <progress value='27212' max='27212' style='width:300px; height:20px; vertical-align: middle;'></progress>\n",
       "      [27212/27212 : < :, Epoch 4/4]\n",
       "    </div>\n",
       "    <table border=\"1\" class=\"dataframe\">\n",
       "  <thead>\n",
       " <tr style=\"text-align: left;\">\n",
       "      <th>Epoch</th>\n",
       "      <th>Training Loss</th>\n",
       "      <th>Validation Loss</th>\n",
       "    </tr>\n",
       "  </thead>\n",
       "  <tbody>\n",
       "  </tbody>\n",
       "</table><p>"
      ],
      "text/plain": [
       "<IPython.core.display.HTML object>"
      ]
     },
     "metadata": {},
     "output_type": "display_data"
    },
    {
     "name": "stderr",
     "output_type": "stream",
     "text": [
      "3it [00:30, 10.32s/it]"
     ]
    },
    {
     "name": "stdout",
     "output_type": "stream",
     "text": [
      "Complete for fold 3\n",
      "Running for Fold:  4\n"
     ]
    },
    {
     "name": "stderr",
     "output_type": "stream",
     "text": [
      "PyTorch: setting up devices\n",
      "The default value for the training argument `--report_to` will change in v5 (from all installed integrations to none). In v5, you will need to use `--report_to all` to get the same behavior as now. You should start updating your code and make this info disappear :-).\n",
      "Loading model from content/drive/MyDrive_binary/output_DistilBert/fold4/checkpoint-27212.\n",
      "/usr/local/lib/python3.9/dist-packages/transformers/optimization.py:306: FutureWarning: This implementation of AdamW is deprecated and will be removed in a future version. Use the PyTorch implementation torch.optim.AdamW instead, or set `no_deprecation_warning=True` to disable this warning\n",
      "  warnings.warn(\n",
      "***** Running training *****\n",
      "  Num examples = 108838\n",
      "  Num Epochs = 4\n",
      "  Instantaneous batch size per device = 8\n",
      "  Total train batch size (w. parallel, distributed & accumulation) = 16\n",
      "  Gradient Accumulation steps = 1\n",
      "  Total optimization steps = 27212\n",
      "  Continuing training from checkpoint, will skip to saved global_step\n",
      "  Continuing training from epoch 4\n",
      "  Continuing training from global step 27212\n",
      "  Will skip the first 4 epochs then the first 0 batches in the first epoch. If this takes a lot of time, you can add the `--ignore_data_skip` flag to your launch command, but you will resume the training on data already seen by your model.\n"
     ]
    },
    {
     "data": {
      "application/vnd.jupyter.widget-view+json": {
       "model_id": "e0e825d6685c48d7af7820d676cc9a34",
       "version_major": 2,
       "version_minor": 0
      },
      "text/plain": [
       "0it [00:00, ?it/s]"
      ]
     },
     "metadata": {},
     "output_type": "display_data"
    },
    {
     "name": "stderr",
     "output_type": "stream",
     "text": [
      "Automatic Weights & Biases logging enabled, to disable set os.environ[\"WANDB_DISABLED\"] = \"true\"\n",
      "\n",
      "\n",
      "Training completed. Do not forget to share your model on huggingface.co/models =)\n",
      "\n",
      "\n",
      "Loading best model from content/drive/MyDrive_binary/output_DistilBert/fold4/checkpoint-13606 (score: 0.09198170900344849).\n"
     ]
    },
    {
     "data": {
      "text/html": [
       "\n",
       "    <div>\n",
       "      \n",
       "      <progress value='27212' max='27212' style='width:300px; height:20px; vertical-align: middle;'></progress>\n",
       "      [27212/27212 : < :, Epoch 4/4]\n",
       "    </div>\n",
       "    <table border=\"1\" class=\"dataframe\">\n",
       "  <thead>\n",
       " <tr style=\"text-align: left;\">\n",
       "      <th>Epoch</th>\n",
       "      <th>Training Loss</th>\n",
       "      <th>Validation Loss</th>\n",
       "    </tr>\n",
       "  </thead>\n",
       "  <tbody>\n",
       "  </tbody>\n",
       "</table><p>"
      ],
      "text/plain": [
       "<IPython.core.display.HTML object>"
      ]
     },
     "metadata": {},
     "output_type": "display_data"
    },
    {
     "name": "stderr",
     "output_type": "stream",
     "text": [
      "4it [00:40, 10.06s/it]"
     ]
    },
    {
     "name": "stdout",
     "output_type": "stream",
     "text": [
      "Complete for fold 4\n",
      "Running for Fold:  5\n"
     ]
    },
    {
     "name": "stderr",
     "output_type": "stream",
     "text": [
      "PyTorch: setting up devices\n",
      "The default value for the training argument `--report_to` will change in v5 (from all installed integrations to none). In v5, you will need to use `--report_to all` to get the same behavior as now. You should start updating your code and make this info disappear :-).\n",
      "Loading model from content/drive/MyDrive_binary/output_DistilBert/fold5/checkpoint-27212.\n",
      "/usr/local/lib/python3.9/dist-packages/transformers/optimization.py:306: FutureWarning: This implementation of AdamW is deprecated and will be removed in a future version. Use the PyTorch implementation torch.optim.AdamW instead, or set `no_deprecation_warning=True` to disable this warning\n",
      "  warnings.warn(\n",
      "***** Running training *****\n",
      "  Num examples = 108838\n",
      "  Num Epochs = 4\n",
      "  Instantaneous batch size per device = 8\n",
      "  Total train batch size (w. parallel, distributed & accumulation) = 16\n",
      "  Gradient Accumulation steps = 1\n",
      "  Total optimization steps = 27212\n",
      "  Continuing training from checkpoint, will skip to saved global_step\n",
      "  Continuing training from epoch 4\n",
      "  Continuing training from global step 27212\n",
      "  Will skip the first 4 epochs then the first 0 batches in the first epoch. If this takes a lot of time, you can add the `--ignore_data_skip` flag to your launch command, but you will resume the training on data already seen by your model.\n"
     ]
    },
    {
     "data": {
      "application/vnd.jupyter.widget-view+json": {
       "model_id": "fd96f6a033834dd4b1e71a79eadf56ff",
       "version_major": 2,
       "version_minor": 0
      },
      "text/plain": [
       "0it [00:00, ?it/s]"
      ]
     },
     "metadata": {},
     "output_type": "display_data"
    },
    {
     "name": "stderr",
     "output_type": "stream",
     "text": [
      "Automatic Weights & Biases logging enabled, to disable set os.environ[\"WANDB_DISABLED\"] = \"true\"\n",
      "\n",
      "\n",
      "Training completed. Do not forget to share your model on huggingface.co/models =)\n",
      "\n",
      "\n",
      "Loading best model from content/drive/MyDrive_binary/output_DistilBert/fold5/checkpoint-6803 (score: 0.07651860266923904).\n"
     ]
    },
    {
     "data": {
      "text/html": [
       "\n",
       "    <div>\n",
       "      \n",
       "      <progress value='27212' max='27212' style='width:300px; height:20px; vertical-align: middle;'></progress>\n",
       "      [27212/27212 : < :, Epoch 4/4]\n",
       "    </div>\n",
       "    <table border=\"1\" class=\"dataframe\">\n",
       "  <thead>\n",
       " <tr style=\"text-align: left;\">\n",
       "      <th>Epoch</th>\n",
       "      <th>Training Loss</th>\n",
       "      <th>Validation Loss</th>\n",
       "    </tr>\n",
       "  </thead>\n",
       "  <tbody>\n",
       "  </tbody>\n",
       "</table><p>"
      ],
      "text/plain": [
       "<IPython.core.display.HTML object>"
      ]
     },
     "metadata": {},
     "output_type": "display_data"
    },
    {
     "name": "stderr",
     "output_type": "stream",
     "text": [
      "5it [00:49,  9.95s/it]\n"
     ]
    },
    {
     "name": "stdout",
     "output_type": "stream",
     "text": [
      "Complete for fold 5\n"
     ]
    }
   ],
   "source": [
    "run_cross_validation(model_name='DistilBert',\n",
    "                         X=X,\n",
    "                         y=y, \n",
    "                         splits=5,\n",
    "                         epoch=4,\n",
    "                         checkpoint=True)"
   ]
  },
  {
   "cell_type": "markdown",
   "id": "W4F4117sKwZQ",
   "metadata": {
    "id": "W4F4117sKwZQ"
   },
   "source": [
    "## Hold Out Split"
   ]
  },
  {
   "cell_type": "code",
   "execution_count": 19,
   "id": "6f37e94d-0b71-406e-b0d3-e2e6c6ead9c7",
   "metadata": {
    "execution": {
     "iopub.execute_input": "2023-08-12T11:30:15.081781Z",
     "iopub.status.busy": "2023-08-12T11:30:15.081131Z",
     "iopub.status.idle": "2023-08-12T12:35:15.315682Z",
     "shell.execute_reply": "2023-08-12T12:35:15.315044Z",
     "shell.execute_reply.started": "2023-08-12T11:30:15.081759Z"
    }
   },
   "outputs": [
    {
     "name": "stderr",
     "output_type": "stream",
     "text": [
      "PyTorch: setting up devices\n",
      "The default value for the training argument `--report_to` will change in v5 (from all installed integrations to none). In v5, you will need to use `--report_to all` to get the same behavior as now. You should start updating your code and make this info disappear :-).\n",
      "/usr/local/lib/python3.9/dist-packages/transformers/optimization.py:306: FutureWarning: This implementation of AdamW is deprecated and will be removed in a future version. Use the PyTorch implementation torch.optim.AdamW instead, or set `no_deprecation_warning=True` to disable this warning\n",
      "  warnings.warn(\n",
      "***** Running training *****\n",
      "  Num examples = 108838\n",
      "  Num Epochs = 4\n",
      "  Instantaneous batch size per device = 8\n",
      "  Total train batch size (w. parallel, distributed & accumulation) = 16\n",
      "  Gradient Accumulation steps = 1\n",
      "  Total optimization steps = 27212\n",
      "Automatic Weights & Biases logging enabled, to disable set os.environ[\"WANDB_DISABLED\"] = \"true\"\n"
     ]
    },
    {
     "name": "stdout",
     "output_type": "stream",
     "text": [
      "Developing Model with Hold Out Splits for: DistilBert\n"
     ]
    },
    {
     "name": "stderr",
     "output_type": "stream",
     "text": [
      "/usr/local/lib/python3.9/dist-packages/torch/nn/parallel/_functions.py:68: UserWarning: Was asked to gather along dimension 0, but all input tensors were scalars; will instead unsqueeze and return a vector.\n",
      "  warnings.warn('Was asked to gather along dimension 0, but all '\n"
     ]
    },
    {
     "data": {
      "text/html": [
       "\n",
       "    <div>\n",
       "      \n",
       "      <progress value='27212' max='27212' style='width:300px; height:20px; vertical-align: middle;'></progress>\n",
       "      [27212/27212 1:05:00, Epoch 4/4]\n",
       "    </div>\n",
       "    <table border=\"1\" class=\"dataframe\">\n",
       "  <thead>\n",
       " <tr style=\"text-align: left;\">\n",
       "      <th>Epoch</th>\n",
       "      <th>Training Loss</th>\n",
       "      <th>Validation Loss</th>\n",
       "      <th>Accuracy</th>\n",
       "      <th>Precision Cb</th>\n",
       "      <th>Recall Cb</th>\n",
       "      <th>F1 Cb</th>\n",
       "      <th>Precision Ncb</th>\n",
       "      <th>Recall Ncb</th>\n",
       "      <th>F1 Ncb</th>\n",
       "      <th>Precision Overall</th>\n",
       "      <th>Recall Overall</th>\n",
       "      <th>F1 Overall</th>\n",
       "    </tr>\n",
       "  </thead>\n",
       "  <tbody>\n",
       "    <tr>\n",
       "      <td>1</td>\n",
       "      <td>0.074700</td>\n",
       "      <td>0.073785</td>\n",
       "      <td>0.977344</td>\n",
       "      <td>0.744444</td>\n",
       "      <td>0.747212</td>\n",
       "      <td>0.745826</td>\n",
       "      <td>0.988229</td>\n",
       "      <td>0.988058</td>\n",
       "      <td>0.988144</td>\n",
       "      <td>0.866337</td>\n",
       "      <td>0.867635</td>\n",
       "      <td>0.866985</td>\n",
       "    </tr>\n",
       "    <tr>\n",
       "      <td>2</td>\n",
       "      <td>0.071700</td>\n",
       "      <td>0.087765</td>\n",
       "      <td>0.977675</td>\n",
       "      <td>0.788793</td>\n",
       "      <td>0.680297</td>\n",
       "      <td>0.730539</td>\n",
       "      <td>0.985211</td>\n",
       "      <td>0.991520</td>\n",
       "      <td>0.988355</td>\n",
       "      <td>0.887002</td>\n",
       "      <td>0.835908</td>\n",
       "      <td>0.859447</td>\n",
       "    </tr>\n",
       "    <tr>\n",
       "      <td>3</td>\n",
       "      <td>0.047800</td>\n",
       "      <td>0.088034</td>\n",
       "      <td>0.978998</td>\n",
       "      <td>0.785141</td>\n",
       "      <td>0.726766</td>\n",
       "      <td>0.754826</td>\n",
       "      <td>0.987323</td>\n",
       "      <td>0.990741</td>\n",
       "      <td>0.989029</td>\n",
       "      <td>0.886232</td>\n",
       "      <td>0.858753</td>\n",
       "      <td>0.871928</td>\n",
       "    </tr>\n",
       "    <tr>\n",
       "      <td>4</td>\n",
       "      <td>0.053400</td>\n",
       "      <td>0.091121</td>\n",
       "      <td>0.978832</td>\n",
       "      <td>0.802575</td>\n",
       "      <td>0.695167</td>\n",
       "      <td>0.745020</td>\n",
       "      <td>0.985896</td>\n",
       "      <td>0.992039</td>\n",
       "      <td>0.988958</td>\n",
       "      <td>0.894236</td>\n",
       "      <td>0.843603</td>\n",
       "      <td>0.866989</td>\n",
       "    </tr>\n",
       "  </tbody>\n",
       "</table><p>"
      ],
      "text/plain": [
       "<IPython.core.display.HTML object>"
      ]
     },
     "metadata": {},
     "output_type": "display_data"
    },
    {
     "name": "stderr",
     "output_type": "stream",
     "text": [
      "***** Running Evaluation *****\n",
      "  Num examples = 12094\n",
      "  Batch size = 16\n",
      "Saving model checkpoint to content/drive/MyDrive_binary/output_DistilBert/holdout/checkpoint-6803\n",
      "Configuration saved in content/drive/MyDrive_binary/output_DistilBert/holdout/checkpoint-6803/config.json\n",
      "Model weights saved in content/drive/MyDrive_binary/output_DistilBert/holdout/checkpoint-6803/pytorch_model.bin\n",
      "/usr/local/lib/python3.9/dist-packages/torch/nn/parallel/_functions.py:68: UserWarning: Was asked to gather along dimension 0, but all input tensors were scalars; will instead unsqueeze and return a vector.\n",
      "  warnings.warn('Was asked to gather along dimension 0, but all '\n",
      "***** Running Evaluation *****\n",
      "  Num examples = 12094\n",
      "  Batch size = 16\n",
      "Saving model checkpoint to content/drive/MyDrive_binary/output_DistilBert/holdout/checkpoint-13606\n",
      "Configuration saved in content/drive/MyDrive_binary/output_DistilBert/holdout/checkpoint-13606/config.json\n",
      "Model weights saved in content/drive/MyDrive_binary/output_DistilBert/holdout/checkpoint-13606/pytorch_model.bin\n",
      "/usr/local/lib/python3.9/dist-packages/torch/nn/parallel/_functions.py:68: UserWarning: Was asked to gather along dimension 0, but all input tensors were scalars; will instead unsqueeze and return a vector.\n",
      "  warnings.warn('Was asked to gather along dimension 0, but all '\n",
      "***** Running Evaluation *****\n",
      "  Num examples = 12094\n",
      "  Batch size = 16\n",
      "Saving model checkpoint to content/drive/MyDrive_binary/output_DistilBert/holdout/checkpoint-20409\n",
      "Configuration saved in content/drive/MyDrive_binary/output_DistilBert/holdout/checkpoint-20409/config.json\n",
      "Model weights saved in content/drive/MyDrive_binary/output_DistilBert/holdout/checkpoint-20409/pytorch_model.bin\n",
      "/usr/local/lib/python3.9/dist-packages/torch/nn/parallel/_functions.py:68: UserWarning: Was asked to gather along dimension 0, but all input tensors were scalars; will instead unsqueeze and return a vector.\n",
      "  warnings.warn('Was asked to gather along dimension 0, but all '\n",
      "***** Running Evaluation *****\n",
      "  Num examples = 12094\n",
      "  Batch size = 16\n",
      "Saving model checkpoint to content/drive/MyDrive_binary/output_DistilBert/holdout/checkpoint-27212\n",
      "Configuration saved in content/drive/MyDrive_binary/output_DistilBert/holdout/checkpoint-27212/config.json\n",
      "Model weights saved in content/drive/MyDrive_binary/output_DistilBert/holdout/checkpoint-27212/pytorch_model.bin\n",
      "\n",
      "\n",
      "Training completed. Do not forget to share your model on huggingface.co/models =)\n",
      "\n",
      "\n",
      "Loading best model from content/drive/MyDrive_binary/output_DistilBert/holdout/checkpoint-6803 (score: 0.07378511130809784).\n"
     ]
    },
    {
     "name": "stdout",
     "output_type": "stream",
     "text": [
      "Complete for hold-out validate set\n"
     ]
    }
   ],
   "source": [
    "#holdout\n",
    "run_hold_out_split(model_name='DistilBert',\n",
    "                       epoch=4,\n",
    "                       train_dataset=train_dataset,\n",
    "                       eval_dataset=val_dataset,\n",
    "                       checkpoint=False)"
   ]
  },
  {
   "cell_type": "code",
   "execution_count": 20,
   "id": "cbb07800-22ad-4740-8778-ff3922c37e18",
   "metadata": {
    "execution": {
     "iopub.execute_input": "2023-08-12T12:49:16.767193Z",
     "iopub.status.busy": "2023-08-12T12:49:16.766915Z",
     "iopub.status.idle": "2023-08-12T12:49:17.529532Z",
     "shell.execute_reply": "2023-08-12T12:49:17.528682Z",
     "shell.execute_reply.started": "2023-08-12T12:49:16.767172Z"
    }
   },
   "outputs": [
    {
     "name": "stderr",
     "output_type": "stream",
     "text": [
      "PyTorch: setting up devices\n",
      "The default value for the training argument `--report_to` will change in v5 (from all installed integrations to none). In v5, you will need to use `--report_to all` to get the same behavior as now. You should start updating your code and make this info disappear :-).\n",
      "Loading model from content/drive/MyDrive_binary/output_DistilBert/holdout/checkpoint-27212.\n"
     ]
    },
    {
     "name": "stdout",
     "output_type": "stream",
     "text": [
      "Developing Model with Hold Out Splits for: DistilBert\n"
     ]
    },
    {
     "name": "stderr",
     "output_type": "stream",
     "text": [
      "/usr/local/lib/python3.9/dist-packages/transformers/optimization.py:306: FutureWarning: This implementation of AdamW is deprecated and will be removed in a future version. Use the PyTorch implementation torch.optim.AdamW instead, or set `no_deprecation_warning=True` to disable this warning\n",
      "  warnings.warn(\n",
      "***** Running training *****\n",
      "  Num examples = 108838\n",
      "  Num Epochs = 4\n",
      "  Instantaneous batch size per device = 8\n",
      "  Total train batch size (w. parallel, distributed & accumulation) = 16\n",
      "  Gradient Accumulation steps = 1\n",
      "  Total optimization steps = 27212\n",
      "  Continuing training from checkpoint, will skip to saved global_step\n",
      "  Continuing training from epoch 4\n",
      "  Continuing training from global step 27212\n",
      "  Will skip the first 4 epochs then the first 0 batches in the first epoch. If this takes a lot of time, you can add the `--ignore_data_skip` flag to your launch command, but you will resume the training on data already seen by your model.\n"
     ]
    },
    {
     "data": {
      "application/vnd.jupyter.widget-view+json": {
       "model_id": "0ff6c83e1b564f4199e52dff1873fbbc",
       "version_major": 2,
       "version_minor": 0
      },
      "text/plain": [
       "0it [00:00, ?it/s]"
      ]
     },
     "metadata": {},
     "output_type": "display_data"
    },
    {
     "name": "stderr",
     "output_type": "stream",
     "text": [
      "Automatic Weights & Biases logging enabled, to disable set os.environ[\"WANDB_DISABLED\"] = \"true\"\n",
      "\n",
      "\n",
      "Training completed. Do not forget to share your model on huggingface.co/models =)\n",
      "\n",
      "\n",
      "Loading best model from content/drive/MyDrive_binary/output_DistilBert/holdout/checkpoint-6803 (score: 0.07378511130809784).\n"
     ]
    },
    {
     "data": {
      "text/html": [
       "\n",
       "    <div>\n",
       "      \n",
       "      <progress value='27212' max='27212' style='width:300px; height:20px; vertical-align: middle;'></progress>\n",
       "      [27212/27212 : < :, Epoch 4/4]\n",
       "    </div>\n",
       "    <table border=\"1\" class=\"dataframe\">\n",
       "  <thead>\n",
       " <tr style=\"text-align: left;\">\n",
       "      <th>Epoch</th>\n",
       "      <th>Training Loss</th>\n",
       "      <th>Validation Loss</th>\n",
       "    </tr>\n",
       "  </thead>\n",
       "  <tbody>\n",
       "  </tbody>\n",
       "</table><p>"
      ],
      "text/plain": [
       "<IPython.core.display.HTML object>"
      ]
     },
     "metadata": {},
     "output_type": "display_data"
    },
    {
     "name": "stdout",
     "output_type": "stream",
     "text": [
      "Complete for hold-out validate set\n"
     ]
    }
   ],
   "source": [
    "#holdout\n",
    "run_hold_out_split(model_name='DistilBert',\n",
    "                       epoch=4,\n",
    "                       train_dataset=train_dataset,\n",
    "                       eval_dataset=val_dataset,\n",
    "                       checkpoint=True)"
   ]
  },
  {
   "cell_type": "markdown",
   "id": "w5vyE3EkK2JQ",
   "metadata": {
    "id": "w5vyE3EkK2JQ",
    "tags": []
   },
   "source": [
    "### Test Split Confusion Matrix"
   ]
  },
  {
   "cell_type": "markdown",
   "id": "fG7eAEaFtIYk",
   "metadata": {
    "id": "fG7eAEaFtIYk"
   },
   "source": [
    "#### Epoch 2\n"
   ]
  },
  {
   "cell_type": "code",
   "execution_count": 22,
   "id": "ab06398b",
   "metadata": {
    "execution": {
     "iopub.execute_input": "2023-08-12T12:58:25.422952Z",
     "iopub.status.busy": "2023-08-12T12:58:25.422309Z",
     "iopub.status.idle": "2023-08-12T12:59:03.690150Z",
     "shell.execute_reply": "2023-08-12T12:59:03.686888Z",
     "shell.execute_reply.started": "2023-08-12T12:58:25.422931Z"
    },
    "id": "ab06398b"
   },
   "outputs": [
    {
     "name": "stderr",
     "output_type": "stream",
     "text": [
      "loading configuration file content/drive/MyDrive_binary/output_DistilBert/holdout/checkpoint-13606/config.json\n",
      "Model config DistilBertConfig {\n",
      "  \"_name_or_path\": \"content/drive/MyDrive_binary/output_DistilBert/holdout/checkpoint-13606\",\n",
      "  \"activation\": \"gelu\",\n",
      "  \"architectures\": [\n",
      "    \"DistilBertForSequenceClassification\"\n",
      "  ],\n",
      "  \"attention_dropout\": 0.1,\n",
      "  \"dim\": 768,\n",
      "  \"dropout\": 0.1,\n",
      "  \"hidden_dim\": 3072,\n",
      "  \"initializer_range\": 0.02,\n",
      "  \"max_position_embeddings\": 512,\n",
      "  \"model_type\": \"distilbert\",\n",
      "  \"n_heads\": 12,\n",
      "  \"n_layers\": 6,\n",
      "  \"pad_token_id\": 0,\n",
      "  \"problem_type\": \"single_label_classification\",\n",
      "  \"qa_dropout\": 0.1,\n",
      "  \"seq_classif_dropout\": 0.2,\n",
      "  \"sinusoidal_pos_embds\": false,\n",
      "  \"tie_weights_\": true,\n",
      "  \"torch_dtype\": \"float32\",\n",
      "  \"transformers_version\": \"4.21.3\",\n",
      "  \"vocab_size\": 30522\n",
      "}\n",
      "\n",
      "loading weights file content/drive/MyDrive_binary/output_DistilBert/holdout/checkpoint-13606/pytorch_model.bin\n",
      "All model checkpoint weights were used when initializing DistilBertForSequenceClassification.\n",
      "\n",
      "All the weights of DistilBertForSequenceClassification were initialized from the model checkpoint at content/drive/MyDrive_binary/output_DistilBert/holdout/checkpoint-13606.\n",
      "If your task is similar to the task the model of the checkpoint was trained on, you can already use DistilBertForSequenceClassification for predictions without further training.\n",
      "No `TrainingArguments` passed, using `output_dir=tmp_trainer`.\n",
      "PyTorch: setting up devices\n",
      "The default value for the training argument `--report_to` will change in v5 (from all installed integrations to none). In v5, you will need to use `--report_to all` to get the same behavior as now. You should start updating your code and make this info disappear :-).\n",
      "***** Running Prediction *****\n",
      "  Num examples = 12094\n",
      "  Batch size = 16\n"
     ]
    },
    {
     "data": {
      "text/html": [],
      "text/plain": [
       "<IPython.core.display.HTML object>"
      ]
     },
     "metadata": {},
     "output_type": "display_data"
    },
    {
     "name": "stdout",
     "output_type": "stream",
     "text": [
      "Classification Report:\n",
      "              precision    recall  f1-score   support\n",
      "\n",
      "           0       0.99      0.99      0.99     11556\n",
      "           1       0.79      0.68      0.73       538\n",
      "\n",
      "    accuracy                           0.98     12094\n",
      "   macro avg       0.89      0.84      0.86     12094\n",
      "weighted avg       0.98      0.98      0.98     12094\n",
      "\n",
      "\n",
      "Label 1: Cyberbullying\n",
      "Precision:  0.7887931034482759\n",
      "Recall:  0.6802973977695167\n",
      "F-measure:  0.7305389221556886\n",
      "\n",
      "Label 0: Non-Cyberbullying\n",
      "Precision:  0.9852106620808254\n",
      "Recall:  0.9915195569401177\n",
      "F-measure:  0.9883550418355905\n",
      "\n",
      "Macro Metrics\n",
      "Precision:  0.8870018827645507\n",
      "Recall:  0.8359084773548172\n",
      "F-measure:  0.8594469819956396\n",
      "\n"
     ]
    },
    {
     "data": {
      "image/png": "[encoded data removed]",
      "text/plain": [
       "<Figure size 800x500 with 2 Axes>"
      ]
     },
     "metadata": {},
     "output_type": "display_data"
    }
   ],
   "source": [
    "compute_metrics_holdout(model_name='DistilBert',\n",
    "                        model_path='content/drive/MyDrive_binary/output_DistilBert/holdout/checkpoint-13606', \n",
    "                        average_method='binary',\n",
    "                        X_test=X_test)"
   ]
  },
  {
   "cell_type": "markdown",
   "id": "Ir4eL3T8gtLf",
   "metadata": {
    "id": "Ir4eL3T8gtLf"
   },
   "source": [
    "#### Epoch 3"
   ]
  },
  {
   "cell_type": "code",
   "execution_count": 23,
   "id": "u34gKYLGgtLr",
   "metadata": {
    "execution": {
     "iopub.execute_input": "2023-08-12T12:59:17.340471Z",
     "iopub.status.busy": "2023-08-12T12:59:17.340172Z",
     "iopub.status.idle": "2023-08-12T12:59:55.329020Z",
     "shell.execute_reply": "2023-08-12T12:59:55.328423Z",
     "shell.execute_reply.started": "2023-08-12T12:59:17.340449Z"
    },
    "id": "u34gKYLGgtLr"
   },
   "outputs": [
    {
     "name": "stderr",
     "output_type": "stream",
     "text": [
      "loading configuration file content/drive/MyDrive_binary/output_DistilBert/holdout/checkpoint-20409/config.json\n",
      "Model config DistilBertConfig {\n",
      "  \"_name_or_path\": \"content/drive/MyDrive_binary/output_DistilBert/holdout/checkpoint-20409\",\n",
      "  \"activation\": \"gelu\",\n",
      "  \"architectures\": [\n",
      "    \"DistilBertForSequenceClassification\"\n",
      "  ],\n",
      "  \"attention_dropout\": 0.1,\n",
      "  \"dim\": 768,\n",
      "  \"dropout\": 0.1,\n",
      "  \"hidden_dim\": 3072,\n",
      "  \"initializer_range\": 0.02,\n",
      "  \"max_position_embeddings\": 512,\n",
      "  \"model_type\": \"distilbert\",\n",
      "  \"n_heads\": 12,\n",
      "  \"n_layers\": 6,\n",
      "  \"pad_token_id\": 0,\n",
      "  \"problem_type\": \"single_label_classification\",\n",
      "  \"qa_dropout\": 0.1,\n",
      "  \"seq_classif_dropout\": 0.2,\n",
      "  \"sinusoidal_pos_embds\": false,\n",
      "  \"tie_weights_\": true,\n",
      "  \"torch_dtype\": \"float32\",\n",
      "  \"transformers_version\": \"4.21.3\",\n",
      "  \"vocab_size\": 30522\n",
      "}\n",
      "\n",
      "loading weights file content/drive/MyDrive_binary/output_DistilBert/holdout/checkpoint-20409/pytorch_model.bin\n",
      "All model checkpoint weights were used when initializing DistilBertForSequenceClassification.\n",
      "\n",
      "All the weights of DistilBertForSequenceClassification were initialized from the model checkpoint at content/drive/MyDrive_binary/output_DistilBert/holdout/checkpoint-20409.\n",
      "If your task is similar to the task the model of the checkpoint was trained on, you can already use DistilBertForSequenceClassification for predictions without further training.\n",
      "No `TrainingArguments` passed, using `output_dir=tmp_trainer`.\n",
      "PyTorch: setting up devices\n",
      "The default value for the training argument `--report_to` will change in v5 (from all installed integrations to none). In v5, you will need to use `--report_to all` to get the same behavior as now. You should start updating your code and make this info disappear :-).\n",
      "***** Running Prediction *****\n",
      "  Num examples = 12094\n",
      "  Batch size = 16\n"
     ]
    },
    {
     "data": {
      "text/html": [],
      "text/plain": [
       "<IPython.core.display.HTML object>"
      ]
     },
     "metadata": {},
     "output_type": "display_data"
    },
    {
     "name": "stdout",
     "output_type": "stream",
     "text": [
      "Classification Report:\n",
      "              precision    recall  f1-score   support\n",
      "\n",
      "           0       0.99      0.99      0.99     11556\n",
      "           1       0.79      0.73      0.75       538\n",
      "\n",
      "    accuracy                           0.98     12094\n",
      "   macro avg       0.89      0.86      0.87     12094\n",
      "weighted avg       0.98      0.98      0.98     12094\n",
      "\n",
      "\n",
      "Label 1: Cyberbullying\n",
      "Precision:  0.785140562248996\n",
      "Recall:  0.7267657992565055\n",
      "F-measure:  0.7548262548262549\n",
      "\n",
      "Label 0: Non-Cyberbullying\n",
      "Precision:  0.9873232149016903\n",
      "Recall:  0.9907407407407407\n",
      "F-measure:  0.989029025570145\n",
      "\n",
      "Macro Metrics\n",
      "Precision:  0.8862318885753431\n",
      "Recall:  0.8587532699986231\n",
      "F-measure:  0.8719276401981999\n",
      "\n"
     ]
    },
    {
     "data": {
      "image/png": "[encoded data removed]",
      "text/plain": [
       "<Figure size 800x500 with 2 Axes>"
      ]
     },
     "metadata": {},
     "output_type": "display_data"
    }
   ],
   "source": [
    "compute_metrics_holdout(model_name='DistilBert',\n",
    "                        model_path='content/drive/MyDrive_binary/output_DistilBert/holdout/checkpoint-20409', \n",
    "                        average_method='binary',\n",
    "                        X_test=X_test)"
   ]
  },
  {
   "cell_type": "markdown",
   "id": "KdECewOiL4tf",
   "metadata": {
    "id": "KdECewOiL4tf"
   },
   "source": [
    "#### Epoch 4"
   ]
  },
  {
   "cell_type": "code",
   "execution_count": 24,
   "id": "Rj2PqaNBL4tg",
   "metadata": {
    "execution": {
     "iopub.execute_input": "2023-08-12T12:59:55.330313Z",
     "iopub.status.busy": "2023-08-12T12:59:55.330139Z",
     "iopub.status.idle": "2023-08-12T13:00:34.251071Z",
     "shell.execute_reply": "2023-08-12T13:00:34.250465Z",
     "shell.execute_reply.started": "2023-08-12T12:59:55.330296Z"
    },
    "id": "Rj2PqaNBL4tg"
   },
   "outputs": [
    {
     "name": "stderr",
     "output_type": "stream",
     "text": [
      "loading configuration file content/drive/MyDrive_binary/output_DistilBert/holdout/checkpoint-27212/config.json\n",
      "Model config DistilBertConfig {\n",
      "  \"_name_or_path\": \"content/drive/MyDrive_binary/output_DistilBert/holdout/checkpoint-27212\",\n",
      "  \"activation\": \"gelu\",\n",
      "  \"architectures\": [\n",
      "    \"DistilBertForSequenceClassification\"\n",
      "  ],\n",
      "  \"attention_dropout\": 0.1,\n",
      "  \"dim\": 768,\n",
      "  \"dropout\": 0.1,\n",
      "  \"hidden_dim\": 3072,\n",
      "  \"initializer_range\": 0.02,\n",
      "  \"max_position_embeddings\": 512,\n",
      "  \"model_type\": \"distilbert\",\n",
      "  \"n_heads\": 12,\n",
      "  \"n_layers\": 6,\n",
      "  \"pad_token_id\": 0,\n",
      "  \"problem_type\": \"single_label_classification\",\n",
      "  \"qa_dropout\": 0.1,\n",
      "  \"seq_classif_dropout\": 0.2,\n",
      "  \"sinusoidal_pos_embds\": false,\n",
      "  \"tie_weights_\": true,\n",
      "  \"torch_dtype\": \"float32\",\n",
      "  \"transformers_version\": \"4.21.3\",\n",
      "  \"vocab_size\": 30522\n",
      "}\n",
      "\n",
      "loading weights file content/drive/MyDrive_binary/output_DistilBert/holdout/checkpoint-27212/pytorch_model.bin\n",
      "All model checkpoint weights were used when initializing DistilBertForSequenceClassification.\n",
      "\n",
      "All the weights of DistilBertForSequenceClassification were initialized from the model checkpoint at content/drive/MyDrive_binary/output_DistilBert/holdout/checkpoint-27212.\n",
      "If your task is similar to the task the model of the checkpoint was trained on, you can already use DistilBertForSequenceClassification for predictions without further training.\n",
      "No `TrainingArguments` passed, using `output_dir=tmp_trainer`.\n",
      "PyTorch: setting up devices\n",
      "The default value for the training argument `--report_to` will change in v5 (from all installed integrations to none). In v5, you will need to use `--report_to all` to get the same behavior as now. You should start updating your code and make this info disappear :-).\n",
      "***** Running Prediction *****\n",
      "  Num examples = 12094\n",
      "  Batch size = 16\n"
     ]
    },
    {
     "data": {
      "text/html": [],
      "text/plain": [
       "<IPython.core.display.HTML object>"
      ]
     },
     "metadata": {},
     "output_type": "display_data"
    },
    {
     "name": "stdout",
     "output_type": "stream",
     "text": [
      "Classification Report:\n",
      "              precision    recall  f1-score   support\n",
      "\n",
      "           0       0.99      0.99      0.99     11556\n",
      "           1       0.80      0.70      0.75       538\n",
      "\n",
      "    accuracy                           0.98     12094\n",
      "   macro avg       0.89      0.84      0.87     12094\n",
      "weighted avg       0.98      0.98      0.98     12094\n",
      "\n",
      "\n",
      "Label 1: Cyberbullying\n",
      "Precision:  0.8025751072961373\n",
      "Recall:  0.6951672862453532\n",
      "F-measure:  0.745019920318725\n",
      "\n",
      "Label 0: Non-Cyberbullying\n",
      "Precision:  0.9858961128310973\n",
      "Recall:  0.9920387677397023\n",
      "F-measure:  0.9889579020013802\n",
      "\n",
      "Macro Metrics\n",
      "Precision:  0.8942356100636173\n",
      "Recall:  0.8436030269925278\n",
      "F-measure:  0.8669889111600526\n",
      "\n"
     ]
    },
    {
     "data": {
      "image/png": "[encoded data removed]",
      "text/plain": [
       "<Figure size 800x500 with 2 Axes>"
      ]
     },
     "metadata": {},
     "output_type": "display_data"
    }
   ],
   "source": [
    "compute_metrics_holdout(model_name='DistilBert',\n",
    "                        model_path='content/drive/MyDrive_binary/output_DistilBert/holdout/checkpoint-27212', \n",
    "                        average_method='binary',\n",
    "                        X_test=X_test)"
   ]
  },
  {
   "cell_type": "markdown",
   "id": "uFLTBUzxL4MC",
   "metadata": {
    "id": "uFLTBUzxL4MC"
   },
   "source": [
    "#### Epoch 1"
   ]
  },
  {
   "cell_type": "code",
   "execution_count": 25,
   "id": "MrkHnZgHL4MC",
   "metadata": {
    "execution": {
     "iopub.execute_input": "2023-08-12T13:00:34.252466Z",
     "iopub.status.busy": "2023-08-12T13:00:34.251901Z",
     "iopub.status.idle": "2023-08-12T13:01:11.852219Z",
     "shell.execute_reply": "2023-08-12T13:01:11.851688Z",
     "shell.execute_reply.started": "2023-08-12T13:00:34.252445Z"
    },
    "id": "MrkHnZgHL4MC"
   },
   "outputs": [
    {
     "name": "stderr",
     "output_type": "stream",
     "text": [
      "loading configuration file content/drive/MyDrive_binary/output_DistilBert/holdout/checkpoint-6803/config.json\n",
      "Model config DistilBertConfig {\n",
      "  \"_name_or_path\": \"content/drive/MyDrive_binary/output_DistilBert/holdout/checkpoint-6803\",\n",
      "  \"activation\": \"gelu\",\n",
      "  \"architectures\": [\n",
      "    \"DistilBertForSequenceClassification\"\n",
      "  ],\n",
      "  \"attention_dropout\": 0.1,\n",
      "  \"dim\": 768,\n",
      "  \"dropout\": 0.1,\n",
      "  \"hidden_dim\": 3072,\n",
      "  \"initializer_range\": 0.02,\n",
      "  \"max_position_embeddings\": 512,\n",
      "  \"model_type\": \"distilbert\",\n",
      "  \"n_heads\": 12,\n",
      "  \"n_layers\": 6,\n",
      "  \"pad_token_id\": 0,\n",
      "  \"problem_type\": \"single_label_classification\",\n",
      "  \"qa_dropout\": 0.1,\n",
      "  \"seq_classif_dropout\": 0.2,\n",
      "  \"sinusoidal_pos_embds\": false,\n",
      "  \"tie_weights_\": true,\n",
      "  \"torch_dtype\": \"float32\",\n",
      "  \"transformers_version\": \"4.21.3\",\n",
      "  \"vocab_size\": 30522\n",
      "}\n",
      "\n",
      "loading weights file content/drive/MyDrive_binary/output_DistilBert/holdout/checkpoint-6803/pytorch_model.bin\n",
      "All model checkpoint weights were used when initializing DistilBertForSequenceClassification.\n",
      "\n",
      "All the weights of DistilBertForSequenceClassification were initialized from the model checkpoint at content/drive/MyDrive_binary/output_DistilBert/holdout/checkpoint-6803.\n",
      "If your task is similar to the task the model of the checkpoint was trained on, you can already use DistilBertForSequenceClassification for predictions without further training.\n",
      "No `TrainingArguments` passed, using `output_dir=tmp_trainer`.\n",
      "PyTorch: setting up devices\n",
      "The default value for the training argument `--report_to` will change in v5 (from all installed integrations to none). In v5, you will need to use `--report_to all` to get the same behavior as now. You should start updating your code and make this info disappear :-).\n",
      "***** Running Prediction *****\n",
      "  Num examples = 12094\n",
      "  Batch size = 16\n"
     ]
    },
    {
     "data": {
      "text/html": [],
      "text/plain": [
       "<IPython.core.display.HTML object>"
      ]
     },
     "metadata": {},
     "output_type": "display_data"
    },
    {
     "name": "stdout",
     "output_type": "stream",
     "text": [
      "Classification Report:\n",
      "              precision    recall  f1-score   support\n",
      "\n",
      "           0       0.99      0.99      0.99     11556\n",
      "           1       0.74      0.75      0.75       538\n",
      "\n",
      "    accuracy                           0.98     12094\n",
      "   macro avg       0.87      0.87      0.87     12094\n",
      "weighted avg       0.98      0.98      0.98     12094\n",
      "\n",
      "\n",
      "Label 1: Cyberbullying\n",
      "Precision:  0.7444444444444445\n",
      "Recall:  0.7472118959107806\n",
      "F-measure:  0.74582560296846\n",
      "\n",
      "Label 0: Non-Cyberbullying\n",
      "Precision:  0.9882291846979401\n",
      "Recall:  0.9880581516095535\n",
      "F-measure:  0.9881436607529208\n",
      "\n",
      "Macro Metrics\n",
      "Precision:  0.8663368145711923\n",
      "Recall:  0.8676350237601671\n",
      "F-measure:  0.8669846318606904\n",
      "\n"
     ]
    },
    {
     "data": {
      "image/png": "[encoded data removed]",
      "text/plain": [
       "<Figure size 800x500 with 2 Axes>"
      ]
     },
     "metadata": {},
     "output_type": "display_data"
    }
   ],
   "source": [
    "compute_metrics_holdout(model_name='DistilBert',\n",
    "                        model_path='content/drive/MyDrive_binary/output_DistilBert/holdout/checkpoint-6803', \n",
    "                        average_method='binary',\n",
    "                        X_test=X_test)"
   ]
  }
 ],
 "metadata": {
  "accelerator": "GPU",
  "colab": {
   "collapsed_sections": [
    "t6kQkR3fK9T0",
    "fG7eAEaFtIYk",
    "Ir4eL3T8gtLf",
    "KdECewOiL4tf",
    "uFLTBUzxL4MC",
    "eFNCqLf6L3pO",
    "OYWrSlPXL3Ac",
    "jhRILtDlL2XU",
    "OC_9eI5WMF8p",
    "5CH0cmxrMFSV",
    "xgLbAOZ7MEdd",
    "wTPokVq2pcUu",
    "5vlEdGyfpcUv",
    "3SHI4jYYpcUv",
    "jptg0BcZpcUv",
    "_AlZhKF5pcUv",
    "6MAeDeTWpcUv",
    "yqeXDiEipcUw",
    "ArQmCEzspcUw",
    "oDn0CPRXpcUw",
    "mYNtqY5cpcUw"
   ],
   "name": "Fine Tune Transformers from HuggingFace RoBerta (Sample).ipynb",
   "provenance": []
  },
  "kernelspec": {
   "display_name": "Python 3 (ipykernel)",
   "language": "python",
   "name": "python3"
  },
  "language_info": {
   "codemirror_mode": {
    "name": "ipython",
    "version": 3
   },
   "file_extension": ".py",
   "mimetype": "text/x-python",
   "name": "python",
   "nbconvert_exporter": "python",
   "pygments_lexer": "ipython3",
   "version": "3.9.16"
  }
 },
 "nbformat": 4,
 "nbformat_minor": 5
}
