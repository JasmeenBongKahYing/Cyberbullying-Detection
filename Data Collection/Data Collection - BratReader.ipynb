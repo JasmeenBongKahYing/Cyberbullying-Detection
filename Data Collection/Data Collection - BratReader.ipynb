{
 "cells": [
  {
   "cell_type": "markdown",
   "id": "1bfb0f45",
   "metadata": {},
   "source": [
    "# Data Collection"
   ]
  },
  {
   "cell_type": "markdown",
   "id": "9b2ee8f4",
   "metadata": {},
   "source": [
    "Using BratReader"
   ]
  },
  {
   "cell_type": "code",
   "execution_count": 3,
   "id": "729a4992",
   "metadata": {},
   "outputs": [
    {
     "name": "stdout",
     "output_type": "stream",
     "text": [
      "successfully modified\n"
     ]
    }
   ],
   "source": [
    "import os\n",
    "\n",
    "# Define a mapping from numbers to words\n",
    "number_to_word = {\n",
    "    '1': 'one',\n",
    "    '2': 'two',\n",
    "}\n",
    "\n",
    "# Path to the folder containing the annotation files\n",
    "folder_path = \"cyberbullying-data\"\n",
    "\n",
    "# Loop through each file in the folder\n",
    "for filename in os.listdir(folder_path):\n",
    "    filepath = os.path.join(folder_path, filename)\n",
    "\n",
    "    # Read the content of the annotation file with 'utf-8' encoding\n",
    "    with open(filepath, 'r', encoding='utf-8') as file:\n",
    "        content = file.read()\n",
    "\n",
    "    # Replace the numbers with words in the format of 1_Harasser, 1_Victim, etc.\n",
    "    for number, word in number_to_word.items():\n",
    "        for role in ['Harasser', 'Victim', 'Bystander_defender', 'Bystander_assistant']:\n",
    "            content = content.replace(f'{number}_{role}', f'{word}_{role}')\n",
    "\n",
    "    # Save the modified content back to the file\n",
    "    with open(filepath, 'w', encoding='utf-8') as file:\n",
    "        file.write(content)\n",
    "\n",
    "print(\"successfully modified\")\n"
   ]
  },
  {
   "cell_type": "code",
   "execution_count": 5,
   "id": "aa1ec30c",
   "metadata": {},
   "outputs": [
    {
     "name": "stdout",
     "output_type": "stream",
     "text": [
      "Loaded RepoModel successfully.\n",
      "Successfully save to xml\n"
     ]
    }
   ],
   "source": [
    "\n",
    "import bratreader\n",
    "from bratreader.repomodel import RepoModel\n",
    "\n",
    "# load repomodel\n",
    "data_path = \"cyberbullying-data\"\n",
    "r = RepoModel(data_path)\n",
    "\n",
    "print(\"Loaded RepoModel successfully.\")\n",
    "\n",
    "r.save_xml(\"xml_folder\")\n",
    "\n",
    "print(\"Successfully save to xml\")"
   ]
  }
 ],
 "metadata": {
  "kernelspec": {
   "display_name": "Python 3 (ipykernel)",
   "language": "python",
   "name": "python3"
  },
  "language_info": {
   "codemirror_mode": {
    "name": "ipython",
    "version": 3
   },
   "file_extension": ".py",
   "mimetype": "text/x-python",
   "name": "python",
   "nbconvert_exporter": "python",
   "pygments_lexer": "ipython3",
   "version": "3.9.12"
  },
  "vscode": {
   "interpreter": {
    "hash": "b0992ba04dbb4ba3933145389fe5d727f3bce345a3327f07e73072ad02ec5557"
   }
  }
 },
 "nbformat": 4,
 "nbformat_minor": 5
}
